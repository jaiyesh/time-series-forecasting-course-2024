{
 "cells": [
  {
   "cell_type": "markdown",
   "id": "5f39be88",
   "metadata": {},
   "source": [
    "## Multi Value Containers Data Structures and Sequences "
   ]
  },
  {
   "cell_type": "markdown",
   "id": "7850374a",
   "metadata": {},
   "source": [
    "#### Lists\n",
    "\n",
    "- Used to store multiple items in a single variable\n",
    "\n",
    "- square brackets[]\n",
    "\n",
    "- Mutable: Change them: length,elements,elements values"
   ]
  },
  {
   "cell_type": "code",
   "execution_count": 1,
   "id": "ae852aeb",
   "metadata": {},
   "outputs": [],
   "source": [
    "porosity = [0.3,0.5,0.9,0.2,0.1,0.4]"
   ]
  },
  {
   "cell_type": "code",
   "execution_count": 2,
   "id": "1e5531c0",
   "metadata": {},
   "outputs": [
    {
     "data": {
      "text/plain": [
       "[0.3, 0.5, 0.9, 0.2, 0.1, 0.4]"
      ]
     },
     "execution_count": 2,
     "metadata": {},
     "output_type": "execute_result"
    }
   ],
   "source": [
    "\n",
    "porosity"
   ]
  },
  {
   "cell_type": "code",
   "execution_count": 3,
   "id": "5f16df21",
   "metadata": {},
   "outputs": [
    {
     "data": {
      "text/plain": [
       "list"
      ]
     },
     "execution_count": 3,
     "metadata": {},
     "output_type": "execute_result"
    }
   ],
   "source": [
    "type(porosity)"
   ]
  },
  {
   "cell_type": "code",
   "execution_count": 4,
   "id": "88c5d8b6",
   "metadata": {},
   "outputs": [
    {
     "data": {
      "text/plain": [
       "0.9"
      ]
     },
     "execution_count": 4,
     "metadata": {},
     "output_type": "execute_result"
    }
   ],
   "source": [
    "#Indexing\n",
    "\n",
    "porosity[2]"
   ]
  },
  {
   "cell_type": "code",
   "execution_count": 5,
   "id": "2f4c3569",
   "metadata": {},
   "outputs": [
    {
     "data": {
      "text/plain": [
       "90.0"
      ]
     },
     "execution_count": 5,
     "metadata": {},
     "output_type": "execute_result"
    }
   ],
   "source": [
    "porosity[2]*100"
   ]
  },
  {
   "cell_type": "code",
   "execution_count": 6,
   "id": "9028ec33",
   "metadata": {},
   "outputs": [
    {
     "data": {
      "text/plain": [
       "[0.3, 0.5, 0.9, 0.2, 0.1, 0.4]"
      ]
     },
     "execution_count": 6,
     "metadata": {},
     "output_type": "execute_result"
    }
   ],
   "source": [
    "porosity"
   ]
  },
  {
   "cell_type": "code",
   "execution_count": 7,
   "id": "a9e9497f",
   "metadata": {},
   "outputs": [
    {
     "data": {
      "text/plain": [
       "0.4"
      ]
     },
     "execution_count": 7,
     "metadata": {},
     "output_type": "execute_result"
    }
   ],
   "source": [
    "#negative indexing\n",
    "porosity[-1]"
   ]
  },
  {
   "cell_type": "code",
   "execution_count": 8,
   "id": "edc1d64f",
   "metadata": {},
   "outputs": [
    {
     "data": {
      "text/plain": [
       "0.9"
      ]
     },
     "execution_count": 8,
     "metadata": {},
     "output_type": "execute_result"
    }
   ],
   "source": [
    "porosity[2]"
   ]
  },
  {
   "cell_type": "code",
   "execution_count": 9,
   "id": "d2a0ac7f",
   "metadata": {},
   "outputs": [
    {
     "data": {
      "text/plain": [
       "0.9"
      ]
     },
     "execution_count": 9,
     "metadata": {},
     "output_type": "execute_result"
    }
   ],
   "source": [
    "porosity[-4]"
   ]
  },
  {
   "cell_type": "code",
   "execution_count": 10,
   "id": "c9f0991a",
   "metadata": {},
   "outputs": [
    {
     "data": {
      "text/plain": [
       "0.4"
      ]
     },
     "execution_count": 10,
     "metadata": {},
     "output_type": "execute_result"
    }
   ],
   "source": [
    "porosity[5]"
   ]
  },
  {
   "cell_type": "code",
   "execution_count": 11,
   "id": "14798cf9",
   "metadata": {},
   "outputs": [
    {
     "data": {
      "text/plain": [
       "[0.3, 0.5, 0.9, 0.2, 0.1, 0.4]"
      ]
     },
     "execution_count": 11,
     "metadata": {},
     "output_type": "execute_result"
    }
   ],
   "source": [
    "porosity"
   ]
  },
  {
   "cell_type": "code",
   "execution_count": 12,
   "id": "69fa1610",
   "metadata": {},
   "outputs": [],
   "source": [
    "porosity[3] = 0.546"
   ]
  },
  {
   "cell_type": "code",
   "execution_count": 13,
   "id": "45479d09",
   "metadata": {},
   "outputs": [
    {
     "data": {
      "text/plain": [
       "[0.3, 0.5, 0.9, 0.546, 0.1, 0.4]"
      ]
     },
     "execution_count": 13,
     "metadata": {},
     "output_type": "execute_result"
    }
   ],
   "source": [
    "porosity"
   ]
  },
  {
   "cell_type": "code",
   "execution_count": 14,
   "id": "ad4d6f0f",
   "metadata": {},
   "outputs": [
    {
     "data": {
      "text/plain": [
       "6"
      ]
     },
     "execution_count": 14,
     "metadata": {},
     "output_type": "execute_result"
    }
   ],
   "source": [
    "len(porosity)"
   ]
  },
  {
   "cell_type": "code",
   "execution_count": 15,
   "id": "1a994734",
   "metadata": {},
   "outputs": [],
   "source": [
    "porosity.append(0.85)"
   ]
  },
  {
   "cell_type": "code",
   "execution_count": 16,
   "id": "13de2093",
   "metadata": {},
   "outputs": [
    {
     "data": {
      "text/plain": [
       "[0.3, 0.5, 0.9, 0.546, 0.1, 0.4, 0.85]"
      ]
     },
     "execution_count": 16,
     "metadata": {},
     "output_type": "execute_result"
    }
   ],
   "source": [
    "porosity"
   ]
  },
  {
   "cell_type": "code",
   "execution_count": 19,
   "id": "365968ed",
   "metadata": {},
   "outputs": [],
   "source": [
    "##EMpty list can be used to populate it later with certain calculations\n",
    "specificgravity_of_crudes = [0.8,0.7,0.85,0.76,0.91,0.64,0.65]\n",
    "denWater = 62.4 #lb/ft3\n"
   ]
  },
  {
   "cell_type": "code",
   "execution_count": 20,
   "id": "34b1afdc",
   "metadata": {},
   "outputs": [],
   "source": [
    "CrudeDensity = []\n",
    "\n",
    "i = 0 \n",
    "\n",
    "while i<len(specificgravity_of_crudes):\n",
    "    denO = denWater*specificgravity_of_crudes[i]\n",
    "    CrudeDensity.append(denO)\n",
    "    i+=1"
   ]
  },
  {
   "cell_type": "code",
   "execution_count": 21,
   "id": "a756e622",
   "metadata": {},
   "outputs": [
    {
     "data": {
      "text/plain": [
       "[49.92, 43.68, 53.04, 47.424, 56.784, 39.936, 40.56]"
      ]
     },
     "execution_count": 21,
     "metadata": {},
     "output_type": "execute_result"
    }
   ],
   "source": [
    "CrudeDensity"
   ]
  },
  {
   "cell_type": "code",
   "execution_count": 22,
   "id": "71f29260",
   "metadata": {},
   "outputs": [
    {
     "data": {
      "text/plain": [
       "7"
      ]
     },
     "execution_count": 22,
     "metadata": {},
     "output_type": "execute_result"
    }
   ],
   "source": [
    "len(specificgravity_of_crudes)"
   ]
  },
  {
   "cell_type": "code",
   "execution_count": 24,
   "id": "3f930cb9",
   "metadata": {},
   "outputs": [
    {
     "ename": "IndexError",
     "evalue": "list index out of range",
     "output_type": "error",
     "traceback": [
      "\u001b[1;31m---------------------------------------------------------------------------\u001b[0m",
      "\u001b[1;31mIndexError\u001b[0m                                Traceback (most recent call last)",
      "\u001b[1;32m<ipython-input-24-cfc5aba2774a>\u001b[0m in \u001b[0;36m<module>\u001b[1;34m\u001b[0m\n\u001b[1;32m----> 1\u001b[1;33m \u001b[0mspecificgravity_of_crudes\u001b[0m\u001b[1;33m[\u001b[0m\u001b[1;36m7\u001b[0m\u001b[1;33m]\u001b[0m\u001b[1;33m\u001b[0m\u001b[1;33m\u001b[0m\u001b[0m\n\u001b[0m",
      "\u001b[1;31mIndexError\u001b[0m: list index out of range"
     ]
    }
   ],
   "source": [
    "specificgravity_of_crudes[7]"
   ]
  },
  {
   "cell_type": "code",
   "execution_count": 25,
   "id": "6a5f5eda",
   "metadata": {},
   "outputs": [],
   "source": [
    "###Insert"
   ]
  },
  {
   "cell_type": "code",
   "execution_count": 26,
   "id": "37e1a16b",
   "metadata": {},
   "outputs": [],
   "source": [
    "a = [1,2,3,4,'oil']"
   ]
  },
  {
   "cell_type": "code",
   "execution_count": 27,
   "id": "8d4e992b",
   "metadata": {},
   "outputs": [
    {
     "data": {
      "text/plain": [
       "[1, 2, 3, 4, 'oil']"
      ]
     },
     "execution_count": 27,
     "metadata": {},
     "output_type": "execute_result"
    }
   ],
   "source": [
    "a"
   ]
  },
  {
   "cell_type": "code",
   "execution_count": 28,
   "id": "d4123b73",
   "metadata": {},
   "outputs": [],
   "source": [
    "a.append('petro')"
   ]
  },
  {
   "cell_type": "code",
   "execution_count": 29,
   "id": "06f22c7f",
   "metadata": {},
   "outputs": [
    {
     "data": {
      "text/plain": [
       "[1, 2, 3, 4, 'oil', 'petro']"
      ]
     },
     "execution_count": 29,
     "metadata": {},
     "output_type": "execute_result"
    }
   ],
   "source": [
    "a"
   ]
  },
  {
   "cell_type": "code",
   "execution_count": 30,
   "id": "6d3332c6",
   "metadata": {},
   "outputs": [],
   "source": [
    "a.insert(2,'gas')"
   ]
  },
  {
   "cell_type": "code",
   "execution_count": 31,
   "id": "17848014",
   "metadata": {},
   "outputs": [
    {
     "data": {
      "text/plain": [
       "[1, 2, 'gas', 3, 4, 'oil', 'petro']"
      ]
     },
     "execution_count": 31,
     "metadata": {},
     "output_type": "execute_result"
    }
   ],
   "source": [
    "a"
   ]
  },
  {
   "cell_type": "code",
   "execution_count": 32,
   "id": "10eda9f3",
   "metadata": {},
   "outputs": [
    {
     "data": {
      "text/plain": [
       "'oil'"
      ]
     },
     "execution_count": 32,
     "metadata": {},
     "output_type": "execute_result"
    }
   ],
   "source": [
    "a[-2]"
   ]
  },
  {
   "cell_type": "code",
   "execution_count": 33,
   "id": "df548337",
   "metadata": {},
   "outputs": [
    {
     "data": {
      "text/plain": [
       "'oil'"
      ]
     },
     "execution_count": 33,
     "metadata": {},
     "output_type": "execute_result"
    }
   ],
   "source": [
    "a[5]"
   ]
  },
  {
   "cell_type": "code",
   "execution_count": 34,
   "id": "a7aa1a91",
   "metadata": {},
   "outputs": [],
   "source": [
    "#slicing:cuts a slice(sub-part) off a list\n",
    "\n"
   ]
  },
  {
   "cell_type": "code",
   "execution_count": 35,
   "id": "b24ab46c",
   "metadata": {},
   "outputs": [],
   "source": [
    "superset = [1,2,3,4,'gas','oil','time series','petroleum',876]"
   ]
  },
  {
   "cell_type": "code",
   "execution_count": 36,
   "id": "3441938c",
   "metadata": {},
   "outputs": [
    {
     "data": {
      "text/plain": [
       "[1, 2, 3, 4, 'gas', 'oil', 'time series', 'petroleum', 876]"
      ]
     },
     "execution_count": 36,
     "metadata": {},
     "output_type": "execute_result"
    }
   ],
   "source": [
    "superset "
   ]
  },
  {
   "cell_type": "code",
   "execution_count": 37,
   "id": "99d5bea9",
   "metadata": {},
   "outputs": [],
   "source": [
    "#slicing syntax: listname[start:stop:step],start is included, stop is not "
   ]
  },
  {
   "cell_type": "code",
   "execution_count": 38,
   "id": "2036190c",
   "metadata": {},
   "outputs": [
    {
     "data": {
      "text/plain": [
       "['gas', 'oil', 'time series', 'petroleum']"
      ]
     },
     "execution_count": 38,
     "metadata": {},
     "output_type": "execute_result"
    }
   ],
   "source": [
    "superset[4:8]"
   ]
  },
  {
   "cell_type": "code",
   "execution_count": 39,
   "id": "3a5df681",
   "metadata": {},
   "outputs": [
    {
     "data": {
      "text/plain": [
       "['gas', 'time series']"
      ]
     },
     "execution_count": 39,
     "metadata": {},
     "output_type": "execute_result"
    }
   ],
   "source": [
    "superset[4:8:2]"
   ]
  },
  {
   "cell_type": "code",
   "execution_count": 40,
   "id": "49f64016",
   "metadata": {},
   "outputs": [
    {
     "data": {
      "text/plain": [
       "[1, 2, 3, 4, 'gas', 'oil', 'time series', 'petroleum', 876]"
      ]
     },
     "execution_count": 40,
     "metadata": {},
     "output_type": "execute_result"
    }
   ],
   "source": [
    "superset"
   ]
  },
  {
   "cell_type": "code",
   "execution_count": 41,
   "id": "5cd35df3",
   "metadata": {},
   "outputs": [],
   "source": [
    "subset1 = superset[4:8]"
   ]
  },
  {
   "cell_type": "code",
   "execution_count": 42,
   "id": "d5ad1249",
   "metadata": {},
   "outputs": [],
   "source": [
    "subset2 = superset[4:8:2]"
   ]
  },
  {
   "cell_type": "code",
   "execution_count": 43,
   "id": "f328cb72",
   "metadata": {},
   "outputs": [
    {
     "data": {
      "text/plain": [
       "['gas', 'oil', 'time series', 'petroleum']"
      ]
     },
     "execution_count": 43,
     "metadata": {},
     "output_type": "execute_result"
    }
   ],
   "source": [
    "subset1"
   ]
  },
  {
   "cell_type": "code",
   "execution_count": 44,
   "id": "58fb8419",
   "metadata": {},
   "outputs": [
    {
     "data": {
      "text/plain": [
       "['gas', 'time series']"
      ]
     },
     "execution_count": 44,
     "metadata": {},
     "output_type": "execute_result"
    }
   ],
   "source": [
    "subset2"
   ]
  },
  {
   "cell_type": "code",
   "execution_count": 45,
   "id": "bb0e215d",
   "metadata": {},
   "outputs": [
    {
     "data": {
      "text/plain": [
       "[1, 2, 3, 4, 'gas', 'oil', 'time series', 'petroleum', 876]"
      ]
     },
     "execution_count": 45,
     "metadata": {},
     "output_type": "execute_result"
    }
   ],
   "source": [
    "superset"
   ]
  },
  {
   "cell_type": "code",
   "execution_count": 46,
   "id": "d816ded1",
   "metadata": {},
   "outputs": [
    {
     "data": {
      "text/plain": [
       "[1, 4]"
      ]
     },
     "execution_count": 46,
     "metadata": {},
     "output_type": "execute_result"
    }
   ],
   "source": [
    "superset[:6:3]"
   ]
  },
  {
   "cell_type": "code",
   "execution_count": 47,
   "id": "12be0e32",
   "metadata": {},
   "outputs": [
    {
     "data": {
      "text/plain": [
       "[1, 3, 'gas', 'time series', 876]"
      ]
     },
     "execution_count": 47,
     "metadata": {},
     "output_type": "execute_result"
    }
   ],
   "source": [
    "superset[::2]"
   ]
  },
  {
   "cell_type": "code",
   "execution_count": 48,
   "id": "98b1b1f6",
   "metadata": {},
   "outputs": [
    {
     "data": {
      "text/plain": [
       "[1, 2, 3, 4, 'gas', 'oil', 'time series', 'petroleum', 876]"
      ]
     },
     "execution_count": 48,
     "metadata": {},
     "output_type": "execute_result"
    }
   ],
   "source": [
    "superset"
   ]
  },
  {
   "cell_type": "code",
   "execution_count": 49,
   "id": "6fbeabef",
   "metadata": {},
   "outputs": [
    {
     "data": {
      "text/plain": [
       "[876, 'petroleum', 'time series', 'oil', 'gas', 4, 3, 2, 1]"
      ]
     },
     "execution_count": 49,
     "metadata": {},
     "output_type": "execute_result"
    }
   ],
   "source": [
    "superset[-1::-1]"
   ]
  },
  {
   "cell_type": "code",
   "execution_count": 50,
   "id": "19b6bd13",
   "metadata": {},
   "outputs": [
    {
     "data": {
      "text/plain": [
       "[1, 2, 3, 4, 'gas', 'oil', 'time series', 'petroleum', 876]"
      ]
     },
     "execution_count": 50,
     "metadata": {},
     "output_type": "execute_result"
    }
   ],
   "source": [
    "superset"
   ]
  },
  {
   "cell_type": "code",
   "execution_count": 51,
   "id": "2cc1c9c4",
   "metadata": {},
   "outputs": [
    {
     "data": {
      "text/plain": [
       "['time series', 'oil', 'gas', 4]"
      ]
     },
     "execution_count": 51,
     "metadata": {},
     "output_type": "execute_result"
    }
   ],
   "source": [
    "superset[6:2:-1]"
   ]
  },
  {
   "cell_type": "code",
   "execution_count": 52,
   "id": "373eec2d",
   "metadata": {},
   "outputs": [
    {
     "data": {
      "text/plain": [
       "[]"
      ]
     },
     "execution_count": 52,
     "metadata": {},
     "output_type": "execute_result"
    }
   ],
   "source": [
    "superset[6:2]"
   ]
  },
  {
   "cell_type": "code",
   "execution_count": 53,
   "id": "f37ca7ff",
   "metadata": {},
   "outputs": [
    {
     "data": {
      "text/plain": [
       "[1, 2, 3, 4, 'gas', 'oil', 'time series', 'petroleum', 876]"
      ]
     },
     "execution_count": 53,
     "metadata": {},
     "output_type": "execute_result"
    }
   ],
   "source": [
    "superset"
   ]
  },
  {
   "cell_type": "code",
   "execution_count": 54,
   "id": "93c861f3",
   "metadata": {},
   "outputs": [],
   "source": [
    "#List operations"
   ]
  },
  {
   "cell_type": "code",
   "execution_count": 55,
   "id": "98ecff73",
   "metadata": {},
   "outputs": [],
   "source": [
    "a = [1,2,3]\n",
    "b = [4,5,6]\n"
   ]
  },
  {
   "cell_type": "code",
   "execution_count": 56,
   "id": "ff137c38",
   "metadata": {},
   "outputs": [
    {
     "data": {
      "text/plain": [
       "[1, 2, 3, 4, 5, 6]"
      ]
     },
     "execution_count": 56,
     "metadata": {},
     "output_type": "execute_result"
    }
   ],
   "source": [
    "a+b"
   ]
  },
  {
   "cell_type": "code",
   "execution_count": 57,
   "id": "f003a67d",
   "metadata": {},
   "outputs": [
    {
     "data": {
      "text/plain": [
       "[1, 2, 3, 1, 2, 3, 1, 2, 3]"
      ]
     },
     "execution_count": 57,
     "metadata": {},
     "output_type": "execute_result"
    }
   ],
   "source": [
    "a*3 # a+a+a"
   ]
  },
  {
   "cell_type": "code",
   "execution_count": 58,
   "id": "0bb48304",
   "metadata": {},
   "outputs": [
    {
     "ename": "TypeError",
     "evalue": "unsupported operand type(s) for -: 'list' and 'list'",
     "output_type": "error",
     "traceback": [
      "\u001b[1;31m---------------------------------------------------------------------------\u001b[0m",
      "\u001b[1;31mTypeError\u001b[0m                                 Traceback (most recent call last)",
      "\u001b[1;32m<ipython-input-58-5ae0619f8fe1>\u001b[0m in \u001b[0;36m<module>\u001b[1;34m\u001b[0m\n\u001b[1;32m----> 1\u001b[1;33m \u001b[0ma\u001b[0m\u001b[1;33m-\u001b[0m\u001b[0mb\u001b[0m\u001b[1;33m\u001b[0m\u001b[1;33m\u001b[0m\u001b[0m\n\u001b[0m",
      "\u001b[1;31mTypeError\u001b[0m: unsupported operand type(s) for -: 'list' and 'list'"
     ]
    }
   ],
   "source": [
    "a-b"
   ]
  },
  {
   "cell_type": "code",
   "execution_count": 59,
   "id": "394d9117",
   "metadata": {},
   "outputs": [
    {
     "ename": "TypeError",
     "evalue": "can't multiply sequence by non-int of type 'list'",
     "output_type": "error",
     "traceback": [
      "\u001b[1;31m---------------------------------------------------------------------------\u001b[0m",
      "\u001b[1;31mTypeError\u001b[0m                                 Traceback (most recent call last)",
      "\u001b[1;32m<ipython-input-59-8ce765dcfa30>\u001b[0m in \u001b[0;36m<module>\u001b[1;34m\u001b[0m\n\u001b[1;32m----> 1\u001b[1;33m \u001b[0ma\u001b[0m\u001b[1;33m*\u001b[0m\u001b[0mb\u001b[0m\u001b[1;33m\u001b[0m\u001b[1;33m\u001b[0m\u001b[0m\n\u001b[0m",
      "\u001b[1;31mTypeError\u001b[0m: can't multiply sequence by non-int of type 'list'"
     ]
    }
   ],
   "source": [
    "a*b"
   ]
  },
  {
   "cell_type": "markdown",
   "id": "96aa27e3",
   "metadata": {},
   "source": [
    "### Tuples"
   ]
  },
  {
   "cell_type": "markdown",
   "id": "9f3f9691",
   "metadata": {},
   "source": [
    " - ordered and unchangeable\n",
    " \n",
    " - parenthesis ()\n",
    " \n",
    " - Immutable: cannot be change"
   ]
  },
  {
   "cell_type": "code",
   "execution_count": 78,
   "id": "83bab050",
   "metadata": {},
   "outputs": [],
   "source": [
    "oilprd = (5000,1000,23000,7862,\"hello\",[45,56,\"fddf\",(45,\"fgrf\")])"
   ]
  },
  {
   "cell_type": "code",
   "execution_count": 79,
   "id": "8c18032b",
   "metadata": {},
   "outputs": [
    {
     "data": {
      "text/plain": [
       "(5000, 1000, 23000, 7862, 'hello', [45, 56, 'fddf', (45, 'fgrf')])"
      ]
     },
     "execution_count": 79,
     "metadata": {},
     "output_type": "execute_result"
    }
   ],
   "source": [
    "oilprd"
   ]
  },
  {
   "cell_type": "code",
   "execution_count": 83,
   "id": "bebbc65d",
   "metadata": {},
   "outputs": [
    {
     "data": {
      "text/plain": [
       "[45, 56, 'fddf', (45, 'fgrf')]"
      ]
     },
     "execution_count": 83,
     "metadata": {},
     "output_type": "execute_result"
    }
   ],
   "source": [
    "oilprd[5]"
   ]
  },
  {
   "cell_type": "code",
   "execution_count": 85,
   "id": "2e0ed574",
   "metadata": {},
   "outputs": [
    {
     "data": {
      "text/plain": [
       "45"
      ]
     },
     "execution_count": 85,
     "metadata": {},
     "output_type": "execute_result"
    }
   ],
   "source": [
    "oilprd[5][3][0]"
   ]
  },
  {
   "cell_type": "code",
   "execution_count": 77,
   "id": "fa2317df",
   "metadata": {},
   "outputs": [
    {
     "data": {
      "text/plain": [
       "tuple"
      ]
     },
     "execution_count": 77,
     "metadata": {},
     "output_type": "execute_result"
    }
   ],
   "source": [
    "type(oilprd)"
   ]
  },
  {
   "cell_type": "code",
   "execution_count": 64,
   "id": "2f063d45",
   "metadata": {},
   "outputs": [
    {
     "data": {
      "text/plain": [
       "(5000, 23000)"
      ]
     },
     "execution_count": 64,
     "metadata": {},
     "output_type": "execute_result"
    }
   ],
   "source": [
    "oilprd[::2]"
   ]
  },
  {
   "cell_type": "code",
   "execution_count": 65,
   "id": "a47af86f",
   "metadata": {},
   "outputs": [
    {
     "ename": "TypeError",
     "evalue": "'tuple' object does not support item assignment",
     "output_type": "error",
     "traceback": [
      "\u001b[1;31m---------------------------------------------------------------------------\u001b[0m",
      "\u001b[1;31mTypeError\u001b[0m                                 Traceback (most recent call last)",
      "\u001b[1;32m<ipython-input-65-71dc90181f70>\u001b[0m in \u001b[0;36m<module>\u001b[1;34m\u001b[0m\n\u001b[0;32m      1\u001b[0m \u001b[1;31m#immutable\u001b[0m\u001b[1;33m\u001b[0m\u001b[1;33m\u001b[0m\u001b[1;33m\u001b[0m\u001b[0m\n\u001b[0;32m      2\u001b[0m \u001b[1;33m\u001b[0m\u001b[0m\n\u001b[1;32m----> 3\u001b[1;33m \u001b[0moilprd\u001b[0m\u001b[1;33m[\u001b[0m\u001b[1;36m3\u001b[0m\u001b[1;33m]\u001b[0m \u001b[1;33m=\u001b[0m \u001b[1;36m300\u001b[0m\u001b[1;33m\u001b[0m\u001b[1;33m\u001b[0m\u001b[0m\n\u001b[0m",
      "\u001b[1;31mTypeError\u001b[0m: 'tuple' object does not support item assignment"
     ]
    }
   ],
   "source": [
    "#immutable\n",
    "\n",
    "oilprd[3] = 300"
   ]
  },
  {
   "cell_type": "markdown",
   "id": "ad8d823c",
   "metadata": {},
   "source": [
    "## Dictionaries\n",
    "\n",
    "- Store data with lables\n",
    "\n",
    "- syntax = > {key:value}"
   ]
  },
  {
   "cell_type": "code",
   "execution_count": 86,
   "id": "19f45143",
   "metadata": {},
   "outputs": [],
   "source": [
    "rock_properties = {\"porosity\":0.25,'perm':150,'lithology':'limestone'}"
   ]
  },
  {
   "cell_type": "code",
   "execution_count": 87,
   "id": "69b2d7ff",
   "metadata": {},
   "outputs": [
    {
     "data": {
      "text/plain": [
       "{'porosity': 0.25, 'perm': 150, 'lithology': 'limestone'}"
      ]
     },
     "execution_count": 87,
     "metadata": {},
     "output_type": "execute_result"
    }
   ],
   "source": [
    "rock_properties"
   ]
  },
  {
   "cell_type": "code",
   "execution_count": 88,
   "id": "1364af55",
   "metadata": {},
   "outputs": [
    {
     "data": {
      "text/plain": [
       "dict"
      ]
     },
     "execution_count": 88,
     "metadata": {},
     "output_type": "execute_result"
    }
   ],
   "source": [
    "type(rock_properties)"
   ]
  },
  {
   "cell_type": "code",
   "execution_count": 89,
   "id": "e1afe210",
   "metadata": {},
   "outputs": [
    {
     "ename": "KeyError",
     "evalue": "0",
     "output_type": "error",
     "traceback": [
      "\u001b[1;31m---------------------------------------------------------------------------\u001b[0m",
      "\u001b[1;31mKeyError\u001b[0m                                  Traceback (most recent call last)",
      "\u001b[1;32m<ipython-input-89-29a4346eb11d>\u001b[0m in \u001b[0;36m<module>\u001b[1;34m\u001b[0m\n\u001b[1;32m----> 1\u001b[1;33m \u001b[0mrock_properties\u001b[0m\u001b[1;33m[\u001b[0m\u001b[1;36m0\u001b[0m\u001b[1;33m]\u001b[0m\u001b[1;33m\u001b[0m\u001b[1;33m\u001b[0m\u001b[0m\n\u001b[0m",
      "\u001b[1;31mKeyError\u001b[0m: 0"
     ]
    }
   ],
   "source": [
    "rock_properties[0]"
   ]
  },
  {
   "cell_type": "code",
   "execution_count": 90,
   "id": "c7d89d44",
   "metadata": {},
   "outputs": [
    {
     "data": {
      "text/plain": [
       "0.25"
      ]
     },
     "execution_count": 90,
     "metadata": {},
     "output_type": "execute_result"
    }
   ],
   "source": [
    "rock_properties['porosity']"
   ]
  },
  {
   "cell_type": "code",
   "execution_count": 91,
   "id": "34711128",
   "metadata": {},
   "outputs": [
    {
     "data": {
      "text/plain": [
       "{'porosity': 0.25, 'perm': 150, 'lithology': 'limestone'}"
      ]
     },
     "execution_count": 91,
     "metadata": {},
     "output_type": "execute_result"
    }
   ],
   "source": [
    "rock_properties"
   ]
  },
  {
   "cell_type": "code",
   "execution_count": 92,
   "id": "a7dc8483",
   "metadata": {},
   "outputs": [],
   "source": [
    "#change\n",
    "\n",
    "rock_properties['lithology'] = 'Shale'"
   ]
  },
  {
   "cell_type": "code",
   "execution_count": 93,
   "id": "02b3cf8a",
   "metadata": {},
   "outputs": [
    {
     "data": {
      "text/plain": [
       "{'porosity': 0.25, 'perm': 150, 'lithology': 'Shale'}"
      ]
     },
     "execution_count": 93,
     "metadata": {},
     "output_type": "execute_result"
    }
   ],
   "source": [
    "rock_properties"
   ]
  },
  {
   "cell_type": "code",
   "execution_count": 94,
   "id": "b18e28e7",
   "metadata": {},
   "outputs": [],
   "source": [
    "#add new key value pairs"
   ]
  },
  {
   "cell_type": "code",
   "execution_count": 95,
   "id": "e26290e4",
   "metadata": {},
   "outputs": [],
   "source": [
    "rock_properties['WaterSat'] = 0.23"
   ]
  },
  {
   "cell_type": "code",
   "execution_count": 96,
   "id": "b41e2bf0",
   "metadata": {},
   "outputs": [
    {
     "data": {
      "text/plain": [
       "{'porosity': 0.25, 'perm': 150, 'lithology': 'Shale', 'WaterSat': 0.23}"
      ]
     },
     "execution_count": 96,
     "metadata": {},
     "output_type": "execute_result"
    }
   ],
   "source": [
    "rock_properties"
   ]
  },
  {
   "cell_type": "code",
   "execution_count": 97,
   "id": "f1e54b9a",
   "metadata": {},
   "outputs": [],
   "source": [
    "rocks_properties = {'index':[1,2,3,4,5],'porosity':(0.23,0.31,0.18,0.12,0.08)}"
   ]
  },
  {
   "cell_type": "code",
   "execution_count": 98,
   "id": "d17762b0",
   "metadata": {},
   "outputs": [
    {
     "data": {
      "text/plain": [
       "{'index': [1, 2, 3, 4, 5], 'porosity': (0.23, 0.31, 0.18, 0.12, 0.08)}"
      ]
     },
     "execution_count": 98,
     "metadata": {},
     "output_type": "execute_result"
    }
   ],
   "source": [
    "rocks_properties"
   ]
  },
  {
   "cell_type": "code",
   "execution_count": 99,
   "id": "0e41a60a",
   "metadata": {},
   "outputs": [
    {
     "name": "stderr",
     "output_type": "stream",
     "text": [
      "C:\\Users\\Z004ET6Z\\Anaconda3\\lib\\site-packages\\numpy\\_distributor_init.py:30: UserWarning: loaded more than 1 DLL from .libs:\n",
      "C:\\Users\\Z004ET6Z\\Anaconda3\\lib\\site-packages\\numpy\\.libs\\libopenblas.EL2C6PLE4ZYW3ECEVIV3OXXGRN2NRFM2.gfortran-win_amd64.dll\n",
      "C:\\Users\\Z004ET6Z\\Anaconda3\\lib\\site-packages\\numpy\\.libs\\libopenblas.PYQHXLVVQ7VESDPUVUADXEVJOBGHJPAY.gfortran-win_amd64.dll\n",
      "C:\\Users\\Z004ET6Z\\Anaconda3\\lib\\site-packages\\numpy\\.libs\\libopenblas.WCDJNK7YVMPZQ2ME2ZZHJJRJ3JIKNDB7.gfortran-win_amd64.dll\n",
      "  warnings.warn(\"loaded more than 1 DLL from .libs:\"\n"
     ]
    },
    {
     "data": {
      "text/html": [
       "<div>\n",
       "<style scoped>\n",
       "    .dataframe tbody tr th:only-of-type {\n",
       "        vertical-align: middle;\n",
       "    }\n",
       "\n",
       "    .dataframe tbody tr th {\n",
       "        vertical-align: top;\n",
       "    }\n",
       "\n",
       "    .dataframe thead th {\n",
       "        text-align: right;\n",
       "    }\n",
       "</style>\n",
       "<table border=\"1\" class=\"dataframe\">\n",
       "  <thead>\n",
       "    <tr style=\"text-align: right;\">\n",
       "      <th></th>\n",
       "      <th>index</th>\n",
       "      <th>porosity</th>\n",
       "    </tr>\n",
       "  </thead>\n",
       "  <tbody>\n",
       "    <tr>\n",
       "      <th>0</th>\n",
       "      <td>1</td>\n",
       "      <td>0.23</td>\n",
       "    </tr>\n",
       "    <tr>\n",
       "      <th>1</th>\n",
       "      <td>2</td>\n",
       "      <td>0.31</td>\n",
       "    </tr>\n",
       "    <tr>\n",
       "      <th>2</th>\n",
       "      <td>3</td>\n",
       "      <td>0.18</td>\n",
       "    </tr>\n",
       "    <tr>\n",
       "      <th>3</th>\n",
       "      <td>4</td>\n",
       "      <td>0.12</td>\n",
       "    </tr>\n",
       "    <tr>\n",
       "      <th>4</th>\n",
       "      <td>5</td>\n",
       "      <td>0.08</td>\n",
       "    </tr>\n",
       "  </tbody>\n",
       "</table>\n",
       "</div>"
      ],
      "text/plain": [
       "   index  porosity\n",
       "0      1      0.23\n",
       "1      2      0.31\n",
       "2      3      0.18\n",
       "3      4      0.12\n",
       "4      5      0.08"
      ]
     },
     "execution_count": 99,
     "metadata": {},
     "output_type": "execute_result"
    }
   ],
   "source": [
    "import pandas as pd\n",
    "pd.DataFrame(rocks_properties)"
   ]
  },
  {
   "cell_type": "markdown",
   "id": "8426286b",
   "metadata": {},
   "source": [
    "### Sets\n",
    "\n",
    "- Curly brackets : {}\n",
    "\n",
    "- Unordered \n",
    "\n",
    "- Can't contain duplicate values\n",
    "\n",
    "- Faster than lists"
   ]
  },
  {
   "cell_type": "code",
   "execution_count": 100,
   "id": "9c2ec8dc",
   "metadata": {},
   "outputs": [],
   "source": [
    "a = {1,2,3,4,5,6,7,8,1,2,3,4,1,1,12,2,3,4,4}"
   ]
  },
  {
   "cell_type": "code",
   "execution_count": 101,
   "id": "5cd01e8e",
   "metadata": {},
   "outputs": [
    {
     "data": {
      "text/plain": [
       "{1, 2, 3, 4, 5, 6, 7, 8, 12}"
      ]
     },
     "execution_count": 101,
     "metadata": {},
     "output_type": "execute_result"
    }
   ],
   "source": [
    "a"
   ]
  },
  {
   "cell_type": "code",
   "execution_count": 103,
   "id": "c8eb4ad6",
   "metadata": {},
   "outputs": [],
   "source": [
    "a = list(a)"
   ]
  },
  {
   "cell_type": "code",
   "execution_count": 105,
   "id": "3e52cd17",
   "metadata": {},
   "outputs": [
    {
     "data": {
      "text/plain": [
       "[1, 2, 3, 4, 5, 6, 7, 8, 12]"
      ]
     },
     "execution_count": 105,
     "metadata": {},
     "output_type": "execute_result"
    }
   ],
   "source": [
    "a"
   ]
  },
  {
   "cell_type": "code",
   "execution_count": 104,
   "id": "96239378",
   "metadata": {},
   "outputs": [
    {
     "data": {
      "text/plain": [
       "3"
      ]
     },
     "execution_count": 104,
     "metadata": {},
     "output_type": "execute_result"
    }
   ],
   "source": [
    "a[2]"
   ]
  },
  {
   "cell_type": "markdown",
   "id": "b9607028",
   "metadata": {},
   "source": [
    "## Summary of Data Structures\n",
    "\n",
    "1. Dictionary- Key:Value, mutable\n",
    "2. Lists- Mutable,ordered, empty lists for populating it later\n",
    "3. Tuples- Immutable. data cannot be changed\n",
    "4. Sets: Unordered and uniqueness of elements"
   ]
  },
  {
   "cell_type": "markdown",
   "id": "64afab04",
   "metadata": {},
   "source": [
    "### for loops "
   ]
  },
  {
   "cell_type": "code",
   "execution_count": null,
   "id": "31649271",
   "metadata": {},
   "outputs": [],
   "source": [
    "specificgravity_of_crudes = [0.8,0.7,0.85,0.76,0.91,0.64,0.65]\n",
    "denWater = 62.4"
   ]
  },
  {
   "cell_type": "code",
   "execution_count": 106,
   "id": "76ad89de",
   "metadata": {},
   "outputs": [
    {
     "name": "stdout",
     "output_type": "stream",
     "text": [
      "0.8\n",
      "0.7\n",
      "0.85\n",
      "0.76\n",
      "0.91\n",
      "0.64\n",
      "0.65\n"
     ]
    }
   ],
   "source": [
    "CrudeDensity = []\n",
    "\n",
    "for i in specificgravity_of_crudes:\n",
    "    print(i)\n",
    "    denO = i*denWater\n",
    "    CrudeDensity.append(denO)"
   ]
  },
  {
   "cell_type": "code",
   "execution_count": 107,
   "id": "98776851",
   "metadata": {},
   "outputs": [
    {
     "data": {
      "text/plain": [
       "[49.92, 43.68, 53.04, 47.424, 56.784, 39.936, 40.56]"
      ]
     },
     "execution_count": 107,
     "metadata": {},
     "output_type": "execute_result"
    }
   ],
   "source": [
    "CrudeDensity"
   ]
  },
  {
   "cell_type": "code",
   "execution_count": 108,
   "id": "d8d587da",
   "metadata": {},
   "outputs": [
    {
     "data": {
      "text/plain": [
       "0.65"
      ]
     },
     "execution_count": 108,
     "metadata": {},
     "output_type": "execute_result"
    }
   ],
   "source": [
    "i "
   ]
  },
  {
   "cell_type": "code",
   "execution_count": 109,
   "id": "54e82874",
   "metadata": {},
   "outputs": [
    {
     "name": "stdout",
     "output_type": "stream",
     "text": [
      "P\n",
      "e\n",
      "t\n",
      "r\n",
      "o\n",
      "l\n",
      "e\n",
      "u\n",
      "m\n",
      "A\n",
      "n\n",
      "d\n",
      "G\n",
      "a\n",
      "s\n",
      "E\n",
      "n\n",
      "g\n",
      "i\n",
      "n\n",
      "e\n",
      "e\n",
      "r\n",
      "s\n"
     ]
    }
   ],
   "source": [
    "a = 'PetroleumAndGasEngineers'\n",
    "\n",
    "for i in a:\n",
    "    print(i)"
   ]
  },
  {
   "cell_type": "markdown",
   "id": "761e0dbf",
   "metadata": {},
   "source": [
    "## Functions"
   ]
  },
  {
   "cell_type": "code",
   "execution_count": null,
   "id": "c53c47bf",
   "metadata": {},
   "outputs": [],
   "source": [
    "def functionname():\n",
    "    print('Use of Function')"
   ]
  },
  {
   "cell_type": "code",
   "execution_count": null,
   "id": "ea5a862b",
   "metadata": {},
   "outputs": [],
   "source": [
    "#Calling function\n",
    "functionname()"
   ]
  },
  {
   "cell_type": "code",
   "execution_count": null,
   "id": "b4683c9d",
   "metadata": {},
   "outputs": [],
   "source": [
    "def add(x,y):\n",
    "    print(x+y)"
   ]
  },
  {
   "cell_type": "code",
   "execution_count": null,
   "id": "8f40d38f",
   "metadata": {},
   "outputs": [],
   "source": [
    "add(3,4)"
   ]
  },
  {
   "cell_type": "code",
   "execution_count": null,
   "id": "3ea66a61",
   "metadata": {},
   "outputs": [],
   "source": [
    "c = add(3,4)"
   ]
  },
  {
   "cell_type": "code",
   "execution_count": null,
   "id": "d13c940c",
   "metadata": {},
   "outputs": [],
   "source": [
    "c"
   ]
  },
  {
   "cell_type": "code",
   "execution_count": null,
   "id": "1b158a1f",
   "metadata": {},
   "outputs": [],
   "source": [
    "def add(x,y):\n",
    "    return x+y "
   ]
  },
  {
   "cell_type": "code",
   "execution_count": null,
   "id": "5cb92a0a",
   "metadata": {},
   "outputs": [],
   "source": [
    "add(3,4)"
   ]
  },
  {
   "cell_type": "code",
   "execution_count": null,
   "id": "ccf9c9a5",
   "metadata": {},
   "outputs": [],
   "source": [
    "c = add(3,4)"
   ]
  },
  {
   "cell_type": "code",
   "execution_count": null,
   "id": "9f46934f",
   "metadata": {},
   "outputs": [],
   "source": [
    "c"
   ]
  },
  {
   "cell_type": "code",
   "execution_count": null,
   "id": "a41085c6",
   "metadata": {},
   "outputs": [],
   "source": [
    "def api(specific):\n",
    "    api_g = (141.5/specific) - 131.5\n",
    "    print(f\"API gravity of given oil is {api_g}\")\n",
    "    return api_g"
   ]
  },
  {
   "cell_type": "code",
   "execution_count": null,
   "id": "6bce32ca",
   "metadata": {},
   "outputs": [],
   "source": [
    "api(0.9)"
   ]
  },
  {
   "cell_type": "markdown",
   "id": "0c8cd094",
   "metadata": {},
   "source": [
    "## Numpy"
   ]
  },
  {
   "cell_type": "code",
   "execution_count": null,
   "id": "856856ac",
   "metadata": {},
   "outputs": [],
   "source": [
    "##import numping \n",
    "\n",
    "import numpy as np"
   ]
  },
  {
   "cell_type": "code",
   "execution_count": null,
   "id": "766de50e",
   "metadata": {},
   "outputs": [],
   "source": [
    "##numpy arrays: object for storing data\n",
    "# 50 times faster than lists\n"
   ]
  },
  {
   "cell_type": "code",
   "execution_count": null,
   "id": "368ada3f",
   "metadata": {},
   "outputs": [],
   "source": [
    "perm = [20,50,100,65,23]"
   ]
  },
  {
   "cell_type": "code",
   "execution_count": null,
   "id": "234e19af",
   "metadata": {},
   "outputs": [],
   "source": [
    "type(perm)"
   ]
  },
  {
   "cell_type": "code",
   "execution_count": null,
   "id": "bfd03c3a",
   "metadata": {},
   "outputs": [],
   "source": [
    "permarr = np.array(perm)"
   ]
  },
  {
   "cell_type": "code",
   "execution_count": null,
   "id": "9ed23683",
   "metadata": {},
   "outputs": [],
   "source": [
    "permarr"
   ]
  },
  {
   "cell_type": "code",
   "execution_count": null,
   "id": "b84c5b6f",
   "metadata": {},
   "outputs": [],
   "source": [
    "type(permarr)"
   ]
  },
  {
   "cell_type": "code",
   "execution_count": null,
   "id": "6d233ff7",
   "metadata": {},
   "outputs": [],
   "source": [
    "t = (2,3,4,5)\n",
    "\n",
    "arr = np.array(t)"
   ]
  },
  {
   "cell_type": "code",
   "execution_count": null,
   "id": "99d6dd65",
   "metadata": {},
   "outputs": [],
   "source": [
    "arr"
   ]
  },
  {
   "cell_type": "markdown",
   "id": "92dd8832",
   "metadata": {},
   "source": [
    "## Dimensions in array\n",
    "\n",
    "#### 0-D array: Array having one element"
   ]
  },
  {
   "cell_type": "code",
   "execution_count": null,
   "id": "08ee2d73",
   "metadata": {},
   "outputs": [],
   "source": [
    "ar0 = np.array(34)"
   ]
  },
  {
   "cell_type": "code",
   "execution_count": null,
   "id": "f88424c7",
   "metadata": {},
   "outputs": [],
   "source": [
    "ar0"
   ]
  },
  {
   "cell_type": "code",
   "execution_count": null,
   "id": "de273f52",
   "metadata": {},
   "outputs": [],
   "source": [
    "ar0.ndim"
   ]
  },
  {
   "cell_type": "markdown",
   "id": "58524a53",
   "metadata": {},
   "source": [
    "### 1-D array: Array hav ing 0-D arrays as its elements\n",
    "\n",
    "- most common and basic arrays\n",
    "\n",
    "- Similar to lists"
   ]
  },
  {
   "cell_type": "code",
   "execution_count": null,
   "id": "76b89b67",
   "metadata": {},
   "outputs": [],
   "source": [
    "porosity = [0.4,0.5,0.64,0.73,0.544,0.65]"
   ]
  },
  {
   "cell_type": "code",
   "execution_count": null,
   "id": "f0275993",
   "metadata": {},
   "outputs": [],
   "source": [
    "arpor = np.array(porosity)"
   ]
  },
  {
   "cell_type": "code",
   "execution_count": null,
   "id": "b7e27d93",
   "metadata": {},
   "outputs": [],
   "source": [
    "arpor"
   ]
  },
  {
   "cell_type": "code",
   "execution_count": null,
   "id": "f9c2d6a6",
   "metadata": {},
   "outputs": [],
   "source": [
    "arpor.ndim"
   ]
  },
  {
   "cell_type": "markdown",
   "id": "d19b6c75",
   "metadata": {},
   "source": [
    "## 2D arrays: Arrasy have 1-D arrays as its elements"
   ]
  },
  {
   "cell_type": "code",
   "execution_count": null,
   "id": "0f797bd5",
   "metadata": {},
   "outputs": [],
   "source": [
    "porosity2d = np.array([[0.5,0.2,0.4,0.3],[0.34,0.321,0.54,0.98]])"
   ]
  },
  {
   "cell_type": "code",
   "execution_count": null,
   "id": "abd19838",
   "metadata": {},
   "outputs": [],
   "source": [
    "porosity2d"
   ]
  },
  {
   "cell_type": "code",
   "execution_count": null,
   "id": "d00bd2af",
   "metadata": {},
   "outputs": [],
   "source": [
    "porosity2d.ndim"
   ]
  },
  {
   "cell_type": "code",
   "execution_count": null,
   "id": "43245d5f",
   "metadata": {},
   "outputs": [],
   "source": [
    "pd.DataFrame(porosity2d)"
   ]
  },
  {
   "cell_type": "code",
   "execution_count": null,
   "id": "5aae8bd6",
   "metadata": {},
   "outputs": [],
   "source": [
    "porosity2d[1]"
   ]
  },
  {
   "cell_type": "code",
   "execution_count": null,
   "id": "c7fb6cb6",
   "metadata": {},
   "outputs": [],
   "source": [
    "porosity2d[1][2]"
   ]
  },
  {
   "cell_type": "code",
   "execution_count": null,
   "id": "94a25941",
   "metadata": {},
   "outputs": [],
   "source": [
    "porosity2d[1,2]"
   ]
  },
  {
   "cell_type": "markdown",
   "id": "9e740400",
   "metadata": {},
   "source": [
    "## 3-d array: 2-D arrays behave as element"
   ]
  },
  {
   "cell_type": "code",
   "execution_count": null,
   "id": "03812a75",
   "metadata": {},
   "outputs": [],
   "source": [
    "perm = np.array([[[1,2,3,4],[4,5,6,7]],[[5,7,8,9],[8,912,14,563]],[[56,78,45,67],[898,786,542,546]]])"
   ]
  },
  {
   "cell_type": "code",
   "execution_count": null,
   "id": "c9d4a5dd",
   "metadata": {},
   "outputs": [],
   "source": [
    "perm"
   ]
  },
  {
   "cell_type": "code",
   "execution_count": null,
   "id": "41d8af84",
   "metadata": {},
   "outputs": [],
   "source": [
    "perm[1]"
   ]
  },
  {
   "cell_type": "code",
   "execution_count": null,
   "id": "320e629d",
   "metadata": {},
   "outputs": [],
   "source": [
    "perm[1][1]"
   ]
  },
  {
   "cell_type": "code",
   "execution_count": null,
   "id": "8da9635f",
   "metadata": {},
   "outputs": [],
   "source": [
    "perm[1][1][3]"
   ]
  },
  {
   "cell_type": "code",
   "execution_count": null,
   "id": "4690bfca",
   "metadata": {},
   "outputs": [],
   "source": [
    "perm[1,1,3]"
   ]
  },
  {
   "cell_type": "code",
   "execution_count": null,
   "id": "015c27c6",
   "metadata": {},
   "outputs": [],
   "source": [
    "perm.ndim "
   ]
  },
  {
   "cell_type": "code",
   "execution_count": null,
   "id": "c59694c7",
   "metadata": {},
   "outputs": [],
   "source": []
  }
 ],
 "metadata": {
  "kernelspec": {
   "display_name": "Python 3",
   "language": "python",
   "name": "python3"
  },
  "language_info": {
   "codemirror_mode": {
    "name": "ipython",
    "version": 3
   },
   "file_extension": ".py",
   "mimetype": "text/x-python",
   "name": "python",
   "nbconvert_exporter": "python",
   "pygments_lexer": "ipython3",
   "version": "3.8.8"
  }
 },
 "nbformat": 4,
 "nbformat_minor": 5
}
