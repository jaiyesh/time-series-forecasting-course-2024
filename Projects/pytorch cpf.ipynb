{
 "cells": [
  {
   "cell_type": "code",
   "execution_count": 1,
   "metadata": {},
   "outputs": [],
   "source": [
    "import torch\n",
    "import torch.nn as nn\n",
    "\n",
    "\n"
   ]
  },
  {
   "cell_type": "code",
   "execution_count": 3,
   "metadata": {},
   "outputs": [],
   "source": [
    "\n",
    "\n",
    "class LSTMModel(nn.Module):\n",
    "    def __init__(self, input_size, hidden_size, num_layers, output_size):\n",
    "        super(LSTMModel, self).__init__()\n",
    "        self.hidden_size = hidden_size\n",
    "        self.num_layers = num_layers\n",
    "        self.lstm = nn.LSTM(input_size, hidden_size, num_layers, batch_first=True)\n",
    "        self.fc = nn.Linear(hidden_size, output_size)\n",
    "        \n",
    "    def forward(self, x):\n",
    "        h0 = torch.zeros(self.num_layers, x.size(0), self.hidden_size).to(x.device)\n",
    "        c0 = torch.zeros(self.num_layers, x.size(0), self.hidden_size).to(x.device)\n",
    "        \n",
    "        out, _ = self.lstm(x, (h0, c0))\n",
    "        \n",
    "        out = self.fc(out[:, -1, :])\n",
    "        return out\n",
    "\n",
    "# Define the input shape and other parameters\n",
    "input_size = 1\n",
    "hidden_size = 50\n",
    "num_layers = 3  # Assuming you want to keep the number of layers the same\n",
    "output_size = 1\n",
    "\n",
    "# Create an instance of the LSTMModel\n",
    "model = LSTMModel(input_size, hidden_size, num_layers, output_size)\n"
   ]
  },
  {
   "cell_type": "code",
   "execution_count": 4,
   "metadata": {},
   "outputs": [],
   "source": [
    "import torch\n",
    "import torch.nn as nn\n",
    "import torch.optim as optim\n",
    "from sklearn.preprocessing import MinMaxScaler\n",
    "\n",
    "# Assuming you have already scaled your data\n",
    "# X_train, X_test, y_train, y_test\n",
    "\n",
    "# Define the LSTM model\n",
    "class LSTMModel(nn.Module):\n",
    "    def __init__(self, input_size, hidden_size, num_layers, output_size):\n",
    "        super(LSTMModel, self).__init__()\n",
    "        self.hidden_size = hidden_size\n",
    "        self.num_layers = num_layers\n",
    "        self.lstm = nn.LSTM(input_size, hidden_size, num_layers, batch_first=True)\n",
    "        self.fc = nn.Linear(hidden_size, output_size)\n",
    "        \n",
    "    def forward(self, x):\n",
    "        h0 = torch.zeros(self.num_layers, x.size(0), self.hidden_size).to(x.device)\n",
    "        c0 = torch.zeros(self.num_layers, x.size(0), self.hidden_size).to(x.device)\n",
    "        \n",
    "        out, _ = self.lstm(x, (h0, c0))\n",
    "        \n",
    "        out = self.fc(out[:, -1, :])\n",
    "        return out\n",
    "\n",
    "# Define model parameters\n",
    "input_size = 1\n",
    "hidden_size = 50\n",
    "num_layers = 3\n",
    "output_size = 1\n",
    "\n",
    "# Create an instance of the LSTMModel\n",
    "model = LSTMModel(input_size, hidden_size, num_layers, output_size)\n",
    "\n",
    "\n"
   ]
  },
  {
   "cell_type": "code",
   "execution_count": 5,
   "metadata": {},
   "outputs": [],
   "source": [
    "import pandas as pd \n",
    "import numpy as np"
   ]
  },
  {
   "cell_type": "code",
   "execution_count": 7,
   "metadata": {},
   "outputs": [],
   "source": [
    "df= pd.read_csv(r\"C:\\Users\\Z004ET6Z\\pfs\\edv\\time series 2024]\\projects\\crudeprice.csv\")"
   ]
  },
  {
   "cell_type": "code",
   "execution_count": 8,
   "metadata": {},
   "outputs": [],
   "source": [
    "df.columns = [\"Date\",\"Price\"]"
   ]
  },
  {
   "cell_type": "code",
   "execution_count": 9,
   "metadata": {},
   "outputs": [],
   "source": [
    "df = df[df[\"Price\"]!=\".\"]"
   ]
  },
  {
   "cell_type": "code",
   "execution_count": 10,
   "metadata": {},
   "outputs": [],
   "source": [
    "df[\"Price\"] = df[\"Price\"].apply(lambda x: float(x))"
   ]
  },
  {
   "cell_type": "code",
   "execution_count": 11,
   "metadata": {},
   "outputs": [],
   "source": [
    "df1 = df.reset_index()['Price']"
   ]
  },
  {
   "cell_type": "code",
   "execution_count": 12,
   "metadata": {},
   "outputs": [],
   "source": [
    "# scaling data\n",
    "\n",
    "from sklearn.preprocessing import MinMaxScaler, StandardScaler\n",
    "\n",
    "scaler = StandardScaler()\n",
    "\n",
    "df1 = scaler.fit_transform(np.array(df1).reshape(-1,1))"
   ]
  },
  {
   "cell_type": "code",
   "execution_count": 15,
   "metadata": {},
   "outputs": [],
   "source": [
    "w = 100"
   ]
  },
  {
   "cell_type": "code",
   "execution_count": 16,
   "metadata": {},
   "outputs": [],
   "source": [
    "#train- test split\n",
    "\n",
    "train_size = int(len(df1)*0.95)\n",
    "test_size = len(df1) - train_size "
   ]
  },
  {
   "cell_type": "code",
   "execution_count": 17,
   "metadata": {},
   "outputs": [],
   "source": [
    "train_data = df1[:train_size+w:]\n",
    "test_data = df1[train_size::]"
   ]
  },
  {
   "cell_type": "code",
   "execution_count": 18,
   "metadata": {},
   "outputs": [
    {
     "data": {
      "text/plain": [
       "((8736, 1), (455, 1))"
      ]
     },
     "execution_count": 18,
     "metadata": {},
     "output_type": "execute_result"
    }
   ],
   "source": [
    "train_data.shape,test_data.shape"
   ]
  },
  {
   "cell_type": "code",
   "execution_count": 19,
   "metadata": {},
   "outputs": [],
   "source": [
    "def create_dataset(dataset,time_step):\n",
    "    dataX,dataY = [], []\n",
    "\n",
    "    for i in range(len(dataset)-time_step):\n",
    "        a = dataset[i:(i+time_step),0]\n",
    "        dataX.append(a)\n",
    "        dataY.append(dataset[i+time_step,0])\n",
    "\n",
    "    return np.array(dataX), np.array(dataY)"
   ]
  },
  {
   "cell_type": "code",
   "execution_count": 20,
   "metadata": {},
   "outputs": [],
   "source": [
    "train_data = np.array(train_data).reshape(-1,1)\n",
    "test_data = np.array(test_data).reshape(-1,1)"
   ]
  },
  {
   "cell_type": "code",
   "execution_count": 21,
   "metadata": {},
   "outputs": [],
   "source": [
    "time_step = w\n",
    "#Using 100 consecutive values predicting 101th value\n",
    "#f1-------f100 = X\n",
    "#f101 = y\n",
    "X_train, y_train = create_dataset(train_data,time_step)\n",
    "X_test, y_test = create_dataset(test_data,time_step)"
   ]
  },
  {
   "cell_type": "code",
   "execution_count": 22,
   "metadata": {},
   "outputs": [],
   "source": [
    "#Making data 3D\n",
    "X_train = X_train.reshape(X_train.shape[0],X_train.shape[1],1)\n",
    "X_test = X_test.reshape(X_test.shape[0],X_test.shape[1],1)"
   ]
  },
  {
   "cell_type": "code",
   "execution_count": 28,
   "metadata": {},
   "outputs": [],
   "source": [
    "# Define loss function and optimizer\n",
    "criterion = nn.MSELoss()\n",
    "optimizer = optim.Adam(model.parameters())\n",
    "\n",
    "# # Convert data to PyTorch tensors\n",
    "# X_train_torch = torch.tensor(X_train).float()\n",
    "# y_train_torch = torch.tensor(y_train).float()\n",
    "# X_test_torch = torch.tensor(X_test).float()\n",
    "# y_test_torch = torch.tensor(y_test).float()\n",
    "\n",
    "# Convert data to PyTorch tensors\n",
    "X_train_torch = torch.tensor(X_train.reshape(-1, 100, 1)).float()\n",
    "y_train_torch = torch.tensor(y_train).float()\n",
    "X_test_torch = torch.tensor(X_test.reshape(-1, 100, 1)).float()\n",
    "y_test_torch = torch.tensor(y_test).float()\n",
    "\n",
    "\n"
   ]
  },
  {
   "cell_type": "code",
   "execution_count": 30,
   "metadata": {},
   "outputs": [
    {
     "name": "stderr",
     "output_type": "stream",
     "text": [
      "c:\\Users\\Z004ET6Z\\Anaconda3\\envs\\pytorch\\lib\\site-packages\\torch\\nn\\modules\\loss.py:530: UserWarning: Using a target size (torch.Size([60])) that is different to the input size (torch.Size([60, 1])). This will likely lead to incorrect results due to broadcasting. Please ensure they have the same size.\n",
      "  return F.mse_loss(input, target, reduction=self.reduction)\n",
      "c:\\Users\\Z004ET6Z\\Anaconda3\\envs\\pytorch\\lib\\site-packages\\torch\\nn\\modules\\loss.py:530: UserWarning: Using a target size (torch.Size([355])) that is different to the input size (torch.Size([355, 1])). This will likely lead to incorrect results due to broadcasting. Please ensure they have the same size.\n",
      "  return F.mse_loss(input, target, reduction=self.reduction)\n"
     ]
    },
    {
     "name": "stdout",
     "output_type": "stream",
     "text": [
      "Epoch [1/2], Validation Loss: 0.4995335638523102\n",
      "Epoch [2/2], Validation Loss: 0.31258201599121094\n",
      "Training finished\n"
     ]
    }
   ],
   "source": [
    "# Training loop\n",
    "epochs = 2\n",
    "batch_size = 128\n",
    "for epoch in range(epochs):\n",
    "    for i in range(0, len(X_train_torch), batch_size):\n",
    "        inputs = X_train_torch[i:i+batch_size]\n",
    "        labels = y_train_torch[i:i+batch_size]\n",
    "        \n",
    "        optimizer.zero_grad()\n",
    "        \n",
    "        outputs = model(inputs)\n",
    "        loss = criterion(outputs, labels)\n",
    "        \n",
    "        loss.backward()\n",
    "        optimizer.step()\n",
    "    \n",
    "    # Validation\n",
    "    with torch.no_grad():\n",
    "        outputs = model(X_test_torch)\n",
    "        val_loss = criterion(outputs, y_test_torch)\n",
    "        print(f'Epoch [{epoch+1}/{epochs}], Validation Loss: {val_loss.item()}')\n",
    "\n",
    "print('Training finished')"
   ]
  },
  {
   "cell_type": "code",
   "execution_count": 42,
   "metadata": {},
   "outputs": [
    {
     "name": "stdout",
     "output_type": "stream",
     "text": [
      "Predictions on test data:\n",
      "[[1.1857433 ]\n",
      " [1.1917124 ]\n",
      " [1.2022606 ]\n",
      " [1.2187556 ]\n",
      " [1.22244   ]\n",
      " [1.2289867 ]\n",
      " [1.2290001 ]\n",
      " [1.2288616 ]\n",
      " [1.2187669 ]\n",
      " [1.1999851 ]\n",
      " [1.1785129 ]\n",
      " [1.1736724 ]\n",
      " [1.1745667 ]\n",
      " [1.145757  ]\n",
      " [1.1039011 ]\n",
      " [1.0875678 ]\n",
      " [1.0902534 ]\n",
      " [1.1133564 ]\n",
      " [1.1251554 ]\n",
      " [1.1370677 ]\n",
      " [1.1415994 ]\n",
      " [1.1328467 ]\n",
      " [1.1295223 ]\n",
      " [1.1063753 ]\n",
      " [1.0984482 ]\n",
      " [1.0748457 ]\n",
      " [1.0584071 ]\n",
      " [1.0716476 ]\n",
      " [1.0828356 ]\n",
      " [1.0898664 ]\n",
      " [1.0003493 ]\n",
      " [0.9098249 ]\n",
      " [0.8154581 ]\n",
      " [0.731067  ]\n",
      " [0.6742652 ]\n",
      " [0.63866776]\n",
      " [0.63922745]\n",
      " [0.6760822 ]\n",
      " [0.7327389 ]\n",
      " [0.77602875]\n",
      " [0.8146364 ]\n",
      " [0.83353966]\n",
      " [0.8321852 ]\n",
      " [0.8240532 ]\n",
      " [0.82058114]\n",
      " [0.8032771 ]\n",
      " [0.76431215]\n",
      " [0.7443473 ]\n",
      " [0.74798226]\n",
      " [0.77464944]\n",
      " [0.7991227 ]\n",
      " [0.8513896 ]\n",
      " [0.9043123 ]\n",
      " [0.93417066]\n",
      " [0.95759207]\n",
      " [0.9818278 ]\n",
      " [1.0108283 ]\n",
      " [1.0477049 ]\n",
      " [1.0815989 ]\n",
      " [1.0993629 ]\n",
      " [1.1399701 ]\n",
      " [1.1865252 ]\n",
      " [1.2246175 ]\n",
      " [1.2638221 ]\n",
      " [1.2996291 ]\n",
      " [1.3343343 ]\n",
      " [1.3669505 ]\n",
      " [1.391783  ]\n",
      " [1.4079564 ]\n",
      " [1.4008093 ]\n",
      " [1.4006553 ]\n",
      " [1.4156255 ]\n",
      " [1.4276224 ]\n",
      " [1.4423237 ]\n",
      " [1.4613307 ]\n",
      " [1.4620986 ]\n",
      " [1.4656589 ]\n",
      " [1.4801787 ]\n",
      " [1.5201166 ]\n",
      " [1.5592376 ]\n",
      " [1.5822463 ]\n",
      " [1.5899012 ]\n",
      " [1.5987263 ]\n",
      " [1.6109722 ]\n",
      " [1.639701  ]\n",
      " [1.6512072 ]\n",
      " [1.6517498 ]\n",
      " [1.6396394 ]\n",
      " [1.6299629 ]\n",
      " [1.6356322 ]\n",
      " [1.6426166 ]\n",
      " [1.6508433 ]\n",
      " [1.6657358 ]\n",
      " [1.6680454 ]\n",
      " [1.6838075 ]\n",
      " [1.7210293 ]\n",
      " [1.7633013 ]\n",
      " [1.7843938 ]\n",
      " [1.8052528 ]\n",
      " [1.8218796 ]\n",
      " [1.8338346 ]\n",
      " [1.8313115 ]\n",
      " [1.8264809 ]\n",
      " [1.8254085 ]\n",
      " [1.8175938 ]\n",
      " [1.8037572 ]\n",
      " [1.789826  ]\n",
      " [1.7924311 ]\n",
      " [1.7972839 ]\n",
      " [1.8099298 ]\n",
      " [1.8179955 ]\n",
      " [1.8275092 ]\n",
      " [1.8313184 ]\n",
      " [1.8326902 ]\n",
      " [1.8275056 ]\n",
      " [1.8212423 ]\n",
      " [1.8189099 ]\n",
      " [1.8082888 ]\n",
      " [1.7964314 ]\n",
      " [1.7895597 ]\n",
      " [1.7821069 ]\n",
      " [1.7643793 ]\n",
      " [1.7443063 ]\n",
      " [1.7307293 ]\n",
      " [1.7103602 ]\n",
      " [1.7135316 ]\n",
      " [1.7319877 ]\n",
      " [1.7523803 ]\n",
      " [1.756101  ]\n",
      " [1.7551975 ]\n",
      " [1.7583268 ]\n",
      " [1.7568253 ]\n",
      " [1.740451  ]\n",
      " [1.7332804 ]\n",
      " [1.7306457 ]\n",
      " [1.7359369 ]\n",
      " [1.74751   ]\n",
      " [1.7493674 ]\n",
      " [1.761106  ]\n",
      " [1.773664  ]\n",
      " [1.7850606 ]\n",
      " [1.782053  ]\n",
      " [1.7696849 ]\n",
      " [1.7680277 ]\n",
      " [1.7690787 ]\n",
      " [1.7773829 ]\n",
      " [1.7883589 ]\n",
      " [1.7935624 ]\n",
      " [1.7926984 ]\n",
      " [1.795698  ]\n",
      " [1.7988393 ]\n",
      " [1.8028982 ]\n",
      " [1.8066201 ]\n",
      " [1.8099153 ]\n",
      " [1.8155942 ]\n",
      " [1.820869  ]\n",
      " [1.8258371 ]\n",
      " [1.8309171 ]\n",
      " [1.8321095 ]\n",
      " [1.8349836 ]\n",
      " [1.8365915 ]\n",
      " [1.838728  ]\n",
      " [1.8414178 ]\n",
      " [1.8428476 ]\n",
      " [1.8432775 ]\n",
      " [1.8440552 ]\n",
      " [1.8439019 ]\n",
      " [1.8427186 ]\n",
      " [1.8422937 ]\n",
      " [1.8382056 ]\n",
      " [1.8342295 ]\n",
      " [1.8313882 ]\n",
      " [1.8268812 ]\n",
      " [1.8222795 ]\n",
      " [1.8214054 ]\n",
      " [1.8230991 ]\n",
      " [1.8264828 ]\n",
      " [1.827837  ]\n",
      " [1.8278837 ]\n",
      " [1.8273997 ]\n",
      " [1.8290119 ]\n",
      " [1.820781  ]\n",
      " [1.8106916 ]\n",
      " [1.8081856 ]\n",
      " [1.8076653 ]\n",
      " [1.8084414 ]\n",
      " [1.7993265 ]\n",
      " [1.7906705 ]\n",
      " [1.7847509 ]\n",
      " [1.787816  ]\n",
      " [1.7980094 ]\n",
      " [1.8028767 ]\n",
      " [1.8068094 ]\n",
      " [1.8060999 ]\n",
      " [1.7970912 ]\n",
      " [1.790668  ]\n",
      " [1.7844274 ]\n",
      " [1.78334   ]\n",
      " [1.7833277 ]\n",
      " [1.786371  ]\n",
      " [1.7803106 ]\n",
      " [1.7747588 ]\n",
      " [1.760879  ]\n",
      " [1.7372876 ]\n",
      " [1.721389  ]\n",
      " [1.7199271 ]\n",
      " [1.7226864 ]\n",
      " [1.7291987 ]\n",
      " [1.7403164 ]\n",
      " [1.7409676 ]\n",
      " [1.7245891 ]\n",
      " [1.6963713 ]\n",
      " [1.6756883 ]\n",
      " [1.6564605 ]\n",
      " [1.6412561 ]\n",
      " [1.6233461 ]\n",
      " [1.6304476 ]\n",
      " [1.6439177 ]\n",
      " [1.651371  ]\n",
      " [1.6655674 ]\n",
      " [1.6710416 ]\n",
      " [1.6619703 ]\n",
      " [1.6304551 ]\n",
      " [1.6003809 ]\n",
      " [1.5817785 ]\n",
      " [1.5524728 ]\n",
      " [1.4922231 ]\n",
      " [1.4393444 ]\n",
      " [1.4282663 ]\n",
      " [1.4463118 ]\n",
      " [1.4601394 ]\n",
      " [1.4773943 ]\n",
      " [1.4671512 ]\n",
      " [1.4511158 ]\n",
      " [1.4370612 ]\n",
      " [1.4275059 ]\n",
      " [1.4253991 ]\n",
      " [1.3755062 ]\n",
      " [1.3014544 ]\n",
      " [1.2637613 ]\n",
      " [1.2777598 ]\n",
      " [1.3057423 ]\n",
      " [1.3311002 ]\n",
      " [1.3672844 ]\n",
      " [1.4232736 ]\n",
      " [1.4758285 ]\n",
      " [1.5228518 ]\n",
      " [1.5741202 ]\n",
      " [1.6036135 ]\n",
      " [1.6105255 ]\n",
      " [1.6000867 ]\n",
      " [1.5946735 ]\n",
      " [1.574243  ]\n",
      " [1.5444603 ]\n",
      " [1.5052577 ]\n",
      " [1.4829801 ]\n",
      " [1.4715799 ]\n",
      " [1.4685838 ]\n",
      " [1.4678903 ]\n",
      " [1.4702682 ]\n",
      " [1.4820707 ]\n",
      " [1.5029328 ]\n",
      " [1.5249901 ]\n",
      " [1.5342858 ]\n",
      " [1.5491297 ]\n",
      " [1.5673932 ]\n",
      " [1.5777851 ]\n",
      " [1.6057618 ]\n",
      " [1.6320903 ]\n",
      " [1.6382467 ]\n",
      " [1.6197417 ]\n",
      " [1.6027203 ]\n",
      " [1.6000941 ]\n",
      " [1.5863065 ]\n",
      " [1.5759459 ]\n",
      " [1.5586333 ]\n",
      " [1.5318285 ]\n",
      " [1.491857  ]\n",
      " [1.4500792 ]\n",
      " [1.4165096 ]\n",
      " [1.368267  ]\n",
      " [1.3214693 ]\n",
      " [1.2636602 ]\n",
      " [1.2144942 ]\n",
      " [1.1754324 ]\n",
      " [1.1717978 ]\n",
      " [1.1889862 ]\n",
      " [1.2151638 ]\n",
      " [1.2109344 ]\n",
      " [1.164325  ]\n",
      " [1.0838054 ]\n",
      " [0.9968458 ]\n",
      " [0.9279694 ]\n",
      " [0.8928893 ]\n",
      " [0.896949  ]\n",
      " [0.94904655]\n",
      " [1.0054744 ]\n",
      " [1.0356041 ]\n",
      " [1.064753  ]\n",
      " [1.0634859 ]\n",
      " [1.0578101 ]\n",
      " [1.0425882 ]\n",
      " [1.0538546 ]\n",
      " [1.0637817 ]\n",
      " [1.0649444 ]\n",
      " [1.0812984 ]\n",
      " [1.0749178 ]\n",
      " [1.0129853 ]\n",
      " [0.9586316 ]\n",
      " [0.9123041 ]\n",
      " [0.88773626]\n",
      " [0.88476175]\n",
      " [0.91820997]\n",
      " [0.9766812 ]\n",
      " [1.0450644 ]\n",
      " [1.0970606 ]\n",
      " [1.1486735 ]\n",
      " [1.181236  ]\n",
      " [1.2106545 ]\n",
      " [1.248183  ]\n",
      " [1.2840891 ]\n",
      " [1.2901058 ]\n",
      " [1.2818892 ]\n",
      " [1.2797544 ]\n",
      " [1.2698591 ]\n",
      " [1.254359  ]\n",
      " [1.2253994 ]\n",
      " [1.1794857 ]\n",
      " [1.1261492 ]\n",
      " [1.0637488 ]\n",
      " [1.0268065 ]\n",
      " [1.0294363 ]\n",
      " [1.0600381 ]\n",
      " [1.0916207 ]\n",
      " [1.1397681 ]\n",
      " [1.1895416 ]\n",
      " [1.219944  ]\n",
      " [1.2284526 ]\n",
      " [1.2231923 ]\n",
      " [1.1939713 ]\n",
      " [1.168496  ]\n",
      " [1.141365  ]\n",
      " [1.0933473 ]\n",
      " [1.072955  ]\n",
      " [1.0677602 ]\n",
      " [1.0601821 ]\n",
      " [1.0746424 ]\n",
      " [1.0995147 ]\n",
      " [1.1292045 ]\n",
      " [1.1708988 ]\n",
      " [1.2094136 ]\n",
      " [1.2117208 ]\n",
      " [1.1908531 ]\n",
      " [1.1530212 ]\n",
      " [1.1275761 ]]\n"
     ]
    }
   ],
   "source": [
    "# Set the model to evaluation mode\n",
    "model.eval()\n",
    "\n",
    "# Make predictions on the test data\n",
    "with torch.no_grad():\n",
    "    test_outputs = model(X_test_torch)\n",
    "\n",
    "# Convert the predictions to numpy arrays\n",
    "test_predictions = test_outputs.numpy()\n",
    "\n",
    "# Print the first few predictions\n",
    "print(\"Predictions on test data:\")\n",
    "print(test_predictions)\n"
   ]
  },
  {
   "cell_type": "code",
   "execution_count": 41,
   "metadata": {},
   "outputs": [
    {
     "name": "stdout",
     "output_type": "stream",
     "text": [
      "Predictions on test data:\n",
      "[[-0.35067093]\n",
      " [-0.35057944]\n",
      " [-0.35050583]\n",
      " ...\n",
      " [ 1.15346   ]\n",
      " [ 1.164088  ]\n",
      " [ 1.1727011 ]]\n"
     ]
    }
   ],
   "source": [
    "# Set the model to evaluation mode\n",
    "model.eval()\n",
    "\n",
    "# Make predictions on the test data\n",
    "with torch.no_grad():\n",
    "    test_outputs = model(X_train_torch)\n",
    "\n",
    "# Convert the predictions to numpy arrays\n",
    "train_predictions = test_outputs.numpy()\n",
    "\n",
    "# Print the first few predictions\n",
    "print(\"Predictions on test data:\")\n",
    "print(test_predictions)"
   ]
  },
  {
   "cell_type": "code",
   "execution_count": 33,
   "metadata": {},
   "outputs": [
    {
     "data": {
      "text/plain": [
       "torch.Size([355, 100, 1])"
      ]
     },
     "execution_count": 33,
     "metadata": {},
     "output_type": "execute_result"
    }
   ],
   "source": [
    "X_test_torch.shape"
   ]
  },
  {
   "cell_type": "code",
   "execution_count": 34,
   "metadata": {},
   "outputs": [
    {
     "data": {
      "text/plain": [
       "(355, 1)"
      ]
     },
     "execution_count": 34,
     "metadata": {},
     "output_type": "execute_result"
    }
   ],
   "source": [
    "test_predictions.shape"
   ]
  },
  {
   "cell_type": "code",
   "execution_count": 35,
   "metadata": {},
   "outputs": [
    {
     "data": {
      "text/plain": [
       "0.20484342810264725"
      ]
     },
     "execution_count": 35,
     "metadata": {},
     "output_type": "execute_result"
    }
   ],
   "source": [
    "import math \n",
    "from sklearn.metrics import mean_squared_error\n",
    "math.sqrt(mean_squared_error(y_test,test_predictions))"
   ]
  },
  {
   "cell_type": "code",
   "execution_count": 37,
   "metadata": {},
   "outputs": [],
   "source": [
    "import matplotlib.pyplot as plt "
   ]
  },
  {
   "cell_type": "code",
   "execution_count": 44,
   "metadata": {},
   "outputs": [
    {
     "data": {
      "text/plain": [
       "[<matplotlib.lines.Line2D at 0x1dd2cd80f70>]"
      ]
     },
     "execution_count": 44,
     "metadata": {},
     "output_type": "execute_result"
    },
    {
     "data": {
      "image/png": "[encoded data removed]",
      "text/plain": [
       "<Figure size 640x480 with 1 Axes>"
      ]
     },
     "metadata": {},
     "output_type": "display_data"
    }
   ],
   "source": [
    "plt.plot(y_test)\n",
    "plt.plot(test_predictions)\n"
   ]
  },
  {
   "cell_type": "code",
   "execution_count": 45,
   "metadata": {},
   "outputs": [
    {
     "data": {
      "text/plain": [
       "[<matplotlib.lines.Line2D at 0x1dd2cde1190>]"
      ]
     },
     "execution_count": 45,
     "metadata": {},
     "output_type": "execute_result"
    },
    {
     "data": {
      "image/png": "[encoded data removed]",
      "text/plain": [
       "<Figure size 640x480 with 1 Axes>"
      ]
     },
     "metadata": {},
     "output_type": "display_data"
    }
   ],
   "source": [
    "plt.plot(y_train)\n",
    "plt.plot(train_predictions)"
   ]
  },
  {
   "cell_type": "code",
   "execution_count": null,
   "metadata": {},
   "outputs": [],
   "source": []
  }
 ],
 "metadata": {
  "kernelspec": {
   "display_name": "pytorch",
   "language": "python",
   "name": "python3"
  },
  "language_info": {
   "codemirror_mode": {
    "name": "ipython",
    "version": 3
   },
   "file_extension": ".py",
   "mimetype": "text/x-python",
   "name": "python",
   "nbconvert_exporter": "python",
   "pygments_lexer": "ipython3",
   "version": "3.8.13"
  }
 },
 "nbformat": 4,
 "nbformat_minor": 2
}
