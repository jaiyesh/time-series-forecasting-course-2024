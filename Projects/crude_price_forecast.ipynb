{
 "cells": [
  {
   "cell_type": "code",
   "execution_count": 2,
   "metadata": {},
   "outputs": [],
   "source": [
    "import pandas as pd \n",
    "import numpy as np\n",
    "import matplotlib.pyplot as plt "
   ]
  },
  {
   "cell_type": "code",
   "execution_count": 3,
   "metadata": {},
   "outputs": [],
   "source": [
    "df= pd.read_csv(\"crudeprice.csv\")"
   ]
  },
  {
   "cell_type": "code",
   "execution_count": 4,
   "metadata": {},
   "outputs": [
    {
     "data": {
      "text/html": [
       "<div>\n",
       "<style scoped>\n",
       "    .dataframe tbody tr th:only-of-type {\n",
       "        vertical-align: middle;\n",
       "    }\n",
       "\n",
       "    .dataframe tbody tr th {\n",
       "        vertical-align: top;\n",
       "    }\n",
       "\n",
       "    .dataframe thead th {\n",
       "        text-align: right;\n",
       "    }\n",
       "</style>\n",
       "<table border=\"1\" class=\"dataframe\">\n",
       "  <thead>\n",
       "    <tr style=\"text-align: right;\">\n",
       "      <th></th>\n",
       "      <th>DATE</th>\n",
       "      <th>DCOILBRENTEU</th>\n",
       "    </tr>\n",
       "  </thead>\n",
       "  <tbody>\n",
       "    <tr>\n",
       "      <th>0</th>\n",
       "      <td>1987-05-20</td>\n",
       "      <td>18.63</td>\n",
       "    </tr>\n",
       "    <tr>\n",
       "      <th>1</th>\n",
       "      <td>1987-05-21</td>\n",
       "      <td>18.45</td>\n",
       "    </tr>\n",
       "    <tr>\n",
       "      <th>2</th>\n",
       "      <td>1987-05-22</td>\n",
       "      <td>18.55</td>\n",
       "    </tr>\n",
       "    <tr>\n",
       "      <th>3</th>\n",
       "      <td>1987-05-25</td>\n",
       "      <td>18.60</td>\n",
       "    </tr>\n",
       "    <tr>\n",
       "      <th>4</th>\n",
       "      <td>1987-05-26</td>\n",
       "      <td>18.63</td>\n",
       "    </tr>\n",
       "    <tr>\n",
       "      <th>...</th>\n",
       "      <td>...</td>\n",
       "      <td>...</td>\n",
       "    </tr>\n",
       "    <tr>\n",
       "      <th>9339</th>\n",
       "      <td>2023-03-07</td>\n",
       "      <td>83.03</td>\n",
       "    </tr>\n",
       "    <tr>\n",
       "      <th>9340</th>\n",
       "      <td>2023-03-08</td>\n",
       "      <td>82.1</td>\n",
       "    </tr>\n",
       "    <tr>\n",
       "      <th>9341</th>\n",
       "      <td>2023-03-09</td>\n",
       "      <td>81.0</td>\n",
       "    </tr>\n",
       "    <tr>\n",
       "      <th>9342</th>\n",
       "      <td>2023-03-10</td>\n",
       "      <td>82.3</td>\n",
       "    </tr>\n",
       "    <tr>\n",
       "      <th>9343</th>\n",
       "      <td>2023-03-13</td>\n",
       "      <td>79.67</td>\n",
       "    </tr>\n",
       "  </tbody>\n",
       "</table>\n",
       "<p>9344 rows × 2 columns</p>\n",
       "</div>"
      ],
      "text/plain": [
       "            DATE DCOILBRENTEU\n",
       "0     1987-05-20        18.63\n",
       "1     1987-05-21        18.45\n",
       "2     1987-05-22        18.55\n",
       "3     1987-05-25        18.60\n",
       "4     1987-05-26        18.63\n",
       "...          ...          ...\n",
       "9339  2023-03-07        83.03\n",
       "9340  2023-03-08         82.1\n",
       "9341  2023-03-09         81.0\n",
       "9342  2023-03-10         82.3\n",
       "9343  2023-03-13        79.67\n",
       "\n",
       "[9344 rows x 2 columns]"
      ]
     },
     "execution_count": 4,
     "metadata": {},
     "output_type": "execute_result"
    }
   ],
   "source": [
    "df"
   ]
  },
  {
   "cell_type": "code",
   "execution_count": 5,
   "metadata": {},
   "outputs": [],
   "source": [
    "df.columns = [\"Date\",\"Price\"]"
   ]
  },
  {
   "cell_type": "code",
   "execution_count": 6,
   "metadata": {},
   "outputs": [
    {
     "data": {
      "text/html": [
       "<div>\n",
       "<style scoped>\n",
       "    .dataframe tbody tr th:only-of-type {\n",
       "        vertical-align: middle;\n",
       "    }\n",
       "\n",
       "    .dataframe tbody tr th {\n",
       "        vertical-align: top;\n",
       "    }\n",
       "\n",
       "    .dataframe thead th {\n",
       "        text-align: right;\n",
       "    }\n",
       "</style>\n",
       "<table border=\"1\" class=\"dataframe\">\n",
       "  <thead>\n",
       "    <tr style=\"text-align: right;\">\n",
       "      <th></th>\n",
       "      <th>Date</th>\n",
       "      <th>Price</th>\n",
       "    </tr>\n",
       "  </thead>\n",
       "  <tbody>\n",
       "    <tr>\n",
       "      <th>0</th>\n",
       "      <td>1987-05-20</td>\n",
       "      <td>18.63</td>\n",
       "    </tr>\n",
       "    <tr>\n",
       "      <th>1</th>\n",
       "      <td>1987-05-21</td>\n",
       "      <td>18.45</td>\n",
       "    </tr>\n",
       "    <tr>\n",
       "      <th>2</th>\n",
       "      <td>1987-05-22</td>\n",
       "      <td>18.55</td>\n",
       "    </tr>\n",
       "    <tr>\n",
       "      <th>3</th>\n",
       "      <td>1987-05-25</td>\n",
       "      <td>18.60</td>\n",
       "    </tr>\n",
       "    <tr>\n",
       "      <th>4</th>\n",
       "      <td>1987-05-26</td>\n",
       "      <td>18.63</td>\n",
       "    </tr>\n",
       "    <tr>\n",
       "      <th>...</th>\n",
       "      <td>...</td>\n",
       "      <td>...</td>\n",
       "    </tr>\n",
       "    <tr>\n",
       "      <th>9339</th>\n",
       "      <td>2023-03-07</td>\n",
       "      <td>83.03</td>\n",
       "    </tr>\n",
       "    <tr>\n",
       "      <th>9340</th>\n",
       "      <td>2023-03-08</td>\n",
       "      <td>82.1</td>\n",
       "    </tr>\n",
       "    <tr>\n",
       "      <th>9341</th>\n",
       "      <td>2023-03-09</td>\n",
       "      <td>81.0</td>\n",
       "    </tr>\n",
       "    <tr>\n",
       "      <th>9342</th>\n",
       "      <td>2023-03-10</td>\n",
       "      <td>82.3</td>\n",
       "    </tr>\n",
       "    <tr>\n",
       "      <th>9343</th>\n",
       "      <td>2023-03-13</td>\n",
       "      <td>79.67</td>\n",
       "    </tr>\n",
       "  </tbody>\n",
       "</table>\n",
       "<p>9344 rows × 2 columns</p>\n",
       "</div>"
      ],
      "text/plain": [
       "            Date  Price\n",
       "0     1987-05-20  18.63\n",
       "1     1987-05-21  18.45\n",
       "2     1987-05-22  18.55\n",
       "3     1987-05-25  18.60\n",
       "4     1987-05-26  18.63\n",
       "...          ...    ...\n",
       "9339  2023-03-07  83.03\n",
       "9340  2023-03-08   82.1\n",
       "9341  2023-03-09   81.0\n",
       "9342  2023-03-10   82.3\n",
       "9343  2023-03-13  79.67\n",
       "\n",
       "[9344 rows x 2 columns]"
      ]
     },
     "execution_count": 6,
     "metadata": {},
     "output_type": "execute_result"
    }
   ],
   "source": [
    "df"
   ]
  },
  {
   "cell_type": "code",
   "execution_count": 7,
   "metadata": {},
   "outputs": [
    {
     "name": "stdout",
     "output_type": "stream",
     "text": [
      "<class 'pandas.core.frame.DataFrame'>\n",
      "RangeIndex: 9344 entries, 0 to 9343\n",
      "Data columns (total 2 columns):\n",
      " #   Column  Non-Null Count  Dtype \n",
      "---  ------  --------------  ----- \n",
      " 0   Date    9344 non-null   object\n",
      " 1   Price   9344 non-null   object\n",
      "dtypes: object(2)\n",
      "memory usage: 146.1+ KB\n"
     ]
    }
   ],
   "source": [
    "df.info()"
   ]
  },
  {
   "cell_type": "code",
   "execution_count": 8,
   "metadata": {},
   "outputs": [],
   "source": [
    "df[\"Date\"] = pd.to_datetime(df[\"Date\"])"
   ]
  },
  {
   "cell_type": "code",
   "execution_count": 9,
   "metadata": {},
   "outputs": [
    {
     "data": {
      "text/html": [
       "<div>\n",
       "<style scoped>\n",
       "    .dataframe tbody tr th:only-of-type {\n",
       "        vertical-align: middle;\n",
       "    }\n",
       "\n",
       "    .dataframe tbody tr th {\n",
       "        vertical-align: top;\n",
       "    }\n",
       "\n",
       "    .dataframe thead th {\n",
       "        text-align: right;\n",
       "    }\n",
       "</style>\n",
       "<table border=\"1\" class=\"dataframe\">\n",
       "  <thead>\n",
       "    <tr style=\"text-align: right;\">\n",
       "      <th></th>\n",
       "      <th>Date</th>\n",
       "      <th>Price</th>\n",
       "    </tr>\n",
       "  </thead>\n",
       "  <tbody>\n",
       "    <tr>\n",
       "      <th>0</th>\n",
       "      <td>1987-05-20</td>\n",
       "      <td>18.63</td>\n",
       "    </tr>\n",
       "    <tr>\n",
       "      <th>1</th>\n",
       "      <td>1987-05-21</td>\n",
       "      <td>18.45</td>\n",
       "    </tr>\n",
       "    <tr>\n",
       "      <th>2</th>\n",
       "      <td>1987-05-22</td>\n",
       "      <td>18.55</td>\n",
       "    </tr>\n",
       "    <tr>\n",
       "      <th>3</th>\n",
       "      <td>1987-05-25</td>\n",
       "      <td>18.60</td>\n",
       "    </tr>\n",
       "    <tr>\n",
       "      <th>4</th>\n",
       "      <td>1987-05-26</td>\n",
       "      <td>18.63</td>\n",
       "    </tr>\n",
       "    <tr>\n",
       "      <th>...</th>\n",
       "      <td>...</td>\n",
       "      <td>...</td>\n",
       "    </tr>\n",
       "    <tr>\n",
       "      <th>9339</th>\n",
       "      <td>2023-03-07</td>\n",
       "      <td>83.03</td>\n",
       "    </tr>\n",
       "    <tr>\n",
       "      <th>9340</th>\n",
       "      <td>2023-03-08</td>\n",
       "      <td>82.1</td>\n",
       "    </tr>\n",
       "    <tr>\n",
       "      <th>9341</th>\n",
       "      <td>2023-03-09</td>\n",
       "      <td>81.0</td>\n",
       "    </tr>\n",
       "    <tr>\n",
       "      <th>9342</th>\n",
       "      <td>2023-03-10</td>\n",
       "      <td>82.3</td>\n",
       "    </tr>\n",
       "    <tr>\n",
       "      <th>9343</th>\n",
       "      <td>2023-03-13</td>\n",
       "      <td>79.67</td>\n",
       "    </tr>\n",
       "  </tbody>\n",
       "</table>\n",
       "<p>9344 rows × 2 columns</p>\n",
       "</div>"
      ],
      "text/plain": [
       "           Date  Price\n",
       "0    1987-05-20  18.63\n",
       "1    1987-05-21  18.45\n",
       "2    1987-05-22  18.55\n",
       "3    1987-05-25  18.60\n",
       "4    1987-05-26  18.63\n",
       "...         ...    ...\n",
       "9339 2023-03-07  83.03\n",
       "9340 2023-03-08   82.1\n",
       "9341 2023-03-09   81.0\n",
       "9342 2023-03-10   82.3\n",
       "9343 2023-03-13  79.67\n",
       "\n",
       "[9344 rows x 2 columns]"
      ]
     },
     "execution_count": 9,
     "metadata": {},
     "output_type": "execute_result"
    }
   ],
   "source": [
    "df"
   ]
  },
  {
   "cell_type": "code",
   "execution_count": 10,
   "metadata": {},
   "outputs": [
    {
     "name": "stdout",
     "output_type": "stream",
     "text": [
      "<class 'pandas.core.frame.DataFrame'>\n",
      "RangeIndex: 9344 entries, 0 to 9343\n",
      "Data columns (total 2 columns):\n",
      " #   Column  Non-Null Count  Dtype         \n",
      "---  ------  --------------  -----         \n",
      " 0   Date    9344 non-null   datetime64[ns]\n",
      " 1   Price   9344 non-null   object        \n",
      "dtypes: datetime64[ns](1), object(1)\n",
      "memory usage: 146.1+ KB\n"
     ]
    }
   ],
   "source": [
    "df.info()"
   ]
  },
  {
   "cell_type": "code",
   "execution_count": 11,
   "metadata": {},
   "outputs": [
    {
     "data": {
      "text/plain": [
       ".        253\n",
       "18.48     26\n",
       "18.15     22\n",
       "16.85     20\n",
       "18.00     18\n",
       "        ... \n",
       "18.59      1\n",
       "40.62      1\n",
       "71.31      1\n",
       "58.70      1\n",
       "53.25      1\n",
       "Name: Price, Length: 5128, dtype: int64"
      ]
     },
     "execution_count": 11,
     "metadata": {},
     "output_type": "execute_result"
    }
   ],
   "source": [
    "df[\"Price\"].value_counts()"
   ]
  },
  {
   "cell_type": "code",
   "execution_count": 12,
   "metadata": {},
   "outputs": [],
   "source": [
    "df = df[df[\"Price\"]!=\".\"]"
   ]
  },
  {
   "cell_type": "code",
   "execution_count": 13,
   "metadata": {},
   "outputs": [
    {
     "data": {
      "text/html": [
       "<div>\n",
       "<style scoped>\n",
       "    .dataframe tbody tr th:only-of-type {\n",
       "        vertical-align: middle;\n",
       "    }\n",
       "\n",
       "    .dataframe tbody tr th {\n",
       "        vertical-align: top;\n",
       "    }\n",
       "\n",
       "    .dataframe thead th {\n",
       "        text-align: right;\n",
       "    }\n",
       "</style>\n",
       "<table border=\"1\" class=\"dataframe\">\n",
       "  <thead>\n",
       "    <tr style=\"text-align: right;\">\n",
       "      <th></th>\n",
       "      <th>Date</th>\n",
       "      <th>Price</th>\n",
       "    </tr>\n",
       "  </thead>\n",
       "  <tbody>\n",
       "    <tr>\n",
       "      <th>0</th>\n",
       "      <td>1987-05-20</td>\n",
       "      <td>18.63</td>\n",
       "    </tr>\n",
       "    <tr>\n",
       "      <th>1</th>\n",
       "      <td>1987-05-21</td>\n",
       "      <td>18.45</td>\n",
       "    </tr>\n",
       "    <tr>\n",
       "      <th>2</th>\n",
       "      <td>1987-05-22</td>\n",
       "      <td>18.55</td>\n",
       "    </tr>\n",
       "    <tr>\n",
       "      <th>3</th>\n",
       "      <td>1987-05-25</td>\n",
       "      <td>18.60</td>\n",
       "    </tr>\n",
       "    <tr>\n",
       "      <th>4</th>\n",
       "      <td>1987-05-26</td>\n",
       "      <td>18.63</td>\n",
       "    </tr>\n",
       "    <tr>\n",
       "      <th>...</th>\n",
       "      <td>...</td>\n",
       "      <td>...</td>\n",
       "    </tr>\n",
       "    <tr>\n",
       "      <th>9339</th>\n",
       "      <td>2023-03-07</td>\n",
       "      <td>83.03</td>\n",
       "    </tr>\n",
       "    <tr>\n",
       "      <th>9340</th>\n",
       "      <td>2023-03-08</td>\n",
       "      <td>82.1</td>\n",
       "    </tr>\n",
       "    <tr>\n",
       "      <th>9341</th>\n",
       "      <td>2023-03-09</td>\n",
       "      <td>81.0</td>\n",
       "    </tr>\n",
       "    <tr>\n",
       "      <th>9342</th>\n",
       "      <td>2023-03-10</td>\n",
       "      <td>82.3</td>\n",
       "    </tr>\n",
       "    <tr>\n",
       "      <th>9343</th>\n",
       "      <td>2023-03-13</td>\n",
       "      <td>79.67</td>\n",
       "    </tr>\n",
       "  </tbody>\n",
       "</table>\n",
       "<p>9091 rows × 2 columns</p>\n",
       "</div>"
      ],
      "text/plain": [
       "           Date  Price\n",
       "0    1987-05-20  18.63\n",
       "1    1987-05-21  18.45\n",
       "2    1987-05-22  18.55\n",
       "3    1987-05-25  18.60\n",
       "4    1987-05-26  18.63\n",
       "...         ...    ...\n",
       "9339 2023-03-07  83.03\n",
       "9340 2023-03-08   82.1\n",
       "9341 2023-03-09   81.0\n",
       "9342 2023-03-10   82.3\n",
       "9343 2023-03-13  79.67\n",
       "\n",
       "[9091 rows x 2 columns]"
      ]
     },
     "execution_count": 13,
     "metadata": {},
     "output_type": "execute_result"
    }
   ],
   "source": [
    "df"
   ]
  },
  {
   "cell_type": "code",
   "execution_count": 14,
   "metadata": {},
   "outputs": [],
   "source": [
    "df.index = df[\"Date\"]"
   ]
  },
  {
   "cell_type": "code",
   "execution_count": 15,
   "metadata": {},
   "outputs": [],
   "source": [
    "df = df.drop(\"Date\",axis=1)"
   ]
  },
  {
   "cell_type": "code",
   "execution_count": 16,
   "metadata": {},
   "outputs": [],
   "source": [
    "df[\"Price\"] = df[\"Price\"].apply(lambda x: float(x))"
   ]
  },
  {
   "cell_type": "code",
   "execution_count": 17,
   "metadata": {},
   "outputs": [
    {
     "data": {
      "text/html": [
       "<div>\n",
       "<style scoped>\n",
       "    .dataframe tbody tr th:only-of-type {\n",
       "        vertical-align: middle;\n",
       "    }\n",
       "\n",
       "    .dataframe tbody tr th {\n",
       "        vertical-align: top;\n",
       "    }\n",
       "\n",
       "    .dataframe thead th {\n",
       "        text-align: right;\n",
       "    }\n",
       "</style>\n",
       "<table border=\"1\" class=\"dataframe\">\n",
       "  <thead>\n",
       "    <tr style=\"text-align: right;\">\n",
       "      <th></th>\n",
       "      <th>Price</th>\n",
       "    </tr>\n",
       "    <tr>\n",
       "      <th>Date</th>\n",
       "      <th></th>\n",
       "    </tr>\n",
       "  </thead>\n",
       "  <tbody>\n",
       "    <tr>\n",
       "      <th>1987-05-20</th>\n",
       "      <td>18.63</td>\n",
       "    </tr>\n",
       "    <tr>\n",
       "      <th>1987-05-21</th>\n",
       "      <td>18.45</td>\n",
       "    </tr>\n",
       "    <tr>\n",
       "      <th>1987-05-22</th>\n",
       "      <td>18.55</td>\n",
       "    </tr>\n",
       "    <tr>\n",
       "      <th>1987-05-25</th>\n",
       "      <td>18.60</td>\n",
       "    </tr>\n",
       "    <tr>\n",
       "      <th>1987-05-26</th>\n",
       "      <td>18.63</td>\n",
       "    </tr>\n",
       "    <tr>\n",
       "      <th>...</th>\n",
       "      <td>...</td>\n",
       "    </tr>\n",
       "    <tr>\n",
       "      <th>2023-03-07</th>\n",
       "      <td>83.03</td>\n",
       "    </tr>\n",
       "    <tr>\n",
       "      <th>2023-03-08</th>\n",
       "      <td>82.10</td>\n",
       "    </tr>\n",
       "    <tr>\n",
       "      <th>2023-03-09</th>\n",
       "      <td>81.00</td>\n",
       "    </tr>\n",
       "    <tr>\n",
       "      <th>2023-03-10</th>\n",
       "      <td>82.30</td>\n",
       "    </tr>\n",
       "    <tr>\n",
       "      <th>2023-03-13</th>\n",
       "      <td>79.67</td>\n",
       "    </tr>\n",
       "  </tbody>\n",
       "</table>\n",
       "<p>9091 rows × 1 columns</p>\n",
       "</div>"
      ],
      "text/plain": [
       "            Price\n",
       "Date             \n",
       "1987-05-20  18.63\n",
       "1987-05-21  18.45\n",
       "1987-05-22  18.55\n",
       "1987-05-25  18.60\n",
       "1987-05-26  18.63\n",
       "...           ...\n",
       "2023-03-07  83.03\n",
       "2023-03-08  82.10\n",
       "2023-03-09  81.00\n",
       "2023-03-10  82.30\n",
       "2023-03-13  79.67\n",
       "\n",
       "[9091 rows x 1 columns]"
      ]
     },
     "execution_count": 17,
     "metadata": {},
     "output_type": "execute_result"
    }
   ],
   "source": [
    "df "
   ]
  },
  {
   "cell_type": "code",
   "execution_count": 18,
   "metadata": {},
   "outputs": [
    {
     "name": "stdout",
     "output_type": "stream",
     "text": [
      "<class 'pandas.core.frame.DataFrame'>\n",
      "DatetimeIndex: 9091 entries, 1987-05-20 to 2023-03-13\n",
      "Data columns (total 1 columns):\n",
      " #   Column  Non-Null Count  Dtype  \n",
      "---  ------  --------------  -----  \n",
      " 0   Price   9091 non-null   float64\n",
      "dtypes: float64(1)\n",
      "memory usage: 142.0 KB\n"
     ]
    }
   ],
   "source": [
    "df.info()"
   ]
  },
  {
   "cell_type": "code",
   "execution_count": 19,
   "metadata": {},
   "outputs": [
    {
     "data": {
      "text/plain": [
       "<AxesSubplot:xlabel='Date'>"
      ]
     },
     "execution_count": 19,
     "metadata": {},
     "output_type": "execute_result"
    },
    {
     "data": {
      "image/png": "[encoded data removed]",
      "text/plain": [
       "<Figure size 1080x504 with 1 Axes>"
      ]
     },
     "metadata": {
      "needs_background": "light"
     },
     "output_type": "display_data"
    }
   ],
   "source": [
    "df.plot(figsize=(15,7))"
   ]
  },
  {
   "cell_type": "code",
   "execution_count": 20,
   "metadata": {},
   "outputs": [],
   "source": [
    "df1 = df.reset_index()['Price']"
   ]
  },
  {
   "cell_type": "code",
   "execution_count": 21,
   "metadata": {},
   "outputs": [
    {
     "data": {
      "text/plain": [
       "0       18.63\n",
       "1       18.45\n",
       "2       18.55\n",
       "3       18.60\n",
       "4       18.63\n",
       "        ...  \n",
       "9086    83.03\n",
       "9087    82.10\n",
       "9088    81.00\n",
       "9089    82.30\n",
       "9090    79.67\n",
       "Name: Price, Length: 9091, dtype: float64"
      ]
     },
     "execution_count": 21,
     "metadata": {},
     "output_type": "execute_result"
    }
   ],
   "source": [
    "df1 "
   ]
  },
  {
   "cell_type": "code",
   "execution_count": 22,
   "metadata": {},
   "outputs": [
    {
     "data": {
      "text/plain": [
       "(9091, 1)"
      ]
     },
     "execution_count": 22,
     "metadata": {},
     "output_type": "execute_result"
    }
   ],
   "source": [
    "np.array(df1).reshape(-1,1).shape"
   ]
  },
  {
   "cell_type": "code",
   "execution_count": 69,
   "metadata": {},
   "outputs": [],
   "source": [
    "# scaling data\n",
    "\n",
    "from sklearn.preprocessing import MinMaxScaler, StandardScaler\n",
    "\n",
    "scaler = StandardScaler()\n",
    "\n",
    "df1 = scaler.fit_transform(np.array(df1).reshape(-1,1))"
   ]
  },
  {
   "cell_type": "code",
   "execution_count": 70,
   "metadata": {},
   "outputs": [
    {
     "data": {
      "text/plain": [
       "[<matplotlib.lines.Line2D at 0x1ea41d3f4f0>]"
      ]
     },
     "execution_count": 70,
     "metadata": {},
     "output_type": "execute_result"
    },
    {
     "data": {
      "image/png": "[encoded data removed]",
      "text/plain": [
       "<Figure size 432x288 with 1 Axes>"
      ]
     },
     "metadata": {
      "needs_background": "light"
     },
     "output_type": "display_data"
    }
   ],
   "source": [
    "plt.plot(df1)"
   ]
  },
  {
   "cell_type": "code",
   "execution_count": 25,
   "metadata": {},
   "outputs": [],
   "source": [
    "df2 = pd.DataFrame(np.random.randint(0,100,(7,7)))"
   ]
  },
  {
   "cell_type": "code",
   "execution_count": 26,
   "metadata": {},
   "outputs": [
    {
     "data": {
      "text/html": [
       "<div>\n",
       "<style scoped>\n",
       "    .dataframe tbody tr th:only-of-type {\n",
       "        vertical-align: middle;\n",
       "    }\n",
       "\n",
       "    .dataframe tbody tr th {\n",
       "        vertical-align: top;\n",
       "    }\n",
       "\n",
       "    .dataframe thead th {\n",
       "        text-align: right;\n",
       "    }\n",
       "</style>\n",
       "<table border=\"1\" class=\"dataframe\">\n",
       "  <thead>\n",
       "    <tr style=\"text-align: right;\">\n",
       "      <th></th>\n",
       "      <th>0</th>\n",
       "      <th>1</th>\n",
       "      <th>2</th>\n",
       "      <th>3</th>\n",
       "      <th>4</th>\n",
       "      <th>5</th>\n",
       "      <th>6</th>\n",
       "    </tr>\n",
       "  </thead>\n",
       "  <tbody>\n",
       "    <tr>\n",
       "      <th>0</th>\n",
       "      <td>31</td>\n",
       "      <td>67</td>\n",
       "      <td>60</td>\n",
       "      <td>4</td>\n",
       "      <td>74</td>\n",
       "      <td>34</td>\n",
       "      <td>62</td>\n",
       "    </tr>\n",
       "    <tr>\n",
       "      <th>1</th>\n",
       "      <td>23</td>\n",
       "      <td>50</td>\n",
       "      <td>21</td>\n",
       "      <td>13</td>\n",
       "      <td>29</td>\n",
       "      <td>14</td>\n",
       "      <td>12</td>\n",
       "    </tr>\n",
       "    <tr>\n",
       "      <th>2</th>\n",
       "      <td>67</td>\n",
       "      <td>9</td>\n",
       "      <td>61</td>\n",
       "      <td>89</td>\n",
       "      <td>7</td>\n",
       "      <td>94</td>\n",
       "      <td>92</td>\n",
       "    </tr>\n",
       "    <tr>\n",
       "      <th>3</th>\n",
       "      <td>13</td>\n",
       "      <td>41</td>\n",
       "      <td>53</td>\n",
       "      <td>1</td>\n",
       "      <td>76</td>\n",
       "      <td>11</td>\n",
       "      <td>43</td>\n",
       "    </tr>\n",
       "    <tr>\n",
       "      <th>4</th>\n",
       "      <td>63</td>\n",
       "      <td>70</td>\n",
       "      <td>19</td>\n",
       "      <td>2</td>\n",
       "      <td>39</td>\n",
       "      <td>74</td>\n",
       "      <td>22</td>\n",
       "    </tr>\n",
       "    <tr>\n",
       "      <th>5</th>\n",
       "      <td>48</td>\n",
       "      <td>81</td>\n",
       "      <td>52</td>\n",
       "      <td>83</td>\n",
       "      <td>32</td>\n",
       "      <td>90</td>\n",
       "      <td>34</td>\n",
       "    </tr>\n",
       "    <tr>\n",
       "      <th>6</th>\n",
       "      <td>7</td>\n",
       "      <td>55</td>\n",
       "      <td>62</td>\n",
       "      <td>47</td>\n",
       "      <td>48</td>\n",
       "      <td>50</td>\n",
       "      <td>86</td>\n",
       "    </tr>\n",
       "  </tbody>\n",
       "</table>\n",
       "</div>"
      ],
      "text/plain": [
       "    0   1   2   3   4   5   6\n",
       "0  31  67  60   4  74  34  62\n",
       "1  23  50  21  13  29  14  12\n",
       "2  67   9  61  89   7  94  92\n",
       "3  13  41  53   1  76  11  43\n",
       "4  63  70  19   2  39  74  22\n",
       "5  48  81  52  83  32  90  34\n",
       "6   7  55  62  47  48  50  86"
      ]
     },
     "execution_count": 26,
     "metadata": {},
     "output_type": "execute_result"
    }
   ],
   "source": [
    "df2 "
   ]
  },
  {
   "cell_type": "code",
   "execution_count": 27,
   "metadata": {},
   "outputs": [
    {
     "data": {
      "text/plain": [
       "array([[0.4       , 0.80555556, 0.95348837, 0.03409091, 0.97101449,\n",
       "        0.27710843, 0.625     ],\n",
       "       [0.26666667, 0.56944444, 0.04651163, 0.13636364, 0.31884058,\n",
       "        0.03614458, 0.        ],\n",
       "       [1.        , 0.        , 0.97674419, 1.        , 0.        ,\n",
       "        1.        , 1.        ],\n",
       "       [0.1       , 0.44444444, 0.79069767, 0.        , 1.        ,\n",
       "        0.        , 0.3875    ],\n",
       "       [0.93333333, 0.84722222, 0.        , 0.01136364, 0.46376812,\n",
       "        0.75903614, 0.125     ],\n",
       "       [0.68333333, 1.        , 0.76744186, 0.93181818, 0.36231884,\n",
       "        0.95180723, 0.275     ],\n",
       "       [0.        , 0.63888889, 1.        , 0.52272727, 0.5942029 ,\n",
       "        0.46987952, 0.925     ]])"
      ]
     },
     "execution_count": 27,
     "metadata": {},
     "output_type": "execute_result"
    }
   ],
   "source": [
    "scaler.fit_transform(df2)"
   ]
  },
  {
   "cell_type": "code",
   "execution_count": 29,
   "metadata": {},
   "outputs": [],
   "source": [
    "df1 = df.reset_index()['Price']"
   ]
  },
  {
   "cell_type": "code",
   "execution_count": 30,
   "metadata": {},
   "outputs": [
    {
     "data": {
      "text/plain": [
       "0       18.63\n",
       "1       18.45\n",
       "2       18.55\n",
       "3       18.60\n",
       "4       18.63\n",
       "        ...  \n",
       "9086    83.03\n",
       "9087    82.10\n",
       "9088    81.00\n",
       "9089    82.30\n",
       "9090    79.67\n",
       "Name: Price, Length: 9091, dtype: float64"
      ]
     },
     "execution_count": 30,
     "metadata": {},
     "output_type": "execute_result"
    }
   ],
   "source": [
    "df1 "
   ]
  },
  {
   "cell_type": "code",
   "execution_count": 31,
   "metadata": {},
   "outputs": [],
   "source": [
    "w = 100"
   ]
  },
  {
   "cell_type": "code",
   "execution_count": 71,
   "metadata": {},
   "outputs": [],
   "source": [
    "#train- test split\n",
    "\n",
    "train_size = int(len(df1)*0.95)\n",
    "test_size = len(df1) - train_size "
   ]
  },
  {
   "cell_type": "code",
   "execution_count": 72,
   "metadata": {},
   "outputs": [],
   "source": [
    "train_data = df1[:train_size+w:]\n",
    "test_data = df1[train_size::]"
   ]
  },
  {
   "cell_type": "code",
   "execution_count": 73,
   "metadata": {},
   "outputs": [
    {
     "data": {
      "text/plain": [
       "array([[-0.91542714],\n",
       "       [-0.92090208],\n",
       "       [-0.91786045],\n",
       "       ...,\n",
       "       [ 1.05859404],\n",
       "       [ 1.06863143],\n",
       "       [ 1.09326868]])"
      ]
     },
     "execution_count": 73,
     "metadata": {},
     "output_type": "execute_result"
    }
   ],
   "source": [
    "train_data"
   ]
  },
  {
   "cell_type": "code",
   "execution_count": 74,
   "metadata": {},
   "outputs": [
    {
     "data": {
      "text/plain": [
       "((8736, 1), (455, 1))"
      ]
     },
     "execution_count": 74,
     "metadata": {},
     "output_type": "execute_result"
    }
   ],
   "source": [
    "train_data.shape,test_data.shape"
   ]
  },
  {
   "cell_type": "code",
   "execution_count": 75,
   "metadata": {},
   "outputs": [
    {
     "data": {
      "text/plain": [
       "[<matplotlib.lines.Line2D at 0x1ea41d70340>]"
      ]
     },
     "execution_count": 75,
     "metadata": {},
     "output_type": "execute_result"
    },
    {
     "data": {
      "image/png": "[encoded data removed]",
      "text/plain": [
       "<Figure size 432x288 with 1 Axes>"
      ]
     },
     "metadata": {
      "needs_background": "light"
     },
     "output_type": "display_data"
    }
   ],
   "source": [
    "plt.plot(df.index[:train_size+w],train_data)\n"
   ]
  },
  {
   "cell_type": "code",
   "execution_count": 76,
   "metadata": {},
   "outputs": [
    {
     "data": {
      "text/plain": [
       "[<matplotlib.lines.Line2D at 0x1ea41dc6790>]"
      ]
     },
     "execution_count": 76,
     "metadata": {},
     "output_type": "execute_result"
    },
    {
     "data": {
      "image/png": "[encoded data removed]",
      "text/plain": [
       "<Figure size 432x288 with 1 Axes>"
      ]
     },
     "metadata": {
      "needs_background": "light"
     },
     "output_type": "display_data"
    }
   ],
   "source": [
    "plt.plot(df.index[train_size:],test_data)\n"
   ]
  },
  {
   "cell_type": "code",
   "execution_count": 77,
   "metadata": {},
   "outputs": [],
   "source": [
    "def create_dataset(dataset,time_step):\n",
    "    dataX,dataY = [], []\n",
    "\n",
    "    for i in range(len(dataset)-time_step):\n",
    "        a = dataset[i:(i+time_step),0]\n",
    "        dataX.append(a)\n",
    "        dataY.append(dataset[i+time_step,0])\n",
    "\n",
    "    return np.array(dataX), np.array(dataY)"
   ]
  },
  {
   "cell_type": "code",
   "execution_count": 78,
   "metadata": {},
   "outputs": [],
   "source": [
    "train_data = np.array(train_data).reshape(-1,1)\n",
    "test_data = np.array(test_data).reshape(-1,1)"
   ]
  },
  {
   "cell_type": "code",
   "execution_count": 79,
   "metadata": {},
   "outputs": [],
   "source": [
    "time_step = w\n",
    "#Using 100 consecutive values predicting 101th value\n",
    "#f1-------f100 = X\n",
    "#f101 = y\n",
    "X_train, y_train = create_dataset(train_data,time_step)\n",
    "X_test, y_test = create_dataset(test_data,time_step)"
   ]
  },
  {
   "cell_type": "code",
   "execution_count": 80,
   "metadata": {},
   "outputs": [
    {
     "data": {
      "text/plain": [
       "((8636, 100), (355, 100))"
      ]
     },
     "execution_count": 80,
     "metadata": {},
     "output_type": "execute_result"
    }
   ],
   "source": [
    "X_train.shape,X_test.shape"
   ]
  },
  {
   "cell_type": "code",
   "execution_count": 81,
   "metadata": {},
   "outputs": [],
   "source": [
    "#Making data 3D\n",
    "X_train = X_train.reshape(X_train.shape[0],X_train.shape[1],1)\n",
    "X_test = X_test.reshape(X_test.shape[0],X_test.shape[1],1)"
   ]
  },
  {
   "cell_type": "code",
   "execution_count": 82,
   "metadata": {},
   "outputs": [
    {
     "data": {
      "text/plain": [
       "((8636, 100, 1), (355, 100, 1))"
      ]
     },
     "execution_count": 82,
     "metadata": {},
     "output_type": "execute_result"
    }
   ],
   "source": [
    "X_train.shape,X_test.shape"
   ]
  },
  {
   "cell_type": "code",
   "execution_count": 83,
   "metadata": {},
   "outputs": [
    {
     "data": {
      "text/plain": [
       "array([[[-0.91542714],\n",
       "        [-0.92090208],\n",
       "        [-0.91786045],\n",
       "        ...,\n",
       "        [-0.91086469],\n",
       "        [-0.91633963],\n",
       "        [-0.91694796]],\n",
       "\n",
       "       [[-0.92090208],\n",
       "        [-0.91786045],\n",
       "        [-0.91633963],\n",
       "        ...,\n",
       "        [-0.91633963],\n",
       "        [-0.91694796],\n",
       "        [-0.91542714]],\n",
       "\n",
       "       [[-0.91786045],\n",
       "        [-0.91633963],\n",
       "        [-0.91542714],\n",
       "        ...,\n",
       "        [-0.91694796],\n",
       "        [-0.91542714],\n",
       "        [-0.91633963]],\n",
       "\n",
       "       ...,\n",
       "\n",
       "       [[ 0.60417375],\n",
       "        [ 0.61056119],\n",
       "        [ 0.61451531],\n",
       "        ...,\n",
       "        [ 1.0172278 ],\n",
       "        [ 1.06528563],\n",
       "        [ 1.05859404]],\n",
       "\n",
       "       [[ 0.61056119],\n",
       "        [ 0.61451531],\n",
       "        [ 0.62972349],\n",
       "        ...,\n",
       "        [ 1.06528563],\n",
       "        [ 1.05859404],\n",
       "        [ 1.05859404]],\n",
       "\n",
       "       [[ 0.61451531],\n",
       "        [ 0.62972349],\n",
       "        [ 0.62759434],\n",
       "        ...,\n",
       "        [ 1.05859404],\n",
       "        [ 1.05859404],\n",
       "        [ 1.06863143]]])"
      ]
     },
     "execution_count": 83,
     "metadata": {},
     "output_type": "execute_result"
    }
   ],
   "source": [
    "X_train"
   ]
  },
  {
   "cell_type": "code",
   "execution_count": 84,
   "metadata": {},
   "outputs": [],
   "source": [
    "from tensorflow.keras.models import Sequential\n",
    "from tensorflow.keras.layers import Dense, LSTM "
   ]
  },
  {
   "cell_type": "code",
   "execution_count": 85,
   "metadata": {},
   "outputs": [],
   "source": [
    "model = Sequential()\n",
    "\n",
    "model.add(LSTM(50,return_sequences=True,input_shape=(w,1)))\n",
    "model.add(LSTM(50,return_sequences=True))\n",
    "model.add(LSTM(50))\n",
    "model.add(Dense(1))"
   ]
  },
  {
   "cell_type": "code",
   "execution_count": 86,
   "metadata": {},
   "outputs": [],
   "source": [
    "model.compile(loss = \"mean_squared_error\", optimizer = \"adam\")"
   ]
  },
  {
   "cell_type": "code",
   "execution_count": 87,
   "metadata": {},
   "outputs": [
    {
     "name": "stdout",
     "output_type": "stream",
     "text": [
      "Model: \"sequential_1\"\n",
      "_________________________________________________________________\n",
      "Layer (type)                 Output Shape              Param #   \n",
      "=================================================================\n",
      "lstm_3 (LSTM)                (None, 100, 50)           10400     \n",
      "_________________________________________________________________\n",
      "lstm_4 (LSTM)                (None, 100, 50)           20200     \n",
      "_________________________________________________________________\n",
      "lstm_5 (LSTM)                (None, 50)                20200     \n",
      "_________________________________________________________________\n",
      "dense_1 (Dense)              (None, 1)                 51        \n",
      "=================================================================\n",
      "Total params: 50,851\n",
      "Trainable params: 50,851\n",
      "Non-trainable params: 0\n",
      "_________________________________________________________________\n"
     ]
    }
   ],
   "source": [
    "model.summary()"
   ]
  },
  {
   "cell_type": "code",
   "execution_count": 88,
   "metadata": {},
   "outputs": [
    {
     "name": "stdout",
     "output_type": "stream",
     "text": [
      "Epoch 1/10\n",
      "68/68 [==============================] - 16s 229ms/step - loss: 0.0821 - val_loss: 0.0408\n",
      "Epoch 2/10\n",
      "68/68 [==============================] - 14s 207ms/step - loss: 0.0087 - val_loss: 0.0318\n",
      "Epoch 3/10\n",
      "68/68 [==============================] - 14s 201ms/step - loss: 0.0076 - val_loss: 0.0287\n",
      "Epoch 4/10\n",
      "68/68 [==============================] - 14s 210ms/step - loss: 0.0072 - val_loss: 0.0264\n",
      "Epoch 5/10\n",
      "68/68 [==============================] - 16s 234ms/step - loss: 0.0065 - val_loss: 0.0260\n",
      "Epoch 6/10\n",
      "68/68 [==============================] - 14s 206ms/step - loss: 0.0061 - val_loss: 0.0250\n",
      "Epoch 7/10\n",
      "68/68 [==============================] - 15s 217ms/step - loss: 0.0058 - val_loss: 0.0286\n",
      "Epoch 8/10\n",
      "68/68 [==============================] - 18s 258ms/step - loss: 0.0053 - val_loss: 0.0229\n",
      "Epoch 9/10\n",
      "68/68 [==============================] - 18s 264ms/step - loss: 0.0050 - val_loss: 0.0231\n",
      "Epoch 10/10\n",
      "68/68 [==============================] - 16s 231ms/step - loss: 0.0046 - val_loss: 0.0221\n"
     ]
    },
    {
     "data": {
      "text/plain": [
       "<tensorflow.python.keras.callbacks.History at 0x1ea4204c5b0>"
      ]
     },
     "execution_count": 88,
     "metadata": {},
     "output_type": "execute_result"
    }
   ],
   "source": [
    "model.fit(X_train,y_train,validation_data=(X_test,y_test),epochs=10,batch_size=128,verbose=1)"
   ]
  },
  {
   "cell_type": "code",
   "execution_count": 89,
   "metadata": {},
   "outputs": [],
   "source": [
    "train_predict = model.predict(X_train)\n",
    "test_predict = model.predict(X_test)"
   ]
  },
  {
   "cell_type": "code",
   "execution_count": 91,
   "metadata": {},
   "outputs": [],
   "source": [
    "train_predict = scaler.inverse_transform(train_predict)\n",
    "test_predict = scaler.inverse_transform(test_predict)"
   ]
  },
  {
   "cell_type": "code",
   "execution_count": 92,
   "metadata": {},
   "outputs": [
    {
     "data": {
      "text/plain": [
       "56.11468641102142"
      ]
     },
     "execution_count": 92,
     "metadata": {},
     "output_type": "execute_result"
    }
   ],
   "source": [
    "import math \n",
    "from sklearn.metrics import mean_squared_error\n",
    "math.sqrt(mean_squared_error(y_train,train_predict))"
   ]
  },
  {
   "cell_type": "code",
   "execution_count": 93,
   "metadata": {},
   "outputs": [
    {
     "data": {
      "text/plain": [
       "94.23447908722457"
      ]
     },
     "execution_count": 93,
     "metadata": {},
     "output_type": "execute_result"
    }
   ],
   "source": [
    "math.sqrt(mean_squared_error(y_test,test_predict))"
   ]
  },
  {
   "cell_type": "code",
   "execution_count": 94,
   "metadata": {},
   "outputs": [
    {
     "data": {
      "text/plain": [
       "(8636, 1)"
      ]
     },
     "execution_count": 94,
     "metadata": {},
     "output_type": "execute_result"
    }
   ],
   "source": [
    "train_predict.shape"
   ]
  },
  {
   "cell_type": "code",
   "execution_count": 95,
   "metadata": {},
   "outputs": [
    {
     "data": {
      "text/plain": [
       "(355, 1)"
      ]
     },
     "execution_count": 95,
     "metadata": {},
     "output_type": "execute_result"
    }
   ],
   "source": [
    "test_predict.shape"
   ]
  },
  {
   "cell_type": "code",
   "execution_count": 96,
   "metadata": {},
   "outputs": [],
   "source": [
    "a = train_predict.reshape(train_predict.shape[0],)"
   ]
  },
  {
   "cell_type": "code",
   "execution_count": 97,
   "metadata": {},
   "outputs": [
    {
     "data": {
      "text/plain": [
       "(8636,)"
      ]
     },
     "execution_count": 97,
     "metadata": {},
     "output_type": "execute_result"
    }
   ],
   "source": [
    "a.shape"
   ]
  },
  {
   "cell_type": "code",
   "execution_count": 98,
   "metadata": {},
   "outputs": [],
   "source": [
    "b = test_predict.reshape(test_predict.shape[0],)"
   ]
  },
  {
   "cell_type": "code",
   "execution_count": 99,
   "metadata": {},
   "outputs": [
    {
     "data": {
      "text/plain": [
       "(355,)"
      ]
     },
     "execution_count": 99,
     "metadata": {},
     "output_type": "execute_result"
    }
   ],
   "source": [
    "b.shape "
   ]
  },
  {
   "cell_type": "code",
   "execution_count": 100,
   "metadata": {},
   "outputs": [],
   "source": [
    "c = list(a)+list(b) # Total"
   ]
  },
  {
   "cell_type": "code",
   "execution_count": 101,
   "metadata": {},
   "outputs": [
    {
     "data": {
      "text/plain": [
       "8991"
      ]
     },
     "execution_count": 101,
     "metadata": {},
     "output_type": "execute_result"
    }
   ],
   "source": [
    "len(c)"
   ]
  },
  {
   "cell_type": "code",
   "execution_count": 102,
   "metadata": {},
   "outputs": [
    {
     "data": {
      "text/html": [
       "<div>\n",
       "<style scoped>\n",
       "    .dataframe tbody tr th:only-of-type {\n",
       "        vertical-align: middle;\n",
       "    }\n",
       "\n",
       "    .dataframe tbody tr th {\n",
       "        vertical-align: top;\n",
       "    }\n",
       "\n",
       "    .dataframe thead th {\n",
       "        text-align: right;\n",
       "    }\n",
       "</style>\n",
       "<table border=\"1\" class=\"dataframe\">\n",
       "  <thead>\n",
       "    <tr style=\"text-align: right;\">\n",
       "      <th></th>\n",
       "      <th>Price</th>\n",
       "      <th>Predicted Price</th>\n",
       "    </tr>\n",
       "    <tr>\n",
       "      <th>Date</th>\n",
       "      <th></th>\n",
       "      <th></th>\n",
       "    </tr>\n",
       "  </thead>\n",
       "  <tbody>\n",
       "    <tr>\n",
       "      <th>1987-05-20</th>\n",
       "      <td>18.63</td>\n",
       "      <td>NaN</td>\n",
       "    </tr>\n",
       "    <tr>\n",
       "      <th>1987-05-21</th>\n",
       "      <td>18.45</td>\n",
       "      <td>NaN</td>\n",
       "    </tr>\n",
       "    <tr>\n",
       "      <th>1987-05-22</th>\n",
       "      <td>18.55</td>\n",
       "      <td>NaN</td>\n",
       "    </tr>\n",
       "    <tr>\n",
       "      <th>1987-05-25</th>\n",
       "      <td>18.60</td>\n",
       "      <td>NaN</td>\n",
       "    </tr>\n",
       "    <tr>\n",
       "      <th>1987-05-26</th>\n",
       "      <td>18.63</td>\n",
       "      <td>NaN</td>\n",
       "    </tr>\n",
       "    <tr>\n",
       "      <th>...</th>\n",
       "      <td>...</td>\n",
       "      <td>...</td>\n",
       "    </tr>\n",
       "    <tr>\n",
       "      <th>2023-03-07</th>\n",
       "      <td>83.03</td>\n",
       "      <td>35.312229</td>\n",
       "    </tr>\n",
       "    <tr>\n",
       "      <th>2023-03-08</th>\n",
       "      <td>82.10</td>\n",
       "      <td>35.312225</td>\n",
       "    </tr>\n",
       "    <tr>\n",
       "      <th>2023-03-09</th>\n",
       "      <td>81.00</td>\n",
       "      <td>35.312225</td>\n",
       "    </tr>\n",
       "    <tr>\n",
       "      <th>2023-03-10</th>\n",
       "      <td>82.30</td>\n",
       "      <td>35.312225</td>\n",
       "    </tr>\n",
       "    <tr>\n",
       "      <th>2023-03-13</th>\n",
       "      <td>79.67</td>\n",
       "      <td>35.312225</td>\n",
       "    </tr>\n",
       "  </tbody>\n",
       "</table>\n",
       "<p>9091 rows × 2 columns</p>\n",
       "</div>"
      ],
      "text/plain": [
       "            Price  Predicted Price\n",
       "Date                              \n",
       "1987-05-20  18.63              NaN\n",
       "1987-05-21  18.45              NaN\n",
       "1987-05-22  18.55              NaN\n",
       "1987-05-25  18.60              NaN\n",
       "1987-05-26  18.63              NaN\n",
       "...           ...              ...\n",
       "2023-03-07  83.03        35.312229\n",
       "2023-03-08  82.10        35.312225\n",
       "2023-03-09  81.00        35.312225\n",
       "2023-03-10  82.30        35.312225\n",
       "2023-03-13  79.67        35.312225\n",
       "\n",
       "[9091 rows x 2 columns]"
      ]
     },
     "execution_count": 102,
     "metadata": {},
     "output_type": "execute_result"
    }
   ],
   "source": [
    "df"
   ]
  },
  {
   "cell_type": "code",
   "execution_count": 103,
   "metadata": {},
   "outputs": [],
   "source": [
    "t = []\n",
    "for i in range(100):\n",
    "    t.append(np.NaN)"
   ]
  },
  {
   "cell_type": "code",
   "execution_count": 104,
   "metadata": {},
   "outputs": [],
   "source": [
    "d = t+c"
   ]
  },
  {
   "cell_type": "code",
   "execution_count": 105,
   "metadata": {},
   "outputs": [],
   "source": [
    "df['Predicted Price'] = d"
   ]
  },
  {
   "cell_type": "code",
   "execution_count": 106,
   "metadata": {},
   "outputs": [
    {
     "data": {
      "text/html": [
       "<div>\n",
       "<style scoped>\n",
       "    .dataframe tbody tr th:only-of-type {\n",
       "        vertical-align: middle;\n",
       "    }\n",
       "\n",
       "    .dataframe tbody tr th {\n",
       "        vertical-align: top;\n",
       "    }\n",
       "\n",
       "    .dataframe thead th {\n",
       "        text-align: right;\n",
       "    }\n",
       "</style>\n",
       "<table border=\"1\" class=\"dataframe\">\n",
       "  <thead>\n",
       "    <tr style=\"text-align: right;\">\n",
       "      <th></th>\n",
       "      <th>Price</th>\n",
       "      <th>Predicted Price</th>\n",
       "    </tr>\n",
       "    <tr>\n",
       "      <th>Date</th>\n",
       "      <th></th>\n",
       "      <th></th>\n",
       "    </tr>\n",
       "  </thead>\n",
       "  <tbody>\n",
       "    <tr>\n",
       "      <th>1987-05-20</th>\n",
       "      <td>18.63</td>\n",
       "      <td>NaN</td>\n",
       "    </tr>\n",
       "    <tr>\n",
       "      <th>1987-05-21</th>\n",
       "      <td>18.45</td>\n",
       "      <td>NaN</td>\n",
       "    </tr>\n",
       "    <tr>\n",
       "      <th>1987-05-22</th>\n",
       "      <td>18.55</td>\n",
       "      <td>NaN</td>\n",
       "    </tr>\n",
       "    <tr>\n",
       "      <th>1987-05-25</th>\n",
       "      <td>18.60</td>\n",
       "      <td>NaN</td>\n",
       "    </tr>\n",
       "    <tr>\n",
       "      <th>1987-05-26</th>\n",
       "      <td>18.63</td>\n",
       "      <td>NaN</td>\n",
       "    </tr>\n",
       "    <tr>\n",
       "      <th>...</th>\n",
       "      <td>...</td>\n",
       "      <td>...</td>\n",
       "    </tr>\n",
       "    <tr>\n",
       "      <th>2023-03-07</th>\n",
       "      <td>83.03</td>\n",
       "      <td>82.722961</td>\n",
       "    </tr>\n",
       "    <tr>\n",
       "      <th>2023-03-08</th>\n",
       "      <td>82.10</td>\n",
       "      <td>83.397781</td>\n",
       "    </tr>\n",
       "    <tr>\n",
       "      <th>2023-03-09</th>\n",
       "      <td>81.00</td>\n",
       "      <td>83.743622</td>\n",
       "    </tr>\n",
       "    <tr>\n",
       "      <th>2023-03-10</th>\n",
       "      <td>82.30</td>\n",
       "      <td>83.668724</td>\n",
       "    </tr>\n",
       "    <tr>\n",
       "      <th>2023-03-13</th>\n",
       "      <td>79.67</td>\n",
       "      <td>83.355583</td>\n",
       "    </tr>\n",
       "  </tbody>\n",
       "</table>\n",
       "<p>9091 rows × 2 columns</p>\n",
       "</div>"
      ],
      "text/plain": [
       "            Price  Predicted Price\n",
       "Date                              \n",
       "1987-05-20  18.63              NaN\n",
       "1987-05-21  18.45              NaN\n",
       "1987-05-22  18.55              NaN\n",
       "1987-05-25  18.60              NaN\n",
       "1987-05-26  18.63              NaN\n",
       "...           ...              ...\n",
       "2023-03-07  83.03        82.722961\n",
       "2023-03-08  82.10        83.397781\n",
       "2023-03-09  81.00        83.743622\n",
       "2023-03-10  82.30        83.668724\n",
       "2023-03-13  79.67        83.355583\n",
       "\n",
       "[9091 rows x 2 columns]"
      ]
     },
     "execution_count": 106,
     "metadata": {},
     "output_type": "execute_result"
    }
   ],
   "source": [
    "df "
   ]
  },
  {
   "cell_type": "code",
   "execution_count": 107,
   "metadata": {},
   "outputs": [
    {
     "data": {
      "text/plain": [
       "<matplotlib.legend.Legend at 0x1ea41c80d00>"
      ]
     },
     "execution_count": 107,
     "metadata": {},
     "output_type": "execute_result"
    },
    {
     "data": {
      "image/png": "[encoded data removed]",
      "text/plain": [
       "<Figure size 1152x504 with 1 Axes>"
      ]
     },
     "metadata": {
      "needs_background": "light"
     },
     "output_type": "display_data"
    }
   ],
   "source": [
    "plt.figure(figsize=(16,7))\n",
    "plt.grid(True)\n",
    "plt.title(\"Crude Price Forecating Training and Validation\")\n",
    "plt.plot(df.index,df['Price'],label = \"Original Value\",c = \"blue\")\n",
    "plt.plot(df[:train_predict.shape[0]+w].index,df['Predicted Price'][:train_predict.shape[0]+w],label = \"Predicted Training Price\",c = \"Red\")\n",
    "plt.plot(df[train_predict.shape[0]+w:].index,df['Predicted Price'][train_predict.shape[0]+w:],label = \"Predicted Validation Price\",c = \"Green\")\n",
    "plt.axvline(df.index[train_predict.shape[0]+w], color='black',lw=3)\n",
    "\n",
    "plt.legend()"
   ]
  },
  {
   "cell_type": "markdown",
   "metadata": {},
   "source": [
    "## Forecasting in future"
   ]
  },
  {
   "cell_type": "code",
   "execution_count": 108,
   "metadata": {},
   "outputs": [],
   "source": [
    "x_input = test_data[-100:].reshape(1,-1)"
   ]
  },
  {
   "cell_type": "code",
   "execution_count": 109,
   "metadata": {},
   "outputs": [],
   "source": [
    "temp_input = list(x_input)\n"
   ]
  },
  {
   "cell_type": "code",
   "execution_count": 110,
   "metadata": {},
   "outputs": [],
   "source": [
    "temp_input = temp_input[0].tolist()"
   ]
  },
  {
   "cell_type": "code",
   "execution_count": 111,
   "metadata": {},
   "outputs": [
    {
     "name": "stdout",
     "output_type": "stream",
     "text": [
      "[1.0337702]\n",
      "101\n",
      "1 day input [1.31074559 1.3031415  1.3089206  1.34450774 1.38222401 1.3965197\n",
      " 1.35576179 1.41111954 1.44001508 1.41629032 1.54525565 1.55559721\n",
      " 1.46373983 1.3481577  1.38465732 1.44913998 1.36458253 1.38617814\n",
      " 1.3347745  1.28580418 1.22284233 1.20793832 1.21432575 1.13068079\n",
      " 1.12125172 1.05463991 1.05768155 1.04916497 1.12186005 1.142239\n",
      " 1.15014725 1.05342326 0.94879101 0.86332106 0.83016724 0.84081296\n",
      " 0.89039162 0.95548261 1.05251077 1.02239858 0.95730759 1.00171546\n",
      " 0.93449532 0.95882841 0.93844945 1.02574438 1.00293211 0.98042401\n",
      " 1.03699843 0.9621742  0.80857163 0.85176285 0.84202962 0.87518344\n",
      " 0.90255816 0.98498647 1.03000267 1.0555524  1.03182765 1.08444793\n",
      " 1.06619812 1.10573938 1.16292212 1.1805636  1.11091016 1.10573938\n",
      " 1.14254317 1.11425596 1.10026444 1.05524824 1.00019464 0.96856164\n",
      " 0.91624551 0.96582417 1.04004006 1.0780605  1.05646489 1.11729759\n",
      " 1.1331141  1.10208942 1.07623552 1.06802311 1.01114453 1.03608594\n",
      " 1.01631531 0.93753696 1.01449033 1.02148609 0.98894059 1.0488608\n",
      " 1.06315649 1.07745217 1.12581417 1.12946413 1.04338586 1.01509865\n",
      " 0.98164067 1.02118192 0.94118692 1.0337702 ]\n",
      "1/1 [==============================] - 0s 999us/step\n",
      "1 day output [[1.0152519]]\n",
      "2 day input [1.3031415  1.3089206  1.34450774 1.38222401 1.3965197  1.35576179\n",
      " 1.41111954 1.44001508 1.41629032 1.54525565 1.55559721 1.46373983\n",
      " 1.3481577  1.38465732 1.44913998 1.36458253 1.38617814 1.3347745\n",
      " 1.28580418 1.22284233 1.20793832 1.21432575 1.13068079 1.12125172\n",
      " 1.05463991 1.05768155 1.04916497 1.12186005 1.142239   1.15014725\n",
      " 1.05342326 0.94879101 0.86332106 0.83016724 0.84081296 0.89039162\n",
      " 0.95548261 1.05251077 1.02239858 0.95730759 1.00171546 0.93449532\n",
      " 0.95882841 0.93844945 1.02574438 1.00293211 0.98042401 1.03699843\n",
      " 0.9621742  0.80857163 0.85176285 0.84202962 0.87518344 0.90255816\n",
      " 0.98498647 1.03000267 1.0555524  1.03182765 1.08444793 1.06619812\n",
      " 1.10573938 1.16292212 1.1805636  1.11091016 1.10573938 1.14254317\n",
      " 1.11425596 1.10026444 1.05524824 1.00019464 0.96856164 0.91624551\n",
      " 0.96582417 1.04004006 1.0780605  1.05646489 1.11729759 1.1331141\n",
      " 1.10208942 1.07623552 1.06802311 1.01114453 1.03608594 1.01631531\n",
      " 0.93753696 1.01449033 1.02148609 0.98894059 1.0488608  1.06315649\n",
      " 1.07745217 1.12581417 1.12946413 1.04338586 1.01509865 0.98164067\n",
      " 1.02118192 0.94118692 1.0337702  1.01525187]\n",
      "1/1 [==============================] - 0s 1ms/step\n",
      "2 day output [[0.9997212]]\n",
      "3 day input [1.3089206  1.34450774 1.38222401 1.3965197  1.35576179 1.41111954\n",
      " 1.44001508 1.41629032 1.54525565 1.55559721 1.46373983 1.3481577\n",
      " 1.38465732 1.44913998 1.36458253 1.38617814 1.3347745  1.28580418\n",
      " 1.22284233 1.20793832 1.21432575 1.13068079 1.12125172 1.05463991\n",
      " 1.05768155 1.04916497 1.12186005 1.142239   1.15014725 1.05342326\n",
      " 0.94879101 0.86332106 0.83016724 0.84081296 0.89039162 0.95548261\n",
      " 1.05251077 1.02239858 0.95730759 1.00171546 0.93449532 0.95882841\n",
      " 0.93844945 1.02574438 1.00293211 0.98042401 1.03699843 0.9621742\n",
      " 0.80857163 0.85176285 0.84202962 0.87518344 0.90255816 0.98498647\n",
      " 1.03000267 1.0555524  1.03182765 1.08444793 1.06619812 1.10573938\n",
      " 1.16292212 1.1805636  1.11091016 1.10573938 1.14254317 1.11425596\n",
      " 1.10026444 1.05524824 1.00019464 0.96856164 0.91624551 0.96582417\n",
      " 1.04004006 1.0780605  1.05646489 1.11729759 1.1331141  1.10208942\n",
      " 1.07623552 1.06802311 1.01114453 1.03608594 1.01631531 0.93753696\n",
      " 1.01449033 1.02148609 0.98894059 1.0488608  1.06315649 1.07745217\n",
      " 1.12581417 1.12946413 1.04338586 1.01509865 0.98164067 1.02118192\n",
      " 0.94118692 1.0337702  1.01525187 0.99972123]\n",
      "1/1 [==============================] - 0s 2ms/step\n",
      "3 day output [[0.9874082]]\n",
      "4 day input [1.34450774 1.38222401 1.3965197  1.35576179 1.41111954 1.44001508\n",
      " 1.41629032 1.54525565 1.55559721 1.46373983 1.3481577  1.38465732\n",
      " 1.44913998 1.36458253 1.38617814 1.3347745  1.28580418 1.22284233\n",
      " 1.20793832 1.21432575 1.13068079 1.12125172 1.05463991 1.05768155\n",
      " 1.04916497 1.12186005 1.142239   1.15014725 1.05342326 0.94879101\n",
      " 0.86332106 0.83016724 0.84081296 0.89039162 0.95548261 1.05251077\n",
      " 1.02239858 0.95730759 1.00171546 0.93449532 0.95882841 0.93844945\n",
      " 1.02574438 1.00293211 0.98042401 1.03699843 0.9621742  0.80857163\n",
      " 0.85176285 0.84202962 0.87518344 0.90255816 0.98498647 1.03000267\n",
      " 1.0555524  1.03182765 1.08444793 1.06619812 1.10573938 1.16292212\n",
      " 1.1805636  1.11091016 1.10573938 1.14254317 1.11425596 1.10026444\n",
      " 1.05524824 1.00019464 0.96856164 0.91624551 0.96582417 1.04004006\n",
      " 1.0780605  1.05646489 1.11729759 1.1331141  1.10208942 1.07623552\n",
      " 1.06802311 1.01114453 1.03608594 1.01631531 0.93753696 1.01449033\n",
      " 1.02148609 0.98894059 1.0488608  1.06315649 1.07745217 1.12581417\n",
      " 1.12946413 1.04338586 1.01509865 0.98164067 1.02118192 0.94118692\n",
      " 1.0337702  1.01525187 0.99972123 0.98740822]\n",
      "1/1 [==============================] - 0s 1ms/step\n",
      "4 day output [[0.9776807]]\n",
      "5 day input [1.38222401 1.3965197  1.35576179 1.41111954 1.44001508 1.41629032\n",
      " 1.54525565 1.55559721 1.46373983 1.3481577  1.38465732 1.44913998\n",
      " 1.36458253 1.38617814 1.3347745  1.28580418 1.22284233 1.20793832\n",
      " 1.21432575 1.13068079 1.12125172 1.05463991 1.05768155 1.04916497\n",
      " 1.12186005 1.142239   1.15014725 1.05342326 0.94879101 0.86332106\n",
      " 0.83016724 0.84081296 0.89039162 0.95548261 1.05251077 1.02239858\n",
      " 0.95730759 1.00171546 0.93449532 0.95882841 0.93844945 1.02574438\n",
      " 1.00293211 0.98042401 1.03699843 0.9621742  0.80857163 0.85176285\n",
      " 0.84202962 0.87518344 0.90255816 0.98498647 1.03000267 1.0555524\n",
      " 1.03182765 1.08444793 1.06619812 1.10573938 1.16292212 1.1805636\n",
      " 1.11091016 1.10573938 1.14254317 1.11425596 1.10026444 1.05524824\n",
      " 1.00019464 0.96856164 0.91624551 0.96582417 1.04004006 1.0780605\n",
      " 1.05646489 1.11729759 1.1331141  1.10208942 1.07623552 1.06802311\n",
      " 1.01114453 1.03608594 1.01631531 0.93753696 1.01449033 1.02148609\n",
      " 0.98894059 1.0488608  1.06315649 1.07745217 1.12581417 1.12946413\n",
      " 1.04338586 1.01509865 0.98164067 1.02118192 0.94118692 1.0337702\n",
      " 1.01525187 0.99972123 0.98740822 0.97768068]\n",
      "1/1 [==============================] - 0s 1ms/step\n",
      "5 day output [[0.9696975]]\n",
      "6 day input [1.3965197  1.35576179 1.41111954 1.44001508 1.41629032 1.54525565\n",
      " 1.55559721 1.46373983 1.3481577  1.38465732 1.44913998 1.36458253\n",
      " 1.38617814 1.3347745  1.28580418 1.22284233 1.20793832 1.21432575\n",
      " 1.13068079 1.12125172 1.05463991 1.05768155 1.04916497 1.12186005\n",
      " 1.142239   1.15014725 1.05342326 0.94879101 0.86332106 0.83016724\n",
      " 0.84081296 0.89039162 0.95548261 1.05251077 1.02239858 0.95730759\n",
      " 1.00171546 0.93449532 0.95882841 0.93844945 1.02574438 1.00293211\n",
      " 0.98042401 1.03699843 0.9621742  0.80857163 0.85176285 0.84202962\n",
      " 0.87518344 0.90255816 0.98498647 1.03000267 1.0555524  1.03182765\n",
      " 1.08444793 1.06619812 1.10573938 1.16292212 1.1805636  1.11091016\n",
      " 1.10573938 1.14254317 1.11425596 1.10026444 1.05524824 1.00019464\n",
      " 0.96856164 0.91624551 0.96582417 1.04004006 1.0780605  1.05646489\n",
      " 1.11729759 1.1331141  1.10208942 1.07623552 1.06802311 1.01114453\n",
      " 1.03608594 1.01631531 0.93753696 1.01449033 1.02148609 0.98894059\n",
      " 1.0488608  1.06315649 1.07745217 1.12581417 1.12946413 1.04338586\n",
      " 1.01509865 0.98164067 1.02118192 0.94118692 1.0337702  1.01525187\n",
      " 0.99972123 0.98740822 0.97768068 0.96969748]\n",
      "1/1 [==============================] - 0s 997us/step\n",
      "6 day output [[0.96273077]]\n",
      "7 day input [1.35576179 1.41111954 1.44001508 1.41629032 1.54525565 1.55559721\n",
      " 1.46373983 1.3481577  1.38465732 1.44913998 1.36458253 1.38617814\n",
      " 1.3347745  1.28580418 1.22284233 1.20793832 1.21432575 1.13068079\n",
      " 1.12125172 1.05463991 1.05768155 1.04916497 1.12186005 1.142239\n",
      " 1.15014725 1.05342326 0.94879101 0.86332106 0.83016724 0.84081296\n",
      " 0.89039162 0.95548261 1.05251077 1.02239858 0.95730759 1.00171546\n",
      " 0.93449532 0.95882841 0.93844945 1.02574438 1.00293211 0.98042401\n",
      " 1.03699843 0.9621742  0.80857163 0.85176285 0.84202962 0.87518344\n",
      " 0.90255816 0.98498647 1.03000267 1.0555524  1.03182765 1.08444793\n",
      " 1.06619812 1.10573938 1.16292212 1.1805636  1.11091016 1.10573938\n",
      " 1.14254317 1.11425596 1.10026444 1.05524824 1.00019464 0.96856164\n",
      " 0.91624551 0.96582417 1.04004006 1.0780605  1.05646489 1.11729759\n",
      " 1.1331141  1.10208942 1.07623552 1.06802311 1.01114453 1.03608594\n",
      " 1.01631531 0.93753696 1.01449033 1.02148609 0.98894059 1.0488608\n",
      " 1.06315649 1.07745217 1.12581417 1.12946413 1.04338586 1.01509865\n",
      " 0.98164067 1.02118192 0.94118692 1.0337702  1.01525187 0.99972123\n",
      " 0.98740822 0.97768068 0.96969748 0.96273077]\n",
      "1/1 [==============================] - 0s 3ms/step\n",
      "7 day output [[0.9562703]]\n",
      "8 day input [1.41111954 1.44001508 1.41629032 1.54525565 1.55559721 1.46373983\n",
      " 1.3481577  1.38465732 1.44913998 1.36458253 1.38617814 1.3347745\n",
      " 1.28580418 1.22284233 1.20793832 1.21432575 1.13068079 1.12125172\n",
      " 1.05463991 1.05768155 1.04916497 1.12186005 1.142239   1.15014725\n",
      " 1.05342326 0.94879101 0.86332106 0.83016724 0.84081296 0.89039162\n",
      " 0.95548261 1.05251077 1.02239858 0.95730759 1.00171546 0.93449532\n",
      " 0.95882841 0.93844945 1.02574438 1.00293211 0.98042401 1.03699843\n",
      " 0.9621742  0.80857163 0.85176285 0.84202962 0.87518344 0.90255816\n",
      " 0.98498647 1.03000267 1.0555524  1.03182765 1.08444793 1.06619812\n",
      " 1.10573938 1.16292212 1.1805636  1.11091016 1.10573938 1.14254317\n",
      " 1.11425596 1.10026444 1.05524824 1.00019464 0.96856164 0.91624551\n",
      " 0.96582417 1.04004006 1.0780605  1.05646489 1.11729759 1.1331141\n",
      " 1.10208942 1.07623552 1.06802311 1.01114453 1.03608594 1.01631531\n",
      " 0.93753696 1.01449033 1.02148609 0.98894059 1.0488608  1.06315649\n",
      " 1.07745217 1.12581417 1.12946413 1.04338586 1.01509865 0.98164067\n",
      " 1.02118192 0.94118692 1.0337702  1.01525187 0.99972123 0.98740822\n",
      " 0.97768068 0.96969748 0.96273077 0.95627028]\n",
      "1/1 [==============================] - 0s 2ms/step\n",
      "8 day output [[0.9500112]]\n",
      "9 day input [1.44001508 1.41629032 1.54525565 1.55559721 1.46373983 1.3481577\n",
      " 1.38465732 1.44913998 1.36458253 1.38617814 1.3347745  1.28580418\n",
      " 1.22284233 1.20793832 1.21432575 1.13068079 1.12125172 1.05463991\n",
      " 1.05768155 1.04916497 1.12186005 1.142239   1.15014725 1.05342326\n",
      " 0.94879101 0.86332106 0.83016724 0.84081296 0.89039162 0.95548261\n",
      " 1.05251077 1.02239858 0.95730759 1.00171546 0.93449532 0.95882841\n",
      " 0.93844945 1.02574438 1.00293211 0.98042401 1.03699843 0.9621742\n",
      " 0.80857163 0.85176285 0.84202962 0.87518344 0.90255816 0.98498647\n",
      " 1.03000267 1.0555524  1.03182765 1.08444793 1.06619812 1.10573938\n",
      " 1.16292212 1.1805636  1.11091016 1.10573938 1.14254317 1.11425596\n",
      " 1.10026444 1.05524824 1.00019464 0.96856164 0.91624551 0.96582417\n",
      " 1.04004006 1.0780605  1.05646489 1.11729759 1.1331141  1.10208942\n",
      " 1.07623552 1.06802311 1.01114453 1.03608594 1.01631531 0.93753696\n",
      " 1.01449033 1.02148609 0.98894059 1.0488608  1.06315649 1.07745217\n",
      " 1.12581417 1.12946413 1.04338586 1.01509865 0.98164067 1.02118192\n",
      " 0.94118692 1.0337702  1.01525187 0.99972123 0.98740822 0.97768068\n",
      " 0.96969748 0.96273077 0.95627028 0.95001119]\n",
      "1/1 [==============================] - 0s 2ms/step\n",
      "9 day output [[0.94380164]]\n",
      "10 day input [1.41629032 1.54525565 1.55559721 1.46373983 1.3481577  1.38465732\n",
      " 1.44913998 1.36458253 1.38617814 1.3347745  1.28580418 1.22284233\n",
      " 1.20793832 1.21432575 1.13068079 1.12125172 1.05463991 1.05768155\n",
      " 1.04916497 1.12186005 1.142239   1.15014725 1.05342326 0.94879101\n",
      " 0.86332106 0.83016724 0.84081296 0.89039162 0.95548261 1.05251077\n",
      " 1.02239858 0.95730759 1.00171546 0.93449532 0.95882841 0.93844945\n",
      " 1.02574438 1.00293211 0.98042401 1.03699843 0.9621742  0.80857163\n",
      " 0.85176285 0.84202962 0.87518344 0.90255816 0.98498647 1.03000267\n",
      " 1.0555524  1.03182765 1.08444793 1.06619812 1.10573938 1.16292212\n",
      " 1.1805636  1.11091016 1.10573938 1.14254317 1.11425596 1.10026444\n",
      " 1.05524824 1.00019464 0.96856164 0.91624551 0.96582417 1.04004006\n",
      " 1.0780605  1.05646489 1.11729759 1.1331141  1.10208942 1.07623552\n",
      " 1.06802311 1.01114453 1.03608594 1.01631531 0.93753696 1.01449033\n",
      " 1.02148609 0.98894059 1.0488608  1.06315649 1.07745217 1.12581417\n",
      " 1.12946413 1.04338586 1.01509865 0.98164067 1.02118192 0.94118692\n",
      " 1.0337702  1.01525187 0.99972123 0.98740822 0.97768068 0.96969748\n",
      " 0.96273077 0.95627028 0.95001119 0.94380164]\n",
      "1/1 [==============================] - 0s 5ms/step\n",
      "10 day output [[0.93758523]]\n",
      "11 day input [1.54525565 1.55559721 1.46373983 1.3481577  1.38465732 1.44913998\n",
      " 1.36458253 1.38617814 1.3347745  1.28580418 1.22284233 1.20793832\n",
      " 1.21432575 1.13068079 1.12125172 1.05463991 1.05768155 1.04916497\n",
      " 1.12186005 1.142239   1.15014725 1.05342326 0.94879101 0.86332106\n",
      " 0.83016724 0.84081296 0.89039162 0.95548261 1.05251077 1.02239858\n",
      " 0.95730759 1.00171546 0.93449532 0.95882841 0.93844945 1.02574438\n",
      " 1.00293211 0.98042401 1.03699843 0.9621742  0.80857163 0.85176285\n",
      " 0.84202962 0.87518344 0.90255816 0.98498647 1.03000267 1.0555524\n",
      " 1.03182765 1.08444793 1.06619812 1.10573938 1.16292212 1.1805636\n",
      " 1.11091016 1.10573938 1.14254317 1.11425596 1.10026444 1.05524824\n",
      " 1.00019464 0.96856164 0.91624551 0.96582417 1.04004006 1.0780605\n",
      " 1.05646489 1.11729759 1.1331141  1.10208942 1.07623552 1.06802311\n",
      " 1.01114453 1.03608594 1.01631531 0.93753696 1.01449033 1.02148609\n",
      " 0.98894059 1.0488608  1.06315649 1.07745217 1.12581417 1.12946413\n",
      " 1.04338586 1.01509865 0.98164067 1.02118192 0.94118692 1.0337702\n",
      " 1.01525187 0.99972123 0.98740822 0.97768068 0.96969748 0.96273077\n",
      " 0.95627028 0.95001119 0.94380164 0.93758523]\n",
      "1/1 [==============================] - 0s 2ms/step\n",
      "11 day output [[0.9313548]]\n",
      "12 day input [1.55559721 1.46373983 1.3481577  1.38465732 1.44913998 1.36458253\n",
      " 1.38617814 1.3347745  1.28580418 1.22284233 1.20793832 1.21432575\n",
      " 1.13068079 1.12125172 1.05463991 1.05768155 1.04916497 1.12186005\n",
      " 1.142239   1.15014725 1.05342326 0.94879101 0.86332106 0.83016724\n",
      " 0.84081296 0.89039162 0.95548261 1.05251077 1.02239858 0.95730759\n",
      " 1.00171546 0.93449532 0.95882841 0.93844945 1.02574438 1.00293211\n",
      " 0.98042401 1.03699843 0.9621742  0.80857163 0.85176285 0.84202962\n",
      " 0.87518344 0.90255816 0.98498647 1.03000267 1.0555524  1.03182765\n",
      " 1.08444793 1.06619812 1.10573938 1.16292212 1.1805636  1.11091016\n",
      " 1.10573938 1.14254317 1.11425596 1.10026444 1.05524824 1.00019464\n",
      " 0.96856164 0.91624551 0.96582417 1.04004006 1.0780605  1.05646489\n",
      " 1.11729759 1.1331141  1.10208942 1.07623552 1.06802311 1.01114453\n",
      " 1.03608594 1.01631531 0.93753696 1.01449033 1.02148609 0.98894059\n",
      " 1.0488608  1.06315649 1.07745217 1.12581417 1.12946413 1.04338586\n",
      " 1.01509865 0.98164067 1.02118192 0.94118692 1.0337702  1.01525187\n",
      " 0.99972123 0.98740822 0.97768068 0.96969748 0.96273077 0.95627028\n",
      " 0.95001119 0.94380164 0.93758523 0.93135482]\n",
      "1/1 [==============================] - 0s 2ms/step\n",
      "12 day output [[0.92512137]]\n",
      "13 day input [1.46373983 1.3481577  1.38465732 1.44913998 1.36458253 1.38617814\n",
      " 1.3347745  1.28580418 1.22284233 1.20793832 1.21432575 1.13068079\n",
      " 1.12125172 1.05463991 1.05768155 1.04916497 1.12186005 1.142239\n",
      " 1.15014725 1.05342326 0.94879101 0.86332106 0.83016724 0.84081296\n",
      " 0.89039162 0.95548261 1.05251077 1.02239858 0.95730759 1.00171546\n",
      " 0.93449532 0.95882841 0.93844945 1.02574438 1.00293211 0.98042401\n",
      " 1.03699843 0.9621742  0.80857163 0.85176285 0.84202962 0.87518344\n",
      " 0.90255816 0.98498647 1.03000267 1.0555524  1.03182765 1.08444793\n",
      " 1.06619812 1.10573938 1.16292212 1.1805636  1.11091016 1.10573938\n",
      " 1.14254317 1.11425596 1.10026444 1.05524824 1.00019464 0.96856164\n",
      " 0.91624551 0.96582417 1.04004006 1.0780605  1.05646489 1.11729759\n",
      " 1.1331141  1.10208942 1.07623552 1.06802311 1.01114453 1.03608594\n",
      " 1.01631531 0.93753696 1.01449033 1.02148609 0.98894059 1.0488608\n",
      " 1.06315649 1.07745217 1.12581417 1.12946413 1.04338586 1.01509865\n",
      " 0.98164067 1.02118192 0.94118692 1.0337702  1.01525187 0.99972123\n",
      " 0.98740822 0.97768068 0.96969748 0.96273077 0.95627028 0.95001119\n",
      " 0.94380164 0.93758523 0.93135482 0.92512137]\n",
      "1/1 [==============================] - 0s 1ms/step\n",
      "13 day output [[0.91889936]]\n",
      "14 day input [1.3481577  1.38465732 1.44913998 1.36458253 1.38617814 1.3347745\n",
      " 1.28580418 1.22284233 1.20793832 1.21432575 1.13068079 1.12125172\n",
      " 1.05463991 1.05768155 1.04916497 1.12186005 1.142239   1.15014725\n",
      " 1.05342326 0.94879101 0.86332106 0.83016724 0.84081296 0.89039162\n",
      " 0.95548261 1.05251077 1.02239858 0.95730759 1.00171546 0.93449532\n",
      " 0.95882841 0.93844945 1.02574438 1.00293211 0.98042401 1.03699843\n",
      " 0.9621742  0.80857163 0.85176285 0.84202962 0.87518344 0.90255816\n",
      " 0.98498647 1.03000267 1.0555524  1.03182765 1.08444793 1.06619812\n",
      " 1.10573938 1.16292212 1.1805636  1.11091016 1.10573938 1.14254317\n",
      " 1.11425596 1.10026444 1.05524824 1.00019464 0.96856164 0.91624551\n",
      " 0.96582417 1.04004006 1.0780605  1.05646489 1.11729759 1.1331141\n",
      " 1.10208942 1.07623552 1.06802311 1.01114453 1.03608594 1.01631531\n",
      " 0.93753696 1.01449033 1.02148609 0.98894059 1.0488608  1.06315649\n",
      " 1.07745217 1.12581417 1.12946413 1.04338586 1.01509865 0.98164067\n",
      " 1.02118192 0.94118692 1.0337702  1.01525187 0.99972123 0.98740822\n",
      " 0.97768068 0.96969748 0.96273077 0.95627028 0.95001119 0.94380164\n",
      " 0.93758523 0.93135482 0.92512137 0.91889936]\n",
      "1/1 [==============================] - 0s 2ms/step\n",
      "14 day output [[0.9126986]]\n",
      "15 day input [1.38465732 1.44913998 1.36458253 1.38617814 1.3347745  1.28580418\n",
      " 1.22284233 1.20793832 1.21432575 1.13068079 1.12125172 1.05463991\n",
      " 1.05768155 1.04916497 1.12186005 1.142239   1.15014725 1.05342326\n",
      " 0.94879101 0.86332106 0.83016724 0.84081296 0.89039162 0.95548261\n",
      " 1.05251077 1.02239858 0.95730759 1.00171546 0.93449532 0.95882841\n",
      " 0.93844945 1.02574438 1.00293211 0.98042401 1.03699843 0.9621742\n",
      " 0.80857163 0.85176285 0.84202962 0.87518344 0.90255816 0.98498647\n",
      " 1.03000267 1.0555524  1.03182765 1.08444793 1.06619812 1.10573938\n",
      " 1.16292212 1.1805636  1.11091016 1.10573938 1.14254317 1.11425596\n",
      " 1.10026444 1.05524824 1.00019464 0.96856164 0.91624551 0.96582417\n",
      " 1.04004006 1.0780605  1.05646489 1.11729759 1.1331141  1.10208942\n",
      " 1.07623552 1.06802311 1.01114453 1.03608594 1.01631531 0.93753696\n",
      " 1.01449033 1.02148609 0.98894059 1.0488608  1.06315649 1.07745217\n",
      " 1.12581417 1.12946413 1.04338586 1.01509865 0.98164067 1.02118192\n",
      " 0.94118692 1.0337702  1.01525187 0.99972123 0.98740822 0.97768068\n",
      " 0.96969748 0.96273077 0.95627028 0.95001119 0.94380164 0.93758523\n",
      " 0.93135482 0.92512137 0.91889936 0.91269863]\n",
      "1/1 [==============================] - 0s 2ms/step\n",
      "15 day output [[0.90652233]]\n",
      "16 day input [1.44913998 1.36458253 1.38617814 1.3347745  1.28580418 1.22284233\n",
      " 1.20793832 1.21432575 1.13068079 1.12125172 1.05463991 1.05768155\n",
      " 1.04916497 1.12186005 1.142239   1.15014725 1.05342326 0.94879101\n",
      " 0.86332106 0.83016724 0.84081296 0.89039162 0.95548261 1.05251077\n",
      " 1.02239858 0.95730759 1.00171546 0.93449532 0.95882841 0.93844945\n",
      " 1.02574438 1.00293211 0.98042401 1.03699843 0.9621742  0.80857163\n",
      " 0.85176285 0.84202962 0.87518344 0.90255816 0.98498647 1.03000267\n",
      " 1.0555524  1.03182765 1.08444793 1.06619812 1.10573938 1.16292212\n",
      " 1.1805636  1.11091016 1.10573938 1.14254317 1.11425596 1.10026444\n",
      " 1.05524824 1.00019464 0.96856164 0.91624551 0.96582417 1.04004006\n",
      " 1.0780605  1.05646489 1.11729759 1.1331141  1.10208942 1.07623552\n",
      " 1.06802311 1.01114453 1.03608594 1.01631531 0.93753696 1.01449033\n",
      " 1.02148609 0.98894059 1.0488608  1.06315649 1.07745217 1.12581417\n",
      " 1.12946413 1.04338586 1.01509865 0.98164067 1.02118192 0.94118692\n",
      " 1.0337702  1.01525187 0.99972123 0.98740822 0.97768068 0.96969748\n",
      " 0.96273077 0.95627028 0.95001119 0.94380164 0.93758523 0.93135482\n",
      " 0.92512137 0.91889936 0.91269863 0.90652233]\n",
      "1/1 [==============================] - 0s 2ms/step\n",
      "16 day output [[0.9003702]]\n",
      "17 day input [1.36458253 1.38617814 1.3347745  1.28580418 1.22284233 1.20793832\n",
      " 1.21432575 1.13068079 1.12125172 1.05463991 1.05768155 1.04916497\n",
      " 1.12186005 1.142239   1.15014725 1.05342326 0.94879101 0.86332106\n",
      " 0.83016724 0.84081296 0.89039162 0.95548261 1.05251077 1.02239858\n",
      " 0.95730759 1.00171546 0.93449532 0.95882841 0.93844945 1.02574438\n",
      " 1.00293211 0.98042401 1.03699843 0.9621742  0.80857163 0.85176285\n",
      " 0.84202962 0.87518344 0.90255816 0.98498647 1.03000267 1.0555524\n",
      " 1.03182765 1.08444793 1.06619812 1.10573938 1.16292212 1.1805636\n",
      " 1.11091016 1.10573938 1.14254317 1.11425596 1.10026444 1.05524824\n",
      " 1.00019464 0.96856164 0.91624551 0.96582417 1.04004006 1.0780605\n",
      " 1.05646489 1.11729759 1.1331141  1.10208942 1.07623552 1.06802311\n",
      " 1.01114453 1.03608594 1.01631531 0.93753696 1.01449033 1.02148609\n",
      " 0.98894059 1.0488608  1.06315649 1.07745217 1.12581417 1.12946413\n",
      " 1.04338586 1.01509865 0.98164067 1.02118192 0.94118692 1.0337702\n",
      " 1.01525187 0.99972123 0.98740822 0.97768068 0.96969748 0.96273077\n",
      " 0.95627028 0.95001119 0.94380164 0.93758523 0.93135482 0.92512137\n",
      " 0.91889936 0.91269863 0.90652233 0.90037018]\n",
      "1/1 [==============================] - 0s 3ms/step\n",
      "17 day output [[0.8942373]]\n",
      "18 day input [1.38617814 1.3347745  1.28580418 1.22284233 1.20793832 1.21432575\n",
      " 1.13068079 1.12125172 1.05463991 1.05768155 1.04916497 1.12186005\n",
      " 1.142239   1.15014725 1.05342326 0.94879101 0.86332106 0.83016724\n",
      " 0.84081296 0.89039162 0.95548261 1.05251077 1.02239858 0.95730759\n",
      " 1.00171546 0.93449532 0.95882841 0.93844945 1.02574438 1.00293211\n",
      " 0.98042401 1.03699843 0.9621742  0.80857163 0.85176285 0.84202962\n",
      " 0.87518344 0.90255816 0.98498647 1.03000267 1.0555524  1.03182765\n",
      " 1.08444793 1.06619812 1.10573938 1.16292212 1.1805636  1.11091016\n",
      " 1.10573938 1.14254317 1.11425596 1.10026444 1.05524824 1.00019464\n",
      " 0.96856164 0.91624551 0.96582417 1.04004006 1.0780605  1.05646489\n",
      " 1.11729759 1.1331141  1.10208942 1.07623552 1.06802311 1.01114453\n",
      " 1.03608594 1.01631531 0.93753696 1.01449033 1.02148609 0.98894059\n",
      " 1.0488608  1.06315649 1.07745217 1.12581417 1.12946413 1.04338586\n",
      " 1.01509865 0.98164067 1.02118192 0.94118692 1.0337702  1.01525187\n",
      " 0.99972123 0.98740822 0.97768068 0.96969748 0.96273077 0.95627028\n",
      " 0.95001119 0.94380164 0.93758523 0.93135482 0.92512137 0.91889936\n",
      " 0.91269863 0.90652233 0.90037018 0.89423728]\n",
      "1/1 [==============================] - 0s 2ms/step\n",
      "18 day output [[0.8881185]]\n",
      "19 day input [1.3347745  1.28580418 1.22284233 1.20793832 1.21432575 1.13068079\n",
      " 1.12125172 1.05463991 1.05768155 1.04916497 1.12186005 1.142239\n",
      " 1.15014725 1.05342326 0.94879101 0.86332106 0.83016724 0.84081296\n",
      " 0.89039162 0.95548261 1.05251077 1.02239858 0.95730759 1.00171546\n",
      " 0.93449532 0.95882841 0.93844945 1.02574438 1.00293211 0.98042401\n",
      " 1.03699843 0.9621742  0.80857163 0.85176285 0.84202962 0.87518344\n",
      " 0.90255816 0.98498647 1.03000267 1.0555524  1.03182765 1.08444793\n",
      " 1.06619812 1.10573938 1.16292212 1.1805636  1.11091016 1.10573938\n",
      " 1.14254317 1.11425596 1.10026444 1.05524824 1.00019464 0.96856164\n",
      " 0.91624551 0.96582417 1.04004006 1.0780605  1.05646489 1.11729759\n",
      " 1.1331141  1.10208942 1.07623552 1.06802311 1.01114453 1.03608594\n",
      " 1.01631531 0.93753696 1.01449033 1.02148609 0.98894059 1.0488608\n",
      " 1.06315649 1.07745217 1.12581417 1.12946413 1.04338586 1.01509865\n",
      " 0.98164067 1.02118192 0.94118692 1.0337702  1.01525187 0.99972123\n",
      " 0.98740822 0.97768068 0.96969748 0.96273077 0.95627028 0.95001119\n",
      " 0.94380164 0.93758523 0.93135482 0.92512137 0.91889936 0.91269863\n",
      " 0.90652233 0.90037018 0.89423728 0.88811851]\n",
      "1/1 [==============================] - 0s 999us/step\n",
      "19 day output [[0.8820076]]\n",
      "20 day input [1.28580418 1.22284233 1.20793832 1.21432575 1.13068079 1.12125172\n",
      " 1.05463991 1.05768155 1.04916497 1.12186005 1.142239   1.15014725\n",
      " 1.05342326 0.94879101 0.86332106 0.83016724 0.84081296 0.89039162\n",
      " 0.95548261 1.05251077 1.02239858 0.95730759 1.00171546 0.93449532\n",
      " 0.95882841 0.93844945 1.02574438 1.00293211 0.98042401 1.03699843\n",
      " 0.9621742  0.80857163 0.85176285 0.84202962 0.87518344 0.90255816\n",
      " 0.98498647 1.03000267 1.0555524  1.03182765 1.08444793 1.06619812\n",
      " 1.10573938 1.16292212 1.1805636  1.11091016 1.10573938 1.14254317\n",
      " 1.11425596 1.10026444 1.05524824 1.00019464 0.96856164 0.91624551\n",
      " 0.96582417 1.04004006 1.0780605  1.05646489 1.11729759 1.1331141\n",
      " 1.10208942 1.07623552 1.06802311 1.01114453 1.03608594 1.01631531\n",
      " 0.93753696 1.01449033 1.02148609 0.98894059 1.0488608  1.06315649\n",
      " 1.07745217 1.12581417 1.12946413 1.04338586 1.01509865 0.98164067\n",
      " 1.02118192 0.94118692 1.0337702  1.01525187 0.99972123 0.98740822\n",
      " 0.97768068 0.96969748 0.96273077 0.95627028 0.95001119 0.94380164\n",
      " 0.93758523 0.93135482 0.92512137 0.91889936 0.91269863 0.90652233\n",
      " 0.90037018 0.89423728 0.88811851 0.8820076 ]\n",
      "1/1 [==============================] - 0s 2ms/step\n",
      "20 day output [[0.8758998]]\n",
      "21 day input [1.22284233 1.20793832 1.21432575 1.13068079 1.12125172 1.05463991\n",
      " 1.05768155 1.04916497 1.12186005 1.142239   1.15014725 1.05342326\n",
      " 0.94879101 0.86332106 0.83016724 0.84081296 0.89039162 0.95548261\n",
      " 1.05251077 1.02239858 0.95730759 1.00171546 0.93449532 0.95882841\n",
      " 0.93844945 1.02574438 1.00293211 0.98042401 1.03699843 0.9621742\n",
      " 0.80857163 0.85176285 0.84202962 0.87518344 0.90255816 0.98498647\n",
      " 1.03000267 1.0555524  1.03182765 1.08444793 1.06619812 1.10573938\n",
      " 1.16292212 1.1805636  1.11091016 1.10573938 1.14254317 1.11425596\n",
      " 1.10026444 1.05524824 1.00019464 0.96856164 0.91624551 0.96582417\n",
      " 1.04004006 1.0780605  1.05646489 1.11729759 1.1331141  1.10208942\n",
      " 1.07623552 1.06802311 1.01114453 1.03608594 1.01631531 0.93753696\n",
      " 1.01449033 1.02148609 0.98894059 1.0488608  1.06315649 1.07745217\n",
      " 1.12581417 1.12946413 1.04338586 1.01509865 0.98164067 1.02118192\n",
      " 0.94118692 1.0337702  1.01525187 0.99972123 0.98740822 0.97768068\n",
      " 0.96969748 0.96273077 0.95627028 0.95001119 0.94380164 0.93758523\n",
      " 0.93135482 0.92512137 0.91889936 0.91269863 0.90652233 0.90037018\n",
      " 0.89423728 0.88811851 0.8820076  0.87589979]\n",
      "1/1 [==============================] - 0s 2ms/step\n",
      "21 day output [[0.86979014]]\n",
      "22 day input [1.20793832 1.21432575 1.13068079 1.12125172 1.05463991 1.05768155\n",
      " 1.04916497 1.12186005 1.142239   1.15014725 1.05342326 0.94879101\n",
      " 0.86332106 0.83016724 0.84081296 0.89039162 0.95548261 1.05251077\n",
      " 1.02239858 0.95730759 1.00171546 0.93449532 0.95882841 0.93844945\n",
      " 1.02574438 1.00293211 0.98042401 1.03699843 0.9621742  0.80857163\n",
      " 0.85176285 0.84202962 0.87518344 0.90255816 0.98498647 1.03000267\n",
      " 1.0555524  1.03182765 1.08444793 1.06619812 1.10573938 1.16292212\n",
      " 1.1805636  1.11091016 1.10573938 1.14254317 1.11425596 1.10026444\n",
      " 1.05524824 1.00019464 0.96856164 0.91624551 0.96582417 1.04004006\n",
      " 1.0780605  1.05646489 1.11729759 1.1331141  1.10208942 1.07623552\n",
      " 1.06802311 1.01114453 1.03608594 1.01631531 0.93753696 1.01449033\n",
      " 1.02148609 0.98894059 1.0488608  1.06315649 1.07745217 1.12581417\n",
      " 1.12946413 1.04338586 1.01509865 0.98164067 1.02118192 0.94118692\n",
      " 1.0337702  1.01525187 0.99972123 0.98740822 0.97768068 0.96969748\n",
      " 0.96273077 0.95627028 0.95001119 0.94380164 0.93758523 0.93135482\n",
      " 0.92512137 0.91889936 0.91269863 0.90652233 0.90037018 0.89423728\n",
      " 0.88811851 0.8820076  0.87589979 0.86979014]\n",
      "1/1 [==============================] - 0s 3ms/step\n",
      "22 day output [[0.8636754]]\n",
      "23 day input [1.21432575 1.13068079 1.12125172 1.05463991 1.05768155 1.04916497\n",
      " 1.12186005 1.142239   1.15014725 1.05342326 0.94879101 0.86332106\n",
      " 0.83016724 0.84081296 0.89039162 0.95548261 1.05251077 1.02239858\n",
      " 0.95730759 1.00171546 0.93449532 0.95882841 0.93844945 1.02574438\n",
      " 1.00293211 0.98042401 1.03699843 0.9621742  0.80857163 0.85176285\n",
      " 0.84202962 0.87518344 0.90255816 0.98498647 1.03000267 1.0555524\n",
      " 1.03182765 1.08444793 1.06619812 1.10573938 1.16292212 1.1805636\n",
      " 1.11091016 1.10573938 1.14254317 1.11425596 1.10026444 1.05524824\n",
      " 1.00019464 0.96856164 0.91624551 0.96582417 1.04004006 1.0780605\n",
      " 1.05646489 1.11729759 1.1331141  1.10208942 1.07623552 1.06802311\n",
      " 1.01114453 1.03608594 1.01631531 0.93753696 1.01449033 1.02148609\n",
      " 0.98894059 1.0488608  1.06315649 1.07745217 1.12581417 1.12946413\n",
      " 1.04338586 1.01509865 0.98164067 1.02118192 0.94118692 1.0337702\n",
      " 1.01525187 0.99972123 0.98740822 0.97768068 0.96969748 0.96273077\n",
      " 0.95627028 0.95001119 0.94380164 0.93758523 0.93135482 0.92512137\n",
      " 0.91889936 0.91269863 0.90652233 0.90037018 0.89423728 0.88811851\n",
      " 0.8820076  0.87589979 0.86979014 0.86367542]\n",
      "1/1 [==============================] - 0s 2ms/step\n",
      "23 day output [[0.8575528]]\n",
      "24 day input [1.13068079 1.12125172 1.05463991 1.05768155 1.04916497 1.12186005\n",
      " 1.142239   1.15014725 1.05342326 0.94879101 0.86332106 0.83016724\n",
      " 0.84081296 0.89039162 0.95548261 1.05251077 1.02239858 0.95730759\n",
      " 1.00171546 0.93449532 0.95882841 0.93844945 1.02574438 1.00293211\n",
      " 0.98042401 1.03699843 0.9621742  0.80857163 0.85176285 0.84202962\n",
      " 0.87518344 0.90255816 0.98498647 1.03000267 1.0555524  1.03182765\n",
      " 1.08444793 1.06619812 1.10573938 1.16292212 1.1805636  1.11091016\n",
      " 1.10573938 1.14254317 1.11425596 1.10026444 1.05524824 1.00019464\n",
      " 0.96856164 0.91624551 0.96582417 1.04004006 1.0780605  1.05646489\n",
      " 1.11729759 1.1331141  1.10208942 1.07623552 1.06802311 1.01114453\n",
      " 1.03608594 1.01631531 0.93753696 1.01449033 1.02148609 0.98894059\n",
      " 1.0488608  1.06315649 1.07745217 1.12581417 1.12946413 1.04338586\n",
      " 1.01509865 0.98164067 1.02118192 0.94118692 1.0337702  1.01525187\n",
      " 0.99972123 0.98740822 0.97768068 0.96969748 0.96273077 0.95627028\n",
      " 0.95001119 0.94380164 0.93758523 0.93135482 0.92512137 0.91889936\n",
      " 0.91269863 0.90652233 0.90037018 0.89423728 0.88811851 0.8820076\n",
      " 0.87589979 0.86979014 0.86367542 0.85755283]\n",
      "1/1 [==============================] - 0s 997us/step\n",
      "24 day output [[0.85142]]\n",
      "25 day input [1.12125172 1.05463991 1.05768155 1.04916497 1.12186005 1.142239\n",
      " 1.15014725 1.05342326 0.94879101 0.86332106 0.83016724 0.84081296\n",
      " 0.89039162 0.95548261 1.05251077 1.02239858 0.95730759 1.00171546\n",
      " 0.93449532 0.95882841 0.93844945 1.02574438 1.00293211 0.98042401\n",
      " 1.03699843 0.9621742  0.80857163 0.85176285 0.84202962 0.87518344\n",
      " 0.90255816 0.98498647 1.03000267 1.0555524  1.03182765 1.08444793\n",
      " 1.06619812 1.10573938 1.16292212 1.1805636  1.11091016 1.10573938\n",
      " 1.14254317 1.11425596 1.10026444 1.05524824 1.00019464 0.96856164\n",
      " 0.91624551 0.96582417 1.04004006 1.0780605  1.05646489 1.11729759\n",
      " 1.1331141  1.10208942 1.07623552 1.06802311 1.01114453 1.03608594\n",
      " 1.01631531 0.93753696 1.01449033 1.02148609 0.98894059 1.0488608\n",
      " 1.06315649 1.07745217 1.12581417 1.12946413 1.04338586 1.01509865\n",
      " 0.98164067 1.02118192 0.94118692 1.0337702  1.01525187 0.99972123\n",
      " 0.98740822 0.97768068 0.96969748 0.96273077 0.95627028 0.95001119\n",
      " 0.94380164 0.93758523 0.93135482 0.92512137 0.91889936 0.91269863\n",
      " 0.90652233 0.90037018 0.89423728 0.88811851 0.8820076  0.87589979\n",
      " 0.86979014 0.86367542 0.85755283 0.85141999]\n",
      "1/1 [==============================] - 0s 2ms/step\n",
      "25 day output [[0.8452762]]\n",
      "26 day input [1.05463991 1.05768155 1.04916497 1.12186005 1.142239   1.15014725\n",
      " 1.05342326 0.94879101 0.86332106 0.83016724 0.84081296 0.89039162\n",
      " 0.95548261 1.05251077 1.02239858 0.95730759 1.00171546 0.93449532\n",
      " 0.95882841 0.93844945 1.02574438 1.00293211 0.98042401 1.03699843\n",
      " 0.9621742  0.80857163 0.85176285 0.84202962 0.87518344 0.90255816\n",
      " 0.98498647 1.03000267 1.0555524  1.03182765 1.08444793 1.06619812\n",
      " 1.10573938 1.16292212 1.1805636  1.11091016 1.10573938 1.14254317\n",
      " 1.11425596 1.10026444 1.05524824 1.00019464 0.96856164 0.91624551\n",
      " 0.96582417 1.04004006 1.0780605  1.05646489 1.11729759 1.1331141\n",
      " 1.10208942 1.07623552 1.06802311 1.01114453 1.03608594 1.01631531\n",
      " 0.93753696 1.01449033 1.02148609 0.98894059 1.0488608  1.06315649\n",
      " 1.07745217 1.12581417 1.12946413 1.04338586 1.01509865 0.98164067\n",
      " 1.02118192 0.94118692 1.0337702  1.01525187 0.99972123 0.98740822\n",
      " 0.97768068 0.96969748 0.96273077 0.95627028 0.95001119 0.94380164\n",
      " 0.93758523 0.93135482 0.92512137 0.91889936 0.91269863 0.90652233\n",
      " 0.90037018 0.89423728 0.88811851 0.8820076  0.87589979 0.86979014\n",
      " 0.86367542 0.85755283 0.85141999 0.84527618]\n",
      "1/1 [==============================] - 0s 3ms/step\n",
      "26 day output [[0.8391201]]\n",
      "27 day input [1.05768155 1.04916497 1.12186005 1.142239   1.15014725 1.05342326\n",
      " 0.94879101 0.86332106 0.83016724 0.84081296 0.89039162 0.95548261\n",
      " 1.05251077 1.02239858 0.95730759 1.00171546 0.93449532 0.95882841\n",
      " 0.93844945 1.02574438 1.00293211 0.98042401 1.03699843 0.9621742\n",
      " 0.80857163 0.85176285 0.84202962 0.87518344 0.90255816 0.98498647\n",
      " 1.03000267 1.0555524  1.03182765 1.08444793 1.06619812 1.10573938\n",
      " 1.16292212 1.1805636  1.11091016 1.10573938 1.14254317 1.11425596\n",
      " 1.10026444 1.05524824 1.00019464 0.96856164 0.91624551 0.96582417\n",
      " 1.04004006 1.0780605  1.05646489 1.11729759 1.1331141  1.10208942\n",
      " 1.07623552 1.06802311 1.01114453 1.03608594 1.01631531 0.93753696\n",
      " 1.01449033 1.02148609 0.98894059 1.0488608  1.06315649 1.07745217\n",
      " 1.12581417 1.12946413 1.04338586 1.01509865 0.98164067 1.02118192\n",
      " 0.94118692 1.0337702  1.01525187 0.99972123 0.98740822 0.97768068\n",
      " 0.96969748 0.96273077 0.95627028 0.95001119 0.94380164 0.93758523\n",
      " 0.93135482 0.92512137 0.91889936 0.91269863 0.90652233 0.90037018\n",
      " 0.89423728 0.88811851 0.8820076  0.87589979 0.86979014 0.86367542\n",
      " 0.85755283 0.85141999 0.84527618 0.83912009]\n",
      "1/1 [==============================] - 0s 2ms/step\n",
      "27 day output [[0.8329515]]\n",
      "28 day input [1.04916497 1.12186005 1.142239   1.15014725 1.05342326 0.94879101\n",
      " 0.86332106 0.83016724 0.84081296 0.89039162 0.95548261 1.05251077\n",
      " 1.02239858 0.95730759 1.00171546 0.93449532 0.95882841 0.93844945\n",
      " 1.02574438 1.00293211 0.98042401 1.03699843 0.9621742  0.80857163\n",
      " 0.85176285 0.84202962 0.87518344 0.90255816 0.98498647 1.03000267\n",
      " 1.0555524  1.03182765 1.08444793 1.06619812 1.10573938 1.16292212\n",
      " 1.1805636  1.11091016 1.10573938 1.14254317 1.11425596 1.10026444\n",
      " 1.05524824 1.00019464 0.96856164 0.91624551 0.96582417 1.04004006\n",
      " 1.0780605  1.05646489 1.11729759 1.1331141  1.10208942 1.07623552\n",
      " 1.06802311 1.01114453 1.03608594 1.01631531 0.93753696 1.01449033\n",
      " 1.02148609 0.98894059 1.0488608  1.06315649 1.07745217 1.12581417\n",
      " 1.12946413 1.04338586 1.01509865 0.98164067 1.02118192 0.94118692\n",
      " 1.0337702  1.01525187 0.99972123 0.98740822 0.97768068 0.96969748\n",
      " 0.96273077 0.95627028 0.95001119 0.94380164 0.93758523 0.93135482\n",
      " 0.92512137 0.91889936 0.91269863 0.90652233 0.90037018 0.89423728\n",
      " 0.88811851 0.8820076  0.87589979 0.86979014 0.86367542 0.85755283\n",
      " 0.85141999 0.84527618 0.83912009 0.83295149]\n",
      "1/1 [==============================] - 0s 1ms/step\n",
      "28 day output [[0.8267703]]\n",
      "29 day input [1.12186005 1.142239   1.15014725 1.05342326 0.94879101 0.86332106\n",
      " 0.83016724 0.84081296 0.89039162 0.95548261 1.05251077 1.02239858\n",
      " 0.95730759 1.00171546 0.93449532 0.95882841 0.93844945 1.02574438\n",
      " 1.00293211 0.98042401 1.03699843 0.9621742  0.80857163 0.85176285\n",
      " 0.84202962 0.87518344 0.90255816 0.98498647 1.03000267 1.0555524\n",
      " 1.03182765 1.08444793 1.06619812 1.10573938 1.16292212 1.1805636\n",
      " 1.11091016 1.10573938 1.14254317 1.11425596 1.10026444 1.05524824\n",
      " 1.00019464 0.96856164 0.91624551 0.96582417 1.04004006 1.0780605\n",
      " 1.05646489 1.11729759 1.1331141  1.10208942 1.07623552 1.06802311\n",
      " 1.01114453 1.03608594 1.01631531 0.93753696 1.01449033 1.02148609\n",
      " 0.98894059 1.0488608  1.06315649 1.07745217 1.12581417 1.12946413\n",
      " 1.04338586 1.01509865 0.98164067 1.02118192 0.94118692 1.0337702\n",
      " 1.01525187 0.99972123 0.98740822 0.97768068 0.96969748 0.96273077\n",
      " 0.95627028 0.95001119 0.94380164 0.93758523 0.93135482 0.92512137\n",
      " 0.91889936 0.91269863 0.90652233 0.90037018 0.89423728 0.88811851\n",
      " 0.8820076  0.87589979 0.86979014 0.86367542 0.85755283 0.85141999\n",
      " 0.84527618 0.83912009 0.83295149 0.82677031]\n",
      "1/1 [==============================] - 0s 2ms/step\n",
      "29 day output [[0.82057637]]\n"
     ]
    }
   ],
   "source": [
    "lst_output = []\n",
    "n_steps = 100\n",
    "i = 0\n",
    "\n",
    "while i < 30:\n",
    "    if(len(temp_input)>100):\n",
    "        #print(temp_input)\n",
    "        x_input = np.array(temp_input[1:]) # Taking x_input values from 2nd value onward, so that total value will be 100\n",
    "        print('{} day input {}'.format(i,x_input))\n",
    "        x_input = x_input.reshape(1,-1)\n",
    "        x_input = x_input.reshape((1,n_steps,1)) #making tensor of 1 batch, with n rows and 1 column\n",
    "        #print(x_input)\n",
    "        yhat = model.predict(x_input,verbose = 1)\n",
    "        print('{} day output {}'.format(i,yhat))\n",
    "        temp_input.extend(yhat[0].tolist()) #Adding forecasted value to the temp_input, for further forecasting, now there are 102 values in temp_input\n",
    "        temp_input = temp_input[1:] #Because after adding the above yhat[0], total number of elements in temp_input is 102, so we will select last 101 elements so that again if loop will go on running for 30 days\n",
    "        #print(temp_input)\n",
    "        lst_output.extend(yhat.tolist())\n",
    "        i = i+1\n",
    "    else:        #first loop will go inside this\n",
    "        x_input = x_input.reshape((1,n_steps,1))  #last 100 days data, nsteps = 100 and reshaping it so that we can feed it in LSTM\n",
    "        yhat = model.predict(x_input,verbose = 0) #Taking prediction from model \n",
    "        print(yhat[0])\n",
    "        temp_input.extend(yhat[0].tolist()) #Adding predicted value of 101 day in temp_input, so that this value can be used for forecasting values for days starting from day 102\n",
    "        print(len(temp_input))\n",
    "        lst_output.extend(yhat.tolist())  #Adding 101 day forecast to Output forecasting list \n",
    "        i = i+1"
   ]
  },
  {
   "cell_type": "code",
   "execution_count": 112,
   "metadata": {},
   "outputs": [],
   "source": [
    "forecast = scaler.inverse_transform(lst_output)"
   ]
  },
  {
   "cell_type": "code",
   "execution_count": 113,
   "metadata": {},
   "outputs": [],
   "source": [
    "forecast = forecast.reshape(30,)"
   ]
  },
  {
   "cell_type": "code",
   "execution_count": 114,
   "metadata": {},
   "outputs": [],
   "source": [
    "ddf = df[100:]"
   ]
  },
  {
   "cell_type": "code",
   "execution_count": 115,
   "metadata": {},
   "outputs": [],
   "source": [
    "t_fut = pd.date_range('2023-03-14 00:00:00+00:00',periods=30)"
   ]
  },
  {
   "cell_type": "code",
   "execution_count": 116,
   "metadata": {},
   "outputs": [],
   "source": [
    "dffor = pd.DataFrame({'Forecast Price':forecast},index = t_fut)"
   ]
  },
  {
   "cell_type": "code",
   "execution_count": 117,
   "metadata": {},
   "outputs": [
    {
     "data": {
      "text/plain": [
       "<matplotlib.legend.Legend at 0x1ea4d6c6af0>"
      ]
     },
     "execution_count": 117,
     "metadata": {},
     "output_type": "execute_result"
    },
    {
     "data": {
      "image/png": "[encoded data removed]",
      "text/plain": [
       "<Figure size 1152x504 with 1 Axes>"
      ]
     },
     "metadata": {
      "needs_background": "light"
     },
     "output_type": "display_data"
    }
   ],
   "source": [
    "plt.figure(figsize=(16,7))\n",
    "plt.grid(True)\n",
    "plt.title(\"Crude Price Forecating Training and Validation\")\n",
    "#plt.plot(df.index,df['Price'],label = \"Original Value\",c = \"blue\")\n",
    "#plt.plot(df[:train_predict.shape[0]+w].index,df['Predicted Price'][:train_predict.shape[0]+w],label = \"Predicted Training Price\",c = \"Red\")\n",
    "plt.plot(df[train_predict.shape[0]+w:].index,df['Predicted Price'][train_predict.shape[0]+w:],label = \"Predicted Validation Price\",c = \"Green\")\n",
    "\n",
    "plt.plot(dffor.index,dffor['Forecast Price'],label = 'Forecasted Price',c = 'black')\n",
    "\n",
    "plt.axvline(df.index[train_predict.shape[0]+w], color='black',lw=3)\n",
    "plt.axvline(dffor.index[0],color = 'black',lw=2)\n",
    "\n",
    "plt.legend()"
   ]
  },
  {
   "cell_type": "code",
   "execution_count": null,
   "metadata": {},
   "outputs": [],
   "source": []
  }
 ],
 "metadata": {
  "kernelspec": {
   "display_name": "base",
   "language": "python",
   "name": "python3"
  },
  "language_info": {
   "codemirror_mode": {
    "name": "ipython",
    "version": 3
   },
   "file_extension": ".py",
   "mimetype": "text/x-python",
   "name": "python",
   "nbconvert_exporter": "python",
   "pygments_lexer": "ipython3",
   "version": "3.8.8"
  }
 },
 "nbformat": 4,
 "nbformat_minor": 2
}
