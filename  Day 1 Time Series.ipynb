{
 "cells": [
  {
   "cell_type": "code",
   "execution_count": 4,
   "id": "bf9eda26",
   "metadata": {},
   "outputs": [
    {
     "name": "stdout",
     "output_type": "stream",
     "text": [
      "Hello World\n"
     ]
    }
   ],
   "source": [
    "print('Hello World')"
   ]
  },
  {
   "cell_type": "code",
   "execution_count": 5,
   "id": "81c40521",
   "metadata": {},
   "outputs": [
    {
     "name": "stdout",
     "output_type": "stream",
     "text": [
      "8\n"
     ]
    }
   ],
   "source": [
    "print(8)"
   ]
  },
  {
   "cell_type": "code",
   "execution_count": 6,
   "id": "bc62d582",
   "metadata": {},
   "outputs": [
    {
     "name": "stdout",
     "output_type": "stream",
     "text": [
      "4.5\n"
     ]
    }
   ],
   "source": [
    "print(4.5)"
   ]
  },
  {
   "cell_type": "code",
   "execution_count": 9,
   "id": "4ec546d2",
   "metadata": {},
   "outputs": [
    {
     "name": "stdout",
     "output_type": "stream",
     "text": [
      "Hello\n"
     ]
    }
   ],
   "source": [
    "print(\"Hello\")"
   ]
  },
  {
   "cell_type": "markdown",
   "id": "e87b133e",
   "metadata": {},
   "source": [
    "### Single Value Data Types"
   ]
  },
  {
   "cell_type": "markdown",
   "id": "056d3207",
   "metadata": {},
   "source": [
    "- Integers: eg: 7\n",
    "\n",
    "- Floats: eg: 4.5,7.0\n",
    "\n",
    "- STring: starts \"\",'', eg- \"hello\",\"7\",\"6.5\"\n",
    "\n",
    "- Booleans: True or False"
   ]
  },
  {
   "cell_type": "code",
   "execution_count": 10,
   "id": "e34549fa",
   "metadata": {},
   "outputs": [
    {
     "data": {
      "text/plain": [
       "4"
      ]
     },
     "execution_count": 10,
     "metadata": {},
     "output_type": "execute_result"
    }
   ],
   "source": [
    "4"
   ]
  },
  {
   "cell_type": "code",
   "execution_count": 11,
   "id": "73ff7640",
   "metadata": {},
   "outputs": [
    {
     "data": {
      "text/plain": [
       "int"
      ]
     },
     "execution_count": 11,
     "metadata": {},
     "output_type": "execute_result"
    }
   ],
   "source": [
    "type(4)"
   ]
  },
  {
   "cell_type": "code",
   "execution_count": 12,
   "id": "9dd97f3f",
   "metadata": {},
   "outputs": [
    {
     "data": {
      "text/plain": [
       "float"
      ]
     },
     "execution_count": 12,
     "metadata": {},
     "output_type": "execute_result"
    }
   ],
   "source": [
    "type(4.0)"
   ]
  },
  {
   "cell_type": "code",
   "execution_count": 13,
   "id": "b4c40e21",
   "metadata": {},
   "outputs": [
    {
     "data": {
      "text/plain": [
       "str"
      ]
     },
     "execution_count": 13,
     "metadata": {},
     "output_type": "execute_result"
    }
   ],
   "source": [
    "type('4')"
   ]
  },
  {
   "cell_type": "code",
   "execution_count": 14,
   "id": "eacc8dc3",
   "metadata": {},
   "outputs": [
    {
     "data": {
      "text/plain": [
       "bool"
      ]
     },
     "execution_count": 14,
     "metadata": {},
     "output_type": "execute_result"
    }
   ],
   "source": [
    "type(True)"
   ]
  },
  {
   "cell_type": "code",
   "execution_count": 15,
   "id": "dd739698",
   "metadata": {},
   "outputs": [
    {
     "data": {
      "text/plain": [
       "bool"
      ]
     },
     "execution_count": 15,
     "metadata": {},
     "output_type": "execute_result"
    }
   ],
   "source": [
    "type(True)"
   ]
  },
  {
   "cell_type": "markdown",
   "id": "c7d20f06",
   "metadata": {},
   "source": [
    "## Variables: COntainers for storing data"
   ]
  },
  {
   "cell_type": "code",
   "execution_count": 16,
   "id": "3abf2c32",
   "metadata": {},
   "outputs": [],
   "source": [
    "a = 4"
   ]
  },
  {
   "cell_type": "code",
   "execution_count": 17,
   "id": "b15790be",
   "metadata": {},
   "outputs": [
    {
     "data": {
      "text/plain": [
       "4"
      ]
     },
     "execution_count": 17,
     "metadata": {},
     "output_type": "execute_result"
    }
   ],
   "source": [
    "a"
   ]
  },
  {
   "cell_type": "code",
   "execution_count": 18,
   "id": "4281ba51",
   "metadata": {},
   "outputs": [
    {
     "data": {
      "text/plain": [
       "8"
      ]
     },
     "execution_count": 18,
     "metadata": {},
     "output_type": "execute_result"
    }
   ],
   "source": [
    "a*2"
   ]
  },
  {
   "cell_type": "code",
   "execution_count": 19,
   "id": "5124c1c3",
   "metadata": {},
   "outputs": [],
   "source": [
    "b = \"Petroleum\""
   ]
  },
  {
   "cell_type": "code",
   "execution_count": 20,
   "id": "136e46b0",
   "metadata": {},
   "outputs": [
    {
     "data": {
      "text/plain": [
       "'Petroleum'"
      ]
     },
     "execution_count": 20,
     "metadata": {},
     "output_type": "execute_result"
    }
   ],
   "source": [
    "b"
   ]
  },
  {
   "cell_type": "code",
   "execution_count": 21,
   "id": "b0803fa7",
   "metadata": {},
   "outputs": [],
   "source": [
    "#reinitialize\n",
    "b = 'Time Series'"
   ]
  },
  {
   "cell_type": "code",
   "execution_count": 22,
   "id": "8959f179",
   "metadata": {},
   "outputs": [
    {
     "data": {
      "text/plain": [
       "'Time Series'"
      ]
     },
     "execution_count": 22,
     "metadata": {},
     "output_type": "execute_result"
    }
   ],
   "source": [
    "b"
   ]
  },
  {
   "cell_type": "code",
   "execution_count": 24,
   "id": "71000aab",
   "metadata": {},
   "outputs": [
    {
     "name": "stdout",
     "output_type": "stream",
     "text": [
      "4\n",
      "8\n",
      "11\n"
     ]
    }
   ],
   "source": [
    "a = 4\n",
    "print(a)\n",
    "a = a*2\n",
    "print(a)\n",
    "a = a+3\n",
    "\n",
    "print(a)"
   ]
  },
  {
   "cell_type": "code",
   "execution_count": 25,
   "id": "6de72c91",
   "metadata": {},
   "outputs": [
    {
     "data": {
      "text/plain": [
       "str"
      ]
     },
     "execution_count": 25,
     "metadata": {},
     "output_type": "execute_result"
    }
   ],
   "source": [
    "type(b)"
   ]
  },
  {
   "cell_type": "code",
   "execution_count": 26,
   "id": "b6fdcc02",
   "metadata": {},
   "outputs": [],
   "source": [
    "b = '''fdgfsdfg\n",
    "fdgdfgdf\n",
    "'''"
   ]
  },
  {
   "cell_type": "code",
   "execution_count": 27,
   "id": "1fb73132",
   "metadata": {},
   "outputs": [
    {
     "data": {
      "text/plain": [
       "'fdgfsdfg\\nfdgdfgdf\\n'"
      ]
     },
     "execution_count": 27,
     "metadata": {},
     "output_type": "execute_result"
    }
   ],
   "source": [
    "b"
   ]
  },
  {
   "cell_type": "code",
   "execution_count": 28,
   "id": "3f2b34bf",
   "metadata": {},
   "outputs": [],
   "source": [
    "c = \"\"\"hello all,\n",
    "hope you guys having a good day\n",
    "and enjoying today's class.\n",
    "\"\"\""
   ]
  },
  {
   "cell_type": "code",
   "execution_count": 29,
   "id": "57de2acf",
   "metadata": {},
   "outputs": [
    {
     "data": {
      "text/plain": [
       "\"hello all,\\nhope you guys having a good day\\nand enjoying today's class.\\n\""
      ]
     },
     "execution_count": 29,
     "metadata": {},
     "output_type": "execute_result"
    }
   ],
   "source": [
    "c"
   ]
  },
  {
   "cell_type": "code",
   "execution_count": 30,
   "id": "81c94398",
   "metadata": {},
   "outputs": [
    {
     "name": "stdout",
     "output_type": "stream",
     "text": [
      "hello all,\n",
      "hope you guys having a good day\n",
      "and enjoying today's class.\n",
      "\n"
     ]
    }
   ],
   "source": [
    "print(c)"
   ]
  },
  {
   "cell_type": "code",
   "execution_count": 32,
   "id": "8823e583",
   "metadata": {},
   "outputs": [],
   "source": [
    "# TYpe casting\n",
    "x = 566"
   ]
  },
  {
   "cell_type": "code",
   "execution_count": 33,
   "id": "805221e9",
   "metadata": {},
   "outputs": [
    {
     "data": {
      "text/plain": [
       "int"
      ]
     },
     "execution_count": 33,
     "metadata": {},
     "output_type": "execute_result"
    }
   ],
   "source": [
    "type(x)"
   ]
  },
  {
   "cell_type": "code",
   "execution_count": 34,
   "id": "1289c45a",
   "metadata": {},
   "outputs": [
    {
     "data": {
      "text/plain": [
       "566.0"
      ]
     },
     "execution_count": 34,
     "metadata": {},
     "output_type": "execute_result"
    }
   ],
   "source": [
    "float(x)"
   ]
  },
  {
   "cell_type": "code",
   "execution_count": 36,
   "id": "0ea12f21",
   "metadata": {},
   "outputs": [
    {
     "data": {
      "text/plain": [
       "566"
      ]
     },
     "execution_count": 36,
     "metadata": {},
     "output_type": "execute_result"
    }
   ],
   "source": [
    "x"
   ]
  },
  {
   "cell_type": "code",
   "execution_count": 35,
   "id": "21a5b764",
   "metadata": {},
   "outputs": [
    {
     "data": {
      "text/plain": [
       "int"
      ]
     },
     "execution_count": 35,
     "metadata": {},
     "output_type": "execute_result"
    }
   ],
   "source": [
    "type(x)"
   ]
  },
  {
   "cell_type": "code",
   "execution_count": 37,
   "id": "4008447d",
   "metadata": {},
   "outputs": [],
   "source": [
    "y = float(x)"
   ]
  },
  {
   "cell_type": "code",
   "execution_count": 38,
   "id": "a5b0b414",
   "metadata": {},
   "outputs": [
    {
     "data": {
      "text/plain": [
       "566.0"
      ]
     },
     "execution_count": 38,
     "metadata": {},
     "output_type": "execute_result"
    }
   ],
   "source": [
    "y"
   ]
  },
  {
   "cell_type": "code",
   "execution_count": 39,
   "id": "f4e794e9",
   "metadata": {},
   "outputs": [
    {
     "data": {
      "text/plain": [
       "int"
      ]
     },
     "execution_count": 39,
     "metadata": {},
     "output_type": "execute_result"
    }
   ],
   "source": [
    "type(x)"
   ]
  },
  {
   "cell_type": "code",
   "execution_count": 40,
   "id": "1c30c8e4",
   "metadata": {},
   "outputs": [
    {
     "data": {
      "text/plain": [
       "float"
      ]
     },
     "execution_count": 40,
     "metadata": {},
     "output_type": "execute_result"
    }
   ],
   "source": [
    "type(y)"
   ]
  },
  {
   "cell_type": "code",
   "execution_count": 41,
   "id": "c088ef18",
   "metadata": {},
   "outputs": [],
   "source": [
    "z = str(y)"
   ]
  },
  {
   "cell_type": "code",
   "execution_count": 42,
   "id": "e88171f0",
   "metadata": {},
   "outputs": [
    {
     "data": {
      "text/plain": [
       "'566.0'"
      ]
     },
     "execution_count": 42,
     "metadata": {},
     "output_type": "execute_result"
    }
   ],
   "source": [
    "z"
   ]
  },
  {
   "cell_type": "code",
   "execution_count": 43,
   "id": "de0a215e",
   "metadata": {},
   "outputs": [],
   "source": [
    "b = 'Petroleum'"
   ]
  },
  {
   "cell_type": "code",
   "execution_count": 44,
   "id": "a6fc538d",
   "metadata": {},
   "outputs": [
    {
     "data": {
      "text/plain": [
       "'Petroleum'"
      ]
     },
     "execution_count": 44,
     "metadata": {},
     "output_type": "execute_result"
    }
   ],
   "source": [
    "b"
   ]
  },
  {
   "cell_type": "code",
   "execution_count": 45,
   "id": "37f01f06",
   "metadata": {},
   "outputs": [
    {
     "ename": "ValueError",
     "evalue": "could not convert string to float: 'Petroleum'",
     "output_type": "error",
     "traceback": [
      "\u001b[1;31m---------------------------------------------------------------------------\u001b[0m",
      "\u001b[1;31mValueError\u001b[0m                                Traceback (most recent call last)",
      "\u001b[1;32m<ipython-input-45-d0610705f37a>\u001b[0m in \u001b[0;36m<module>\u001b[1;34m\u001b[0m\n\u001b[1;32m----> 1\u001b[1;33m \u001b[0mfloat\u001b[0m\u001b[1;33m(\u001b[0m\u001b[0mb\u001b[0m\u001b[1;33m)\u001b[0m\u001b[1;33m\u001b[0m\u001b[1;33m\u001b[0m\u001b[0m\n\u001b[0m",
      "\u001b[1;31mValueError\u001b[0m: could not convert string to float: 'Petroleum'"
     ]
    }
   ],
   "source": [
    "float(b)"
   ]
  },
  {
   "cell_type": "code",
   "execution_count": 50,
   "id": "38abfa19",
   "metadata": {},
   "outputs": [],
   "source": [
    "b = '6.54'"
   ]
  },
  {
   "cell_type": "code",
   "execution_count": 51,
   "id": "f971c271",
   "metadata": {},
   "outputs": [
    {
     "data": {
      "text/plain": [
       "6.54"
      ]
     },
     "execution_count": 51,
     "metadata": {},
     "output_type": "execute_result"
    }
   ],
   "source": [
    "float(b)"
   ]
  },
  {
   "cell_type": "markdown",
   "id": "4aa16832",
   "metadata": {},
   "source": [
    "## Mathematical Operations"
   ]
  },
  {
   "cell_type": "code",
   "execution_count": 52,
   "id": "9e7d4d60",
   "metadata": {},
   "outputs": [],
   "source": [
    "x = 45\n",
    "y = 21"
   ]
  },
  {
   "cell_type": "code",
   "execution_count": 53,
   "id": "6e994525",
   "metadata": {},
   "outputs": [
    {
     "data": {
      "text/plain": [
       "45"
      ]
     },
     "execution_count": 53,
     "metadata": {},
     "output_type": "execute_result"
    }
   ],
   "source": [
    "x"
   ]
  },
  {
   "cell_type": "code",
   "execution_count": 54,
   "id": "d19dda10",
   "metadata": {},
   "outputs": [
    {
     "data": {
      "text/plain": [
       "21"
      ]
     },
     "execution_count": 54,
     "metadata": {},
     "output_type": "execute_result"
    }
   ],
   "source": [
    "y"
   ]
  },
  {
   "cell_type": "code",
   "execution_count": 55,
   "id": "925c37c6",
   "metadata": {},
   "outputs": [
    {
     "data": {
      "text/plain": [
       "66"
      ]
     },
     "execution_count": 55,
     "metadata": {},
     "output_type": "execute_result"
    }
   ],
   "source": [
    "x+y"
   ]
  },
  {
   "cell_type": "code",
   "execution_count": 56,
   "id": "c2f9755d",
   "metadata": {},
   "outputs": [
    {
     "data": {
      "text/plain": [
       "24"
      ]
     },
     "execution_count": 56,
     "metadata": {},
     "output_type": "execute_result"
    }
   ],
   "source": [
    "x-y"
   ]
  },
  {
   "cell_type": "code",
   "execution_count": 57,
   "id": "8d0e4402",
   "metadata": {},
   "outputs": [
    {
     "data": {
      "text/plain": [
       "945"
      ]
     },
     "execution_count": 57,
     "metadata": {},
     "output_type": "execute_result"
    }
   ],
   "source": [
    "x*y"
   ]
  },
  {
   "cell_type": "code",
   "execution_count": 58,
   "id": "09d411aa",
   "metadata": {},
   "outputs": [
    {
     "data": {
      "text/plain": [
       "2.142857142857143"
      ]
     },
     "execution_count": 58,
     "metadata": {},
     "output_type": "execute_result"
    }
   ],
   "source": [
    "x/y"
   ]
  },
  {
   "cell_type": "code",
   "execution_count": 59,
   "id": "00ac4569",
   "metadata": {},
   "outputs": [
    {
     "data": {
      "text/plain": [
       "441"
      ]
     },
     "execution_count": 59,
     "metadata": {},
     "output_type": "execute_result"
    }
   ],
   "source": [
    "## exponent powers\n",
    "\n",
    "y**2"
   ]
  },
  {
   "cell_type": "code",
   "execution_count": 60,
   "id": "10a0b29f",
   "metadata": {},
   "outputs": [
    {
     "data": {
      "text/plain": [
       "4100625"
      ]
     },
     "execution_count": 60,
     "metadata": {},
     "output_type": "execute_result"
    }
   ],
   "source": [
    "x**4"
   ]
  },
  {
   "cell_type": "code",
   "execution_count": 62,
   "id": "2c40ef92",
   "metadata": {},
   "outputs": [
    {
     "data": {
      "text/plain": [
       "2.142857142857143"
      ]
     },
     "execution_count": 62,
     "metadata": {},
     "output_type": "execute_result"
    }
   ],
   "source": [
    "x/y"
   ]
  },
  {
   "cell_type": "code",
   "execution_count": 61,
   "id": "ce7bd815",
   "metadata": {},
   "outputs": [
    {
     "data": {
      "text/plain": [
       "2"
      ]
     },
     "execution_count": 61,
     "metadata": {},
     "output_type": "execute_result"
    }
   ],
   "source": [
    "### Quotient given by //\n",
    "x//y"
   ]
  },
  {
   "cell_type": "code",
   "execution_count": 63,
   "id": "a50106af",
   "metadata": {},
   "outputs": [
    {
     "data": {
      "text/plain": [
       "3"
      ]
     },
     "execution_count": 63,
     "metadata": {},
     "output_type": "execute_result"
    }
   ],
   "source": [
    "##rEMAINDER: %\n",
    "x%y"
   ]
  },
  {
   "cell_type": "code",
   "execution_count": 64,
   "id": "7cd9e756",
   "metadata": {},
   "outputs": [
    {
     "data": {
      "text/plain": [
       "21"
      ]
     },
     "execution_count": 64,
     "metadata": {},
     "output_type": "execute_result"
    }
   ],
   "source": [
    "y"
   ]
  },
  {
   "cell_type": "code",
   "execution_count": 65,
   "id": "c4578c48",
   "metadata": {},
   "outputs": [
    {
     "data": {
      "text/plain": [
       "4"
      ]
     },
     "execution_count": 65,
     "metadata": {},
     "output_type": "execute_result"
    }
   ],
   "source": [
    "y//5"
   ]
  },
  {
   "cell_type": "code",
   "execution_count": 66,
   "id": "bc8f3326",
   "metadata": {},
   "outputs": [
    {
     "data": {
      "text/plain": [
       "1"
      ]
     },
     "execution_count": 66,
     "metadata": {},
     "output_type": "execute_result"
    }
   ],
   "source": [
    "y%5"
   ]
  },
  {
   "cell_type": "code",
   "execution_count": 67,
   "id": "28a66617",
   "metadata": {},
   "outputs": [
    {
     "data": {
      "text/plain": [
       "418770"
      ]
     },
     "execution_count": 67,
     "metadata": {},
     "output_type": "execute_result"
    }
   ],
   "source": [
    "x**2+x*y**3"
   ]
  },
  {
   "cell_type": "code",
   "execution_count": 73,
   "id": "358b64e1",
   "metadata": {},
   "outputs": [
    {
     "data": {
      "text/plain": [
       "621"
      ]
     },
     "execution_count": 73,
     "metadata": {},
     "output_type": "execute_result"
    }
   ],
   "source": [
    "# this is a comment\n",
    "x+(x-y)**2 #this is also a comment"
   ]
  },
  {
   "cell_type": "markdown",
   "id": "844f7455",
   "metadata": {},
   "source": [
    "### Strings"
   ]
  },
  {
   "cell_type": "code",
   "execution_count": 69,
   "id": "55ea25f1",
   "metadata": {},
   "outputs": [],
   "source": [
    "## - \"\",''"
   ]
  },
  {
   "cell_type": "markdown",
   "id": "0addd8b5",
   "metadata": {},
   "source": [
    "6: integer\n",
    "\n",
    "6.0 : float\n",
    "\n",
    "'6' : string"
   ]
  },
  {
   "cell_type": "code",
   "execution_count": 74,
   "id": "84c1a6a5",
   "metadata": {},
   "outputs": [],
   "source": [
    "##operations\n",
    "x = 'Petroleum'\n",
    "\n",
    "y = 'Oil'"
   ]
  },
  {
   "cell_type": "code",
   "execution_count": 75,
   "id": "fe76168c",
   "metadata": {},
   "outputs": [
    {
     "data": {
      "text/plain": [
       "'PetroleumOil'"
      ]
     },
     "execution_count": 75,
     "metadata": {},
     "output_type": "execute_result"
    }
   ],
   "source": [
    "x+y"
   ]
  },
  {
   "cell_type": "code",
   "execution_count": 76,
   "id": "b1e91bf2",
   "metadata": {},
   "outputs": [
    {
     "data": {
      "text/plain": [
       "'PetroleumPetroleumPetroleum'"
      ]
     },
     "execution_count": 76,
     "metadata": {},
     "output_type": "execute_result"
    }
   ],
   "source": [
    "x*3"
   ]
  },
  {
   "cell_type": "code",
   "execution_count": 77,
   "id": "2633b641",
   "metadata": {},
   "outputs": [
    {
     "ename": "TypeError",
     "evalue": "can't multiply sequence by non-int of type 'str'",
     "output_type": "error",
     "traceback": [
      "\u001b[1;31m---------------------------------------------------------------------------\u001b[0m",
      "\u001b[1;31mTypeError\u001b[0m                                 Traceback (most recent call last)",
      "\u001b[1;32m<ipython-input-77-7a2c1caf0dad>\u001b[0m in \u001b[0;36m<module>\u001b[1;34m\u001b[0m\n\u001b[1;32m----> 1\u001b[1;33m \u001b[0mx\u001b[0m\u001b[1;33m*\u001b[0m\u001b[0my\u001b[0m\u001b[1;33m\u001b[0m\u001b[1;33m\u001b[0m\u001b[0m\n\u001b[0m",
      "\u001b[1;31mTypeError\u001b[0m: can't multiply sequence by non-int of type 'str'"
     ]
    }
   ],
   "source": [
    "x*y"
   ]
  },
  {
   "cell_type": "code",
   "execution_count": 78,
   "id": "832d5350",
   "metadata": {},
   "outputs": [
    {
     "data": {
      "text/plain": [
       "'3333'"
      ]
     },
     "execution_count": 78,
     "metadata": {},
     "output_type": "execute_result"
    }
   ],
   "source": [
    "4*'3'"
   ]
  },
  {
   "cell_type": "code",
   "execution_count": 79,
   "id": "830a0b59",
   "metadata": {},
   "outputs": [
    {
     "data": {
      "text/plain": [
       "'3333'"
      ]
     },
     "execution_count": 79,
     "metadata": {},
     "output_type": "execute_result"
    }
   ],
   "source": [
    "'3'*4"
   ]
  },
  {
   "cell_type": "markdown",
   "id": "cebfe812",
   "metadata": {},
   "source": [
    "#### input : Asking input from user"
   ]
  },
  {
   "cell_type": "code",
   "execution_count": 80,
   "id": "0c890088",
   "metadata": {},
   "outputs": [
    {
     "name": "stdout",
     "output_type": "stream",
     "text": [
      "dfgfdgdfgd\n"
     ]
    },
    {
     "data": {
      "text/plain": [
       "'dfgfdgdfgd'"
      ]
     },
     "execution_count": 80,
     "metadata": {},
     "output_type": "execute_result"
    }
   ],
   "source": [
    "input()"
   ]
  },
  {
   "cell_type": "code",
   "execution_count": 81,
   "id": "1a844f97",
   "metadata": {},
   "outputs": [
    {
     "name": "stdout",
     "output_type": "stream",
     "text": [
      "Enter the value: 215\n"
     ]
    },
    {
     "data": {
      "text/plain": [
       "'215'"
      ]
     },
     "execution_count": 81,
     "metadata": {},
     "output_type": "execute_result"
    }
   ],
   "source": [
    "input('Enter the value: ')"
   ]
  },
  {
   "cell_type": "code",
   "execution_count": 82,
   "id": "4fd72a31",
   "metadata": {},
   "outputs": [
    {
     "name": "stdout",
     "output_type": "stream",
     "text": [
      "Enter the formation porosity: 0.5\n"
     ]
    }
   ],
   "source": [
    "porosity = input('Enter the formation porosity: ')"
   ]
  },
  {
   "cell_type": "code",
   "execution_count": 83,
   "id": "228337ac",
   "metadata": {},
   "outputs": [
    {
     "data": {
      "text/plain": [
       "'0.5'"
      ]
     },
     "execution_count": 83,
     "metadata": {},
     "output_type": "execute_result"
    }
   ],
   "source": [
    "porosity"
   ]
  },
  {
   "cell_type": "code",
   "execution_count": 84,
   "id": "26f98899",
   "metadata": {},
   "outputs": [
    {
     "data": {
      "text/plain": [
       "str"
      ]
     },
     "execution_count": 84,
     "metadata": {},
     "output_type": "execute_result"
    }
   ],
   "source": [
    "type(porosity)"
   ]
  },
  {
   "cell_type": "code",
   "execution_count": 94,
   "id": "4fe1626b",
   "metadata": {},
   "outputs": [
    {
     "name": "stdout",
     "output_type": "stream",
     "text": [
      "Enter the formation porosity: 0.4\n"
     ]
    }
   ],
   "source": [
    "porosity = float(input('Enter the formation porosity: '))"
   ]
  },
  {
   "cell_type": "code",
   "execution_count": 90,
   "id": "ee19a8c3",
   "metadata": {},
   "outputs": [
    {
     "data": {
      "text/plain": [
       "0.58"
      ]
     },
     "execution_count": 90,
     "metadata": {},
     "output_type": "execute_result"
    }
   ],
   "source": [
    "porosity"
   ]
  },
  {
   "cell_type": "code",
   "execution_count": 91,
   "id": "b4045a83",
   "metadata": {},
   "outputs": [
    {
     "data": {
      "text/plain": [
       "float"
      ]
     },
     "execution_count": 91,
     "metadata": {},
     "output_type": "execute_result"
    }
   ],
   "source": [
    "type(porosity)"
   ]
  },
  {
   "cell_type": "code",
   "execution_count": 95,
   "id": "32e9ae74",
   "metadata": {},
   "outputs": [
    {
     "name": "stdout",
     "output_type": "stream",
     "text": [
      "Enter perm value: 20\n"
     ]
    }
   ],
   "source": [
    "perm = float(input('Enter perm value: '))"
   ]
  },
  {
   "cell_type": "code",
   "execution_count": 96,
   "id": "15bf2f7a",
   "metadata": {},
   "outputs": [
    {
     "name": "stdout",
     "output_type": "stream",
     "text": [
      "Formation Porosity is 0.4, perm is 20\n"
     ]
    }
   ],
   "source": [
    "print('Formation Porosity is 0.4, perm is 20')"
   ]
  },
  {
   "cell_type": "code",
   "execution_count": 100,
   "id": "bdc6c657",
   "metadata": {},
   "outputs": [
    {
     "name": "stdout",
     "output_type": "stream",
     "text": [
      "Enter the formation porosity: 0.45\n",
      "Enter perm value: 25\n",
      "Formation Porosity is 0.45, perm is 25.0\n"
     ]
    }
   ],
   "source": [
    "#STring Formating\n",
    "porosity = float(input('Enter the formation porosity: '))\n",
    "perm = float(input('Enter perm value: '))\n",
    "print(f'Formation Porosity is {porosity}, perm is {perm}')"
   ]
  },
  {
   "cell_type": "code",
   "execution_count": 101,
   "id": "48934670",
   "metadata": {},
   "outputs": [],
   "source": [
    "## Booleans and Comparisons"
   ]
  },
  {
   "cell_type": "code",
   "execution_count": 102,
   "id": "82fc5462",
   "metadata": {},
   "outputs": [
    {
     "data": {
      "text/plain": [
       "False"
      ]
     },
     "execution_count": 102,
     "metadata": {},
     "output_type": "execute_result"
    }
   ],
   "source": [
    "2==3"
   ]
  },
  {
   "cell_type": "code",
   "execution_count": 103,
   "id": "f8d91dd0",
   "metadata": {},
   "outputs": [
    {
     "data": {
      "text/plain": [
       "True"
      ]
     },
     "execution_count": 103,
     "metadata": {},
     "output_type": "execute_result"
    }
   ],
   "source": [
    "2<3"
   ]
  },
  {
   "cell_type": "code",
   "execution_count": 104,
   "id": "44eb1213",
   "metadata": {},
   "outputs": [
    {
     "data": {
      "text/plain": [
       "True"
      ]
     },
     "execution_count": 104,
     "metadata": {},
     "output_type": "execute_result"
    }
   ],
   "source": [
    "2!=3"
   ]
  },
  {
   "cell_type": "code",
   "execution_count": 105,
   "id": "5235072f",
   "metadata": {},
   "outputs": [],
   "source": [
    "a=3"
   ]
  },
  {
   "cell_type": "code",
   "execution_count": 106,
   "id": "0163d962",
   "metadata": {},
   "outputs": [
    {
     "data": {
      "text/plain": [
       "3"
      ]
     },
     "execution_count": 106,
     "metadata": {},
     "output_type": "execute_result"
    }
   ],
   "source": [
    "a"
   ]
  },
  {
   "cell_type": "code",
   "execution_count": 107,
   "id": "79f930f6",
   "metadata": {},
   "outputs": [],
   "source": [
    "## assingning variable: =\n",
    "## comparison : =="
   ]
  },
  {
   "cell_type": "code",
   "execution_count": 109,
   "id": "e9349a78",
   "metadata": {},
   "outputs": [
    {
     "data": {
      "text/plain": [
       "True"
      ]
     },
     "execution_count": 109,
     "metadata": {},
     "output_type": "execute_result"
    }
   ],
   "source": [
    "5>3 and 5<7 "
   ]
  },
  {
   "cell_type": "code",
   "execution_count": 110,
   "id": "2bab0b23",
   "metadata": {},
   "outputs": [
    {
     "data": {
      "text/plain": [
       "True"
      ]
     },
     "execution_count": 110,
     "metadata": {},
     "output_type": "execute_result"
    }
   ],
   "source": [
    "5>3 or 5>7"
   ]
  },
  {
   "cell_type": "markdown",
   "id": "e0d2d349",
   "metadata": {},
   "source": [
    "## If -else: \n",
    "\n",
    "Identation\n",
    "\n",
    "- space at beginning of code\n",
    "- python uses identation to indicate a block of code"
   ]
  },
  {
   "cell_type": "code",
   "execution_count": 112,
   "id": "9b291192",
   "metadata": {},
   "outputs": [
    {
     "name": "stdout",
     "output_type": "stream",
     "text": [
      "hell0\n",
      "always run\n"
     ]
    }
   ],
   "source": [
    "if 1>2:\n",
    "    \n",
    "    print('Five is greater than  2')\n",
    "    print('It is true')\n",
    "\n",
    "else:\n",
    "    print('hell0')\n",
    "print('always run')"
   ]
  },
  {
   "cell_type": "code",
   "execution_count": 115,
   "id": "62a7857d",
   "metadata": {},
   "outputs": [
    {
     "name": "stdout",
     "output_type": "stream",
     "text": [
      "Enter the intial Reservoir pressure(psia):  200\n",
      "Enter the bubble point pressure(psia) of reservoir fluid:  250\n"
     ]
    }
   ],
   "source": [
    "Pr = float(input('Enter the intial Reservoir pressure(psia):  '))\n",
    "Pb = float(input('Enter the bubble point pressure(psia) of reservoir fluid:  '))"
   ]
  },
  {
   "cell_type": "code",
   "execution_count": 116,
   "id": "e29b1457",
   "metadata": {},
   "outputs": [
    {
     "name": "stdout",
     "output_type": "stream",
     "text": [
      "Gas has been evolved from your reservoir, so your reservoir has both phases: Oil and Gas\n"
     ]
    }
   ],
   "source": [
    "if Pr>Pb:\n",
    "    print('Your reservoir is Undersaturated Oil Reservoir')\n",
    "elif Pr == Pb:\n",
    "    print('Your reservoir is Saturated Oil Reservoir')\n",
    "else:\n",
    "    print('Gas has been evolved from your reservoir, so your reservoir has both phases: Oil and Gas')"
   ]
  },
  {
   "cell_type": "code",
   "execution_count": 117,
   "id": "3c456271",
   "metadata": {},
   "outputs": [],
   "source": [
    "a = 5\n",
    "b = 3"
   ]
  },
  {
   "cell_type": "code",
   "execution_count": 121,
   "id": "848bcfa0",
   "metadata": {},
   "outputs": [
    {
     "name": "stdout",
     "output_type": "stream",
     "text": [
      "Enter operation you waant to do(add,sub,mul): div\n",
      "Enter valid operation\n"
     ]
    }
   ],
   "source": [
    "opr = input('Enter operation you waant to do(add,sub,mul): ')\n",
    "\n",
    "if opr == 'add':\n",
    "    print(a+b)\n",
    "elif opr =='sub':\n",
    "    print(a-b)\n",
    "elif opr =='mul':\n",
    "    print(a*b)\n",
    "else:\n",
    "    print('Enter valid operation')"
   ]
  },
  {
   "cell_type": "markdown",
   "id": "a6e6d9d9",
   "metadata": {},
   "source": [
    "## While loops: To repeat a block of code again and again, until the condition satisfies\n",
    "\n",
    "- The code in body of while loop is executed repeatedly. Iterations"
   ]
  },
  {
   "cell_type": "code",
   "execution_count": 122,
   "id": "b9fee196",
   "metadata": {},
   "outputs": [
    {
     "name": "stdout",
     "output_type": "stream",
     "text": [
      "2000 is not abnormal\n",
      "2100 is not abnormal\n",
      "2200 is not abnormal\n",
      "2300 is not abnormal\n",
      "2400 is not abnormal\n",
      "out of loop\n"
     ]
    }
   ],
   "source": [
    "pressure = 2000\n",
    "\n",
    "while pressure<2500:\n",
    "    print(f'{pressure} is not abnormal')\n",
    "    pressure=pressure+100\n",
    "print('out of loop')"
   ]
  },
  {
   "cell_type": "code",
   "execution_count": 124,
   "id": "eb1f24d3",
   "metadata": {},
   "outputs": [
    {
     "name": "stdout",
     "output_type": "stream",
     "text": [
      "Enter the Password: 556\n",
      "Wrong password Enter again\n",
      "Enter the Password: dsfvsd\n",
      "Wrong password Enter again\n",
      "Enter the Password: sdfsdfsd\n",
      "Wrong password Enter again\n",
      "Enter the Password: dasdcsdvc\n",
      "Wrong password Enter again\n",
      "Enter the Password: Petroleum\n",
      "Access Granted\n"
     ]
    }
   ],
   "source": [
    "Password = input('Enter the Password: ')\n",
    "\n",
    "while Password!='Petroleum':\n",
    "    print('Wrong password Enter again')\n",
    "    Password = input('Enter the Password: ')\n",
    "print('Access Granted')"
   ]
  },
  {
   "cell_type": "markdown",
   "id": "5f39be88",
   "metadata": {},
   "source": [
    "## Multi Value Containers Data Structures and Sequences "
   ]
  },
  {
   "cell_type": "markdown",
   "id": "7850374a",
   "metadata": {},
   "source": [
    "#### Lists\n",
    "\n",
    "- Used to store multiple items in a single variable\n",
    "\n",
    "- square brackets[]\n",
    "\n",
    "- Mutable: Change them: length,elements,elements values"
   ]
  },
  {
   "cell_type": "code",
   "execution_count": null,
   "id": "ae852aeb",
   "metadata": {},
   "outputs": [],
   "source": [
    "porosity = [0.3,0.5,0.9,0.2,0.1,0.4]"
   ]
  },
  {
   "cell_type": "code",
   "execution_count": null,
   "id": "1e5531c0",
   "metadata": {},
   "outputs": [],
   "source": [
    "\n",
    "porosity"
   ]
  },
  {
   "cell_type": "code",
   "execution_count": null,
   "id": "5f16df21",
   "metadata": {},
   "outputs": [],
   "source": [
    "type(porosity)"
   ]
  },
  {
   "cell_type": "code",
   "execution_count": null,
   "id": "88c5d8b6",
   "metadata": {},
   "outputs": [],
   "source": [
    "#Indexing\n",
    "\n",
    "porosity[2]"
   ]
  },
  {
   "cell_type": "code",
   "execution_count": null,
   "id": "2f4c3569",
   "metadata": {},
   "outputs": [],
   "source": [
    "porosity[2]*100"
   ]
  },
  {
   "cell_type": "code",
   "execution_count": null,
   "id": "a9e9497f",
   "metadata": {},
   "outputs": [],
   "source": [
    "#negative indexing\n",
    "porosity[-1]"
   ]
  },
  {
   "cell_type": "code",
   "execution_count": null,
   "id": "c9f0991a",
   "metadata": {},
   "outputs": [],
   "source": [
    "porosity[5]"
   ]
  },
  {
   "cell_type": "code",
   "execution_count": null,
   "id": "69fa1610",
   "metadata": {},
   "outputs": [],
   "source": [
    "porosity[3] = 0.546"
   ]
  },
  {
   "cell_type": "code",
   "execution_count": null,
   "id": "45479d09",
   "metadata": {},
   "outputs": [],
   "source": [
    "porosity"
   ]
  },
  {
   "cell_type": "code",
   "execution_count": null,
   "id": "ad4d6f0f",
   "metadata": {},
   "outputs": [],
   "source": [
    "len(porosity)"
   ]
  },
  {
   "cell_type": "code",
   "execution_count": null,
   "id": "1a994734",
   "metadata": {},
   "outputs": [],
   "source": [
    "porosity.append(0.85)"
   ]
  },
  {
   "cell_type": "code",
   "execution_count": null,
   "id": "13de2093",
   "metadata": {},
   "outputs": [],
   "source": [
    "porosity"
   ]
  },
  {
   "cell_type": "code",
   "execution_count": null,
   "id": "365968ed",
   "metadata": {},
   "outputs": [],
   "source": [
    "##EMpty list can be used to populate it later with certain calculations\n",
    "specificgravity_of_crudes = [0.8,0.7,0.85,0.76,0.91,0.64,0.65]\n",
    "denWater = 62.4\n"
   ]
  },
  {
   "cell_type": "code",
   "execution_count": null,
   "id": "34b1afdc",
   "metadata": {},
   "outputs": [],
   "source": [
    "CrudeDensity = []\n",
    "\n",
    "i = 0 \n",
    "\n",
    "while i<len(specificgravity_of_crudes):\n",
    "    denO = denWater*specificgravity_of_crudes[i]\n",
    "    CrudeDensity.append(denO)\n",
    "    i+=1"
   ]
  },
  {
   "cell_type": "code",
   "execution_count": null,
   "id": "a756e622",
   "metadata": {},
   "outputs": [],
   "source": [
    "CrudeDensity"
   ]
  },
  {
   "cell_type": "code",
   "execution_count": null,
   "id": "e2cb2ed4",
   "metadata": {},
   "outputs": [],
   "source": []
  }
 ],
 "metadata": {
  "kernelspec": {
   "display_name": "Python 3",
   "language": "python",
   "name": "python3"
  },
  "language_info": {
   "codemirror_mode": {
    "name": "ipython",
    "version": 3
   },
   "file_extension": ".py",
   "mimetype": "text/x-python",
   "name": "python",
   "nbconvert_exporter": "python",
   "pygments_lexer": "ipython3",
   "version": "3.8.8"
  }
 },
 "nbformat": 4,
 "nbformat_minor": 5
}
